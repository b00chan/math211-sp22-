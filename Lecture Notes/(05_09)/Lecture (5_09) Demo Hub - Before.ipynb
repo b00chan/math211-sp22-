{
 "cells": [
  {
   "cell_type": "markdown",
   "id": "23ee553c",
   "metadata": {},
   "source": [
    "# Importing our modules"
   ]
  },
  {
   "cell_type": "code",
   "execution_count": null,
   "id": "6faa871a",
   "metadata": {},
   "outputs": [],
   "source": [
    "import numpy as np\n",
    "from datascience import *\n",
    "import math as m\n",
    "\n",
    "# These lines do some fancy plotting magic.\n",
    "import matplotlib\n",
    "%matplotlib inline\n",
    "import matplotlib.pyplot as plt\n",
    "plt.style.use('fivethirtyeight')\n",
    "import warnings\n",
    "warnings.simplefilter('ignore', FutureWarning)"
   ]
  },
  {
   "cell_type": "code",
   "execution_count": null,
   "id": "029a8f39",
   "metadata": {},
   "outputs": [],
   "source": [
    "spreads = Table.read_table(\"spreads.csv\")\n",
    "iris =  Table.read_table(\"IRIS.csv\")"
   ]
  },
  {
   "cell_type": "markdown",
   "id": "d24f423b",
   "metadata": {},
   "source": [
    "# Demo Request: Homework 10, Question 3.7"
   ]
  },
  {
   "cell_type": "markdown",
   "id": "c4288136",
   "metadata": {},
   "source": [
    "**Question 3.7.** Define a function called `fit_line`.  It should take a table like `spreads` (with the same column names and meanings) as its argument.  It should return an array containing the slope (as the first element) and intercept (as the second element) of the least-squares regression line predicting outcome from spread for that table. **(3 points)**\n",
    "\n",
    "*Hint*: Define a function `rmse` within `fit_line` that takes a slope and intercept as its arguments. `rmse` will use the table passed into `fit_line` to compute predicted outcomes and then return the root mean squared error between the predicted and actual outcomes. Within `fit_line`, you can call `rmse` the way you would any other function.\n",
    "\n",
    "If you haven't tried to use the `minimize` [function](http://data8.org/sp22/python-reference.html) yet, now is a great time to practice. Here's an [example from the textbook](https://www.inferentialthinking.com/chapters/15/3/Method_of_Least_Squares.html#numerical-optimization).\n",
    "\n",
    "<!--\n",
    "BEGIN QUESTION\n",
    "name: q3_7\n",
    "manual: false\n",
    "points:\n",
    " - 0\n",
    " - 0\n",
    " - 3\n",
    "-->"
   ]
  },
  {
   "cell_type": "code",
   "execution_count": null,
   "id": "b09bcd23",
   "metadata": {},
   "outputs": [],
   "source": [
    "\n",
    "def fit_line(tbl):\n",
    "    # Your code may need more than 1 line below here.\n",
    "    def rmse(..., ...):\n",
    "        return ... \n",
    "    return ... \n",
    "\n",
    "    \n",
    "# Here is an example call to your function.  To test your function,\n",
    "# figure out the right slope and intercept by hand.\n",
    "example_table = Table().with_columns(\n",
    "    \"Spread\", make_array(0, 1),\n",
    "    \"Outcome\", make_array(1, 3))\n",
    "fit_line(example_table)"
   ]
  },
  {
   "cell_type": "markdown",
   "id": "1f3b8137",
   "metadata": {},
   "source": [
    "### To help us answer this question, we will rely upon the results of Question 3.5 "
   ]
  },
  {
   "cell_type": "markdown",
   "id": "02c84c59",
   "metadata": {},
   "source": [
    "**Question 3.5.** Define a function called `errors`.  It should take three arguments:\n",
    "1. a table `tbl` like `spreads` (with the same column names and meanings, but not necessarily the same data)\n",
    "2. the `slope` of a line (a number)\n",
    "3. the `intercept` of a line (a number).\n",
    "\n",
    "It should **return an array of the errors** made when a line with that slope and intercept is used to predict outcome from spread for each game in the given table. **(3 points)**\n",
    "\n",
    "*Note*: Make sure you are returning an array of the errors, and not the RMSE. "
   ]
  },
  {
   "cell_type": "code",
   "execution_count": null,
   "id": "e1e0a341",
   "metadata": {},
   "outputs": [],
   "source": [
    "def errors(tbl, slope, intercept):\n",
    "    predictions = slope * tbl.column(\"Spread\") + intercept \n",
    "    return tbl.column(\"Outcome\") - predictions "
   ]
  },
  {
   "cell_type": "markdown",
   "id": "eb2b2245",
   "metadata": {},
   "source": [
    "Note that the question above helps us calculate an array of **residuals** where we find the difference between the our estimate of *y* versus the observed value of *y*. <br>  \n",
    "\n",
    "In the prompt for question 3.7, within the `fit_line` function, we see the start of creating the `rmse` function. Therefore, we want to use the `errors` function to help calculate the **Root Mean Square Error**. "
   ]
  },
  {
   "cell_type": "code",
   "execution_count": null,
   "id": "b949df65",
   "metadata": {},
   "outputs": [],
   "source": [
    "# This is from: Lecture (5_04) Demo Hub - After\n",
    "def rmse_from_05_04(slope,intercept):\n",
    "    x_array = birds.column('Egg Weight')\n",
    "    y_array = birds.column('Bird Weight')\n",
    "    \n",
    "    prediction = slope * x_array + intercept\n",
    "    errors = y_array - prediction #here is the output of the errors function defined above. \n",
    "    \n",
    "    return (np.mean(errors**2))**(1/2)"
   ]
  },
  {
   "cell_type": "markdown",
   "id": "93d81d3a",
   "metadata": {},
   "source": [
    "Once we define the function (`rmse`) we can take advantage of the `minimize` function to help identify the slope and intercept that yields the minimum error, the line of best fit as desired. "
   ]
  },
  {
   "cell_type": "code",
   "execution_count": null,
   "id": "747f2c48",
   "metadata": {},
   "outputs": [],
   "source": [
    "\n",
    "def fit_line(tbl):\n",
    "    # Your code may need more than 1 line below here.\n",
    "    def rmse(..., ...):\n",
    "        return ...\n",
    "    return ...\n",
    "\n",
    "    \n",
    "# Here is an example call to your function.  To test your function,\n",
    "# figure out the right slope and intercept by hand.\n",
    "example_table = Table().with_columns(\n",
    "    \"Spread\", make_array(0, 1),\n",
    "    \"Outcome\", make_array(1, 3))\n",
    "\n",
    "#Testing the output:\n",
    "print('Output:\\t',fit_line(example_table))\n",
    "print('Expected: [2., 1.]')"
   ]
  },
  {
   "cell_type": "markdown",
   "id": "600af5a9",
   "metadata": {},
   "source": [
    "# Classification - Examination through ScatterPlots"
   ]
  },
  {
   "cell_type": "code",
   "execution_count": null,
   "id": "25313a65",
   "metadata": {},
   "outputs": [],
   "source": [
    "iris"
   ]
  },
  {
   "cell_type": "code",
   "execution_count": null,
   "id": "e5ae15cd",
   "metadata": {},
   "outputs": [],
   "source": [
    "#let's pick two of the column labels above and observe the scatter plot. \n",
    "# Note that each of the three species will be a different color on the plot to help us differentiate \n",
    "# the iris flower species\n",
    "\n",
    "iris.scatter(... , ... , group = 'species')"
   ]
  },
  {
   "cell_type": "markdown",
   "id": "0c5d8f8a",
   "metadata": {},
   "source": [
    "# Identifying key variables for classification"
   ]
  },
  {
   "cell_type": "code",
   "execution_count": null,
   "id": "edd23c40",
   "metadata": {
    "scrolled": false
   },
   "outputs": [],
   "source": [
    "#Now let's look at comparing ALL of the labels to each other in pairwise comparisons\n",
    "#run the code below \n",
    "\n",
    "labels_without_species = list(iris.labels)[:-1]\n",
    "\n",
    "for x in labels_without_species:\n",
    "    for y in labels_without_species:\n",
    "        if x != y:\n",
    "            iris.scatter(x,y,group='species')"
   ]
  },
  {
   "cell_type": "markdown",
   "id": "2dc677fb",
   "metadata": {},
   "source": [
    "# Creating Training and Testing Data Sets"
   ]
  },
  {
   "cell_type": "code",
   "execution_count": null,
   "id": "49edbe14",
   "metadata": {},
   "outputs": [],
   "source": [
    "print('The iris data set has',iris.num_rows,'flowers represented in the sameple')"
   ]
  },
  {
   "cell_type": "markdown",
   "id": "e29a1d8b",
   "metadata": {},
   "source": [
    "Let's separate 100 rows of data and use it for the training set, and then use the remaining 50 rows of data for the test set. Since the table is organized nicely by species (which is what we are classifying) we want to mix these rows up. We can do this using the `sample` method to shuffle, and then `take` the first 100 rows for training, and the last 50 rows for testing"
   ]
  },
  {
   "cell_type": "code",
   "execution_count": null,
   "id": "89da7daa",
   "metadata": {},
   "outputs": [],
   "source": [
    "shuffled_iris = ...\n",
    "\n",
    "train_iris = ...\n",
    "test_iris = ...\n",
    "\n",
    "print(\"Training set:\\t\",   train_iris.num_rows, \"examples\")\n",
    "print(\"Test set:\\t\",       test_iris.num_rows, \"examples\")\n",
    "train.show(5), test.show(5);"
   ]
  },
  {
   "cell_type": "markdown",
   "id": "b537c46d",
   "metadata": {},
   "source": [
    "# The Distance Formula"
   ]
  },
  {
   "cell_type": "code",
   "execution_count": null,
   "id": "1c4069c5",
   "metadata": {
    "scrolled": true
   },
   "outputs": [],
   "source": [
    "((3 - 0)**2 + (4 - 0)**2)**(0.5)"
   ]
  },
  {
   "cell_type": "code",
   "execution_count": null,
   "id": "e498f2d9",
   "metadata": {},
   "outputs": [],
   "source": [
    "first = make_array(0,0)\n",
    "second = make_array(3,4)\n",
    "\n",
    "..."
   ]
  },
  {
   "cell_type": "code",
   "execution_count": null,
   "id": "8fb59972",
   "metadata": {},
   "outputs": [],
   "source": [
    "first_iris = iris.column('petal_length')\n",
    "second_iris = iris.column('petal_width')\n",
    "\n",
    "(sum((first_iris - second_iris)**2))**(0.5)"
   ]
  },
  {
   "cell_type": "code",
   "execution_count": null,
   "id": "41478bcf",
   "metadata": {},
   "outputs": [],
   "source": []
  }
 ],
 "metadata": {
  "kernelspec": {
   "display_name": "Python 3 (ipykernel)",
   "language": "python",
   "name": "python3"
  },
  "language_info": {
   "codemirror_mode": {
    "name": "ipython",
    "version": 3
   },
   "file_extension": ".py",
   "mimetype": "text/x-python",
   "name": "python",
   "nbconvert_exporter": "python",
   "pygments_lexer": "ipython3",
   "version": "3.7.8"
  }
 },
 "nbformat": 4,
 "nbformat_minor": 5
}
