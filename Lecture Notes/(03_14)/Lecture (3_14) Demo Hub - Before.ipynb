{
 "cells": [
  {
   "cell_type": "markdown",
   "id": "5d0b51f8",
   "metadata": {},
   "source": [
    "# Setting up our modules"
   ]
  },
  {
   "cell_type": "code",
   "execution_count": null,
   "id": "9159fdf0",
   "metadata": {},
   "outputs": [],
   "source": [
    "import numpy as np\n",
    "from datascience import *\n",
    "\n",
    "# These lines do some fancy plotting magic.\n",
    "import matplotlib\n",
    "%matplotlib inline\n",
    "import matplotlib.pyplot as plt\n",
    "plt.style.use('fivethirtyeight')\n",
    "import warnings\n",
    "warnings.simplefilter('ignore', FutureWarning)"
   ]
  },
  {
   "cell_type": "code",
   "execution_count": null,
   "id": "f8f3d18f",
   "metadata": {},
   "outputs": [],
   "source": [
    "session_heatmap = Table.read_table('Session_HeatMap.csv')"
   ]
  },
  {
   "cell_type": "markdown",
   "id": "5b32509d",
   "metadata": {},
   "source": [
    "# Row Operations"
   ]
  },
  {
   "cell_type": "code",
   "execution_count": null,
   "id": "6903ab08",
   "metadata": {},
   "outputs": [],
   "source": [
    "eight_am = session_heatmap.row(1) \n",
    "eight_am"
   ]
  },
  {
   "cell_type": "code",
   "execution_count": null,
   "id": "8842d851",
   "metadata": {},
   "outputs": [],
   "source": [
    "eight_am.item(1)"
   ]
  },
  {
   "cell_type": "code",
   "execution_count": null,
   "id": "b7cbec9b",
   "metadata": {},
   "outputs": [],
   "source": [
    "sum(eight_am)"
   ]
  },
  {
   "cell_type": "code",
   "execution_count": null,
   "id": "cf5bc9d3",
   "metadata": {},
   "outputs": [],
   "source": [
    "sum(eight_am) - eight_am.item(0)"
   ]
  },
  {
   "cell_type": "code",
   "execution_count": null,
   "id": "d6e0bd09",
   "metadata": {},
   "outputs": [],
   "source": [
    "session_heatmap.apply(sum)"
   ]
  },
  {
   "cell_type": "code",
   "execution_count": null,
   "id": "7073946d",
   "metadata": {},
   "outputs": [],
   "source": []
  },
  {
   "cell_type": "code",
   "execution_count": null,
   "id": "d7529e0c",
   "metadata": {},
   "outputs": [],
   "source": []
  },
  {
   "cell_type": "code",
   "execution_count": null,
   "id": "4245b67e",
   "metadata": {},
   "outputs": [],
   "source": []
  },
  {
   "cell_type": "markdown",
   "id": "6da47102",
   "metadata": {},
   "source": [
    "# Probability Simulations "
   ]
  },
  {
   "cell_type": "code",
   "execution_count": null,
   "id": "b47a3f01",
   "metadata": {},
   "outputs": [],
   "source": [
    "coin = make_array('heads','tails')\n",
    "coin"
   ]
  },
  {
   "cell_type": "code",
   "execution_count": null,
   "id": "108e0df1",
   "metadata": {},
   "outputs": [],
   "source": []
  },
  {
   "cell_type": "code",
   "execution_count": null,
   "id": "912109e7",
   "metadata": {},
   "outputs": [],
   "source": [
    "dice = np.arange(6)#+1\n",
    "dice"
   ]
  },
  {
   "cell_type": "code",
   "execution_count": null,
   "id": "81b4a35d",
   "metadata": {},
   "outputs": [],
   "source": []
  },
  {
   "cell_type": "code",
   "execution_count": null,
   "id": "53111c4b",
   "metadata": {},
   "outputs": [],
   "source": []
  }
 ],
 "metadata": {
  "kernelspec": {
   "display_name": "Python 3 (ipykernel)",
   "language": "python",
   "name": "python3"
  },
  "language_info": {
   "codemirror_mode": {
    "name": "ipython",
    "version": 3
   },
   "file_extension": ".py",
   "mimetype": "text/x-python",
   "name": "python",
   "nbconvert_exporter": "python",
   "pygments_lexer": "ipython3",
   "version": "3.7.8"
  }
 },
 "nbformat": 4,
 "nbformat_minor": 5
}
