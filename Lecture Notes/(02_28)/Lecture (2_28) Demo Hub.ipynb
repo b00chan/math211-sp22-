{
 "cells": [
  {
   "cell_type": "markdown",
   "id": "66c67176",
   "metadata": {},
   "source": [
    "# Setting up our modules"
   ]
  },
  {
   "cell_type": "code",
   "execution_count": null,
   "id": "51adc3dc",
   "metadata": {},
   "outputs": [],
   "source": [
    "import numpy as np\n",
    "from datascience import *\n",
    "import random as r"
   ]
  },
  {
   "cell_type": "code",
   "execution_count": null,
   "id": "baecbc9a",
   "metadata": {},
   "outputs": [],
   "source": [
    "player_data = Table.read_table('player_data.csv')\n",
    "salary_data = Table.read_table('salary_data.csv')\n",
    "customers = Table.read_table('Customers.csv')"
   ]
  },
  {
   "cell_type": "code",
   "execution_count": null,
   "id": "c8897ba2",
   "metadata": {},
   "outputs": [],
   "source": [
    "player_data"
   ]
  },
  {
   "cell_type": "code",
   "execution_count": null,
   "id": "e9999a62",
   "metadata": {},
   "outputs": [],
   "source": [
    "salary_data"
   ]
  },
  {
   "cell_type": "code",
   "execution_count": null,
   "id": "2e07b281",
   "metadata": {},
   "outputs": [],
   "source": [
    "customers"
   ]
  },
  {
   "cell_type": "markdown",
   "id": "f31d9bf3",
   "metadata": {},
   "source": [
    "# Joining Tables"
   ]
  },
  {
   "cell_type": "code",
   "execution_count": null,
   "id": "f93dd367",
   "metadata": {},
   "outputs": [],
   "source": [
    "player_data.join('Name',salary_data,'PlayerName').where('Team','SAC').show()"
   ]
  },
  {
   "cell_type": "code",
   "execution_count": null,
   "id": "ef7f0b22",
   "metadata": {},
   "outputs": [],
   "source": []
  },
  {
   "cell_type": "code",
   "execution_count": null,
   "id": "06b33887",
   "metadata": {},
   "outputs": [],
   "source": []
  },
  {
   "cell_type": "markdown",
   "id": "e0014aaa",
   "metadata": {},
   "source": [
    "# Let's take a look at Lists"
   ]
  },
  {
   "cell_type": "code",
   "execution_count": null,
   "id": "2934faf0",
   "metadata": {},
   "outputs": [],
   "source": [
    "this_list = [1,2,3]"
   ]
  },
  {
   "cell_type": "code",
   "execution_count": null,
   "id": "bf7e38ab",
   "metadata": {},
   "outputs": [],
   "source": [
    "this_array = make_array(1,2,3)"
   ]
  },
  {
   "cell_type": "code",
   "execution_count": null,
   "id": "45a34c36",
   "metadata": {},
   "outputs": [],
   "source": [
    "print(this_list*3)\n",
    "print(this_array*3)"
   ]
  },
  {
   "cell_type": "code",
   "execution_count": null,
   "id": "4efd1fd6",
   "metadata": {},
   "outputs": [],
   "source": []
  },
  {
   "cell_type": "code",
   "execution_count": null,
   "id": "a1316ef4",
   "metadata": {},
   "outputs": [],
   "source": []
  },
  {
   "cell_type": "markdown",
   "id": "58333706",
   "metadata": {},
   "source": [
    "## These lists help us 'squeeze' more data into an argument that usually only takes one!"
   ]
  },
  {
   "cell_type": "markdown",
   "id": "2e8a9e7b",
   "metadata": {},
   "source": [
    "As an example, let's take a look at 'player_data'. You can group the players by more than just a single value to consider. Let's take a look at the cell below:"
   ]
  },
  {
   "cell_type": "code",
   "execution_count": null,
   "id": "565b1f70",
   "metadata": {
    "scrolled": false
   },
   "outputs": [],
   "source": [
    "player_data.show(5)\n",
    "player_data.group(['Team','Name'])"
   ]
  },
  {
   "cell_type": "code",
   "execution_count": null,
   "id": "e9ed2534",
   "metadata": {},
   "outputs": [],
   "source": [
    "(player_data\n",
    " .group(['Team','Age'],np.average))"
   ]
  },
  {
   "cell_type": "markdown",
   "id": "9ec68683",
   "metadata": {},
   "source": [
    "# Pivoting Tables"
   ]
  },
  {
   "cell_type": "code",
   "execution_count": null,
   "id": "74654d75",
   "metadata": {},
   "outputs": [],
   "source": []
  },
  {
   "cell_type": "code",
   "execution_count": null,
   "id": "3da385f9",
   "metadata": {},
   "outputs": [],
   "source": []
  },
  {
   "cell_type": "code",
   "execution_count": null,
   "id": "b1b17c34",
   "metadata": {},
   "outputs": [],
   "source": []
  },
  {
   "cell_type": "code",
   "execution_count": null,
   "id": "afc0cdd9",
   "metadata": {},
   "outputs": [],
   "source": []
  },
  {
   "cell_type": "code",
   "execution_count": null,
   "id": "61453103",
   "metadata": {},
   "outputs": [],
   "source": []
  }
 ],
 "metadata": {
  "kernelspec": {
   "display_name": "Python 3 (ipykernel)",
   "language": "python",
   "name": "python3"
  },
  "language_info": {
   "codemirror_mode": {
    "name": "ipython",
    "version": 3
   },
   "file_extension": ".py",
   "mimetype": "text/x-python",
   "name": "python",
   "nbconvert_exporter": "python",
   "pygments_lexer": "ipython3",
   "version": "3.7.8"
  }
 },
 "nbformat": 4,
 "nbformat_minor": 5
}
