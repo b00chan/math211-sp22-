{
 "cells": [
  {
   "cell_type": "markdown",
   "id": "3d1fa790",
   "metadata": {},
   "source": [
    "# Setting up our modules"
   ]
  },
  {
   "cell_type": "code",
   "execution_count": null,
   "id": "85938f96",
   "metadata": {},
   "outputs": [],
   "source": [
    "import numpy as np\n",
    "from datascience import *"
   ]
  },
  {
   "cell_type": "code",
   "execution_count": null,
   "id": "6fa2c56a",
   "metadata": {},
   "outputs": [],
   "source": [
    "youtube = Table.read_table('topSubscribed.csv')\n",
    "customers = Table.read_table('Customers.csv')"
   ]
  },
  {
   "cell_type": "code",
   "execution_count": null,
   "id": "703ed17b",
   "metadata": {},
   "outputs": [],
   "source": [
    "youtube"
   ]
  },
  {
   "cell_type": "code",
   "execution_count": null,
   "id": "80160b99",
   "metadata": {},
   "outputs": [],
   "source": [
    "customers"
   ]
  },
  {
   "cell_type": "markdown",
   "id": "5cec2e5a",
   "metadata": {},
   "source": [
    "# Defining Functions"
   ]
  },
  {
   "cell_type": "markdown",
   "id": "54e0f897",
   "metadata": {},
   "source": [
    "Let's convert some well-known formulas into functions"
   ]
  },
  {
   "cell_type": "code",
   "execution_count": null,
   "id": "f93537c9",
   "metadata": {},
   "outputs": [],
   "source": [
    "def hypotenuse_of_right_triangle(a,b):\n",
    "    '''a**2 + b** = c**2 '''\n",
    "    hypotenuse = ...\n",
    "    return hypotenuse"
   ]
  },
  {
   "cell_type": "code",
   "execution_count": null,
   "id": "f663462f",
   "metadata": {},
   "outputs": [],
   "source": [
    "hypotenuse_of_right_triangle(3,4)"
   ]
  },
  {
   "cell_type": "code",
   "execution_count": null,
   "id": "562ad955",
   "metadata": {},
   "outputs": [],
   "source": [
    "def quadratic_formula(a,b,c):\n",
    "    ...\n",
    "    x_1 = ...\n",
    "    x_2 = ...\n",
    "    return x "
   ]
  },
  {
   "cell_type": "code",
   "execution_count": null,
   "id": "3fc19d5c",
   "metadata": {},
   "outputs": [],
   "source": [
    "quadratic_formula(2,12,16)"
   ]
  },
  {
   "cell_type": "markdown",
   "id": "04316aeb",
   "metadata": {},
   "source": [
    "We have imported a csv file with the top 1000 most subscribed YouTube Channels. One column of data contains the year in which the YouTube channel started. Let's define a function in which we calculate the 'age' of the channel"
   ]
  },
  {
   "cell_type": "code",
   "execution_count": null,
   "id": "5a5cd4f4",
   "metadata": {},
   "outputs": [],
   "source": [
    "def channel_age(...):\n",
    "    ...\n",
    "    return ..."
   ]
  },
  {
   "cell_type": "markdown",
   "id": "21d5a0fd",
   "metadata": {},
   "source": [
    "Let's test our function below (goal is 17):"
   ]
  },
  {
   "cell_type": "code",
   "execution_count": null,
   "id": "ff5a8e44",
   "metadata": {},
   "outputs": [],
   "source": [
    "channel_age(2006)"
   ]
  },
  {
   "cell_type": "markdown",
   "id": "f29d7d57",
   "metadata": {},
   "source": [
    "Let's apply the 'channel_age' function to the entire table by:\n",
    "1) creating a new array using the .apply('Column_label',function_name) method\n",
    "2) using the .with_columns('new_Column_label_name',created_array) method to add that column at the right end"
   ]
  },
  {
   "cell_type": "code",
   "execution_count": null,
   "id": "1e05c392",
   "metadata": {},
   "outputs": [],
   "source": []
  },
  {
   "cell_type": "code",
   "execution_count": null,
   "id": "adadf7a8",
   "metadata": {},
   "outputs": [],
   "source": []
  },
  {
   "cell_type": "markdown",
   "id": "f9ad5562",
   "metadata": {},
   "source": [
    "Let's take a look back at the 'customers' table. In the previous lecture, we observed that there were a long list of unique ages. Let's collapse this variable to consider decades instead. So, for example, ages 20 - 29 get grouped/categorized into a single value: 20('s). "
   ]
  },
  {
   "cell_type": "code",
   "execution_count": null,
   "id": "1ba5b1b6",
   "metadata": {},
   "outputs": [],
   "source": []
  },
  {
   "cell_type": "code",
   "execution_count": null,
   "id": "b24e7b0d",
   "metadata": {},
   "outputs": [],
   "source": []
  },
  {
   "cell_type": "code",
   "execution_count": null,
   "id": "665bb0f5",
   "metadata": {},
   "outputs": [],
   "source": []
  },
  {
   "cell_type": "markdown",
   "id": "2fc2e4d0",
   "metadata": {},
   "source": [
    "# Grouping"
   ]
  },
  {
   "cell_type": "code",
   "execution_count": null,
   "id": "ef454f8c",
   "metadata": {},
   "outputs": [],
   "source": []
  },
  {
   "cell_type": "code",
   "execution_count": null,
   "id": "89fec164",
   "metadata": {},
   "outputs": [],
   "source": []
  },
  {
   "cell_type": "code",
   "execution_count": null,
   "id": "d06c71bf",
   "metadata": {},
   "outputs": [],
   "source": []
  }
 ],
 "metadata": {
  "kernelspec": {
   "display_name": "Python 3 (ipykernel)",
   "language": "python",
   "name": "python3"
  },
  "language_info": {
   "codemirror_mode": {
    "name": "ipython",
    "version": 3
   },
   "file_extension": ".py",
   "mimetype": "text/x-python",
   "name": "python",
   "nbconvert_exporter": "python",
   "pygments_lexer": "ipython3",
   "version": "3.7.8"
  }
 },
 "nbformat": 4,
 "nbformat_minor": 5
}
