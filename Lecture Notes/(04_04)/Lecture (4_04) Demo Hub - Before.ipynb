{
 "cells": [
  {
   "cell_type": "markdown",
   "id": "97e41c25",
   "metadata": {},
   "source": [
    "# Setting up our modules"
   ]
  },
  {
   "cell_type": "code",
   "execution_count": null,
   "id": "dcf31df0",
   "metadata": {},
   "outputs": [],
   "source": [
    "import numpy as np\n",
    "from datascience import *\n",
    "\n",
    "# These lines do some fancy plotting magic.\n",
    "import matplotlib\n",
    "%matplotlib inline\n",
    "import matplotlib.pyplot as plt\n",
    "plt.style.use('fivethirtyeight')\n",
    "import warnings\n",
    "warnings.simplefilter('ignore', FutureWarning)"
   ]
  },
  {
   "cell_type": "markdown",
   "id": "912f9ebb",
   "metadata": {},
   "source": [
    "# Investigating Swain v. Alabama"
   ]
  },
  {
   "cell_type": "code",
   "execution_count": null,
   "id": "b808c00e",
   "metadata": {},
   "outputs": [],
   "source": [
    "black_nonblack_proportion_array = make_array()"
   ]
  },
  {
   "cell_type": "code",
   "execution_count": null,
   "id": "f617f48e",
   "metadata": {},
   "outputs": [],
   "source": [
    "sample_proportions(100,black_nonblack_proportion_array)"
   ]
  },
  {
   "cell_type": "code",
   "execution_count": null,
   "id": "1add2449",
   "metadata": {},
   "outputs": [],
   "source": [
    "simulated_juries = make_array()\n",
    "num_simulations = 1000\n",
    "\n",
    "for i in np.arange(num_simulations):\n",
    "    ...\n"
   ]
  },
  {
   "cell_type": "code",
   "execution_count": null,
   "id": "0d18fb41",
   "metadata": {},
   "outputs": [],
   "source": [
    "t = Table().with_column('Simulated Juries', simulated_juries)\n",
    "t.hist()\n",
    "plt.scatter(8, 0, color='red', s=100, zorder=2);"
   ]
  },
  {
   "cell_type": "code",
   "execution_count": null,
   "id": "68d9356d",
   "metadata": {},
   "outputs": [],
   "source": []
  }
 ],
 "metadata": {
  "kernelspec": {
   "display_name": "Python 3 (ipykernel)",
   "language": "python",
   "name": "python3"
  },
  "language_info": {
   "codemirror_mode": {
    "name": "ipython",
    "version": 3
   },
   "file_extension": ".py",
   "mimetype": "text/x-python",
   "name": "python",
   "nbconvert_exporter": "python",
   "pygments_lexer": "ipython3",
   "version": "3.7.8"
  }
 },
 "nbformat": 4,
 "nbformat_minor": 5
}
