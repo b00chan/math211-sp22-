{
 "cells": [
  {
   "cell_type": "markdown",
   "id": "23ee553c",
   "metadata": {},
   "source": [
    "# Importing our modules"
   ]
  },
  {
   "cell_type": "code",
   "execution_count": null,
   "id": "6faa871a",
   "metadata": {},
   "outputs": [],
   "source": [
    "import numpy as np\n",
    "from datascience import *\n",
    "import math as m\n",
    "\n",
    "# These lines do some fancy plotting magic.\n",
    "import matplotlib\n",
    "%matplotlib inline\n",
    "import matplotlib.pyplot as plt\n",
    "plt.style.use('fivethirtyeight')\n",
    "import warnings\n",
    "warnings.simplefilter('ignore', FutureWarning)"
   ]
  },
  {
   "cell_type": "code",
   "execution_count": null,
   "id": "292f654e",
   "metadata": {},
   "outputs": [],
   "source": [
    "birds = Table.read_table('snowy_plover.csv')\n",
    "birds"
   ]
  },
  {
   "cell_type": "markdown",
   "id": "0bffb155",
   "metadata": {},
   "source": [
    "# Standard Units"
   ]
  },
  {
   "cell_type": "markdown",
   "id": "0cbe9be8",
   "metadata": {},
   "source": [
    "### Let's take a look at the relationship between Egg Weight and Bird Weight"
   ]
  },
  {
   "cell_type": "code",
   "execution_count": null,
   "id": "67dd2503",
   "metadata": {},
   "outputs": [],
   "source": [
    "birds.scatter('Egg Weight','Bird Weight')\n",
    "birds.scatter('Egg Weight','Bird Weight',fit_line=True)"
   ]
  },
  {
   "cell_type": "code",
   "execution_count": null,
   "id": "d2e1bbd2",
   "metadata": {},
   "outputs": [],
   "source": [
    "e_weight_standard_units = ..."
   ]
  },
  {
   "cell_type": "code",
   "execution_count": null,
   "id": "ef1e34aa",
   "metadata": {},
   "outputs": [],
   "source": [
    "b_weight_standard_units = ..."
   ]
  },
  {
   "cell_type": "code",
   "execution_count": null,
   "id": "fa5a776c",
   "metadata": {},
   "outputs": [],
   "source": [
    "def standard_units_convert(input_data):\n",
    "    ...\n",
    "    return ..."
   ]
  },
  {
   "cell_type": "code",
   "execution_count": null,
   "id": "617c6092",
   "metadata": {},
   "outputs": [],
   "source": []
  },
  {
   "cell_type": "code",
   "execution_count": null,
   "id": "a2b4888c",
   "metadata": {},
   "outputs": [],
   "source": []
  },
  {
   "cell_type": "markdown",
   "id": "7fab57af",
   "metadata": {},
   "source": [
    "# Correlation Coefficient `r`"
   ]
  },
  {
   "cell_type": "code",
   "execution_count": null,
   "id": "ab8289bb",
   "metadata": {},
   "outputs": [],
   "source": [
    "correlation_r = ..."
   ]
  },
  {
   "cell_type": "code",
   "execution_count": null,
   "id": "2e364a19",
   "metadata": {},
   "outputs": [],
   "source": [
    "def calculate_r(x_value_array, y_value_array):\n",
    "    ...\n",
    "    return ... "
   ]
  },
  {
   "cell_type": "code",
   "execution_count": null,
   "id": "ec5e400f",
   "metadata": {},
   "outputs": [],
   "source": []
  },
  {
   "cell_type": "code",
   "execution_count": null,
   "id": "39cbcd25",
   "metadata": {},
   "outputs": [],
   "source": []
  },
  {
   "cell_type": "code",
   "execution_count": null,
   "id": "73a4c640",
   "metadata": {},
   "outputs": [],
   "source": []
  },
  {
   "cell_type": "code",
   "execution_count": null,
   "id": "21163f83",
   "metadata": {},
   "outputs": [],
   "source": []
  },
  {
   "cell_type": "markdown",
   "id": "5450b41c",
   "metadata": {},
   "source": [
    "# Linear Regression (Slope and Intercept)"
   ]
  },
  {
   "cell_type": "code",
   "execution_count": null,
   "id": "dec951bb",
   "metadata": {},
   "outputs": [],
   "source": [
    "# finding the standard deviations for our x-value & y-value arrays\n",
    "x_val_sd = ...\n",
    "y_val_sd = ...\n",
    "print(correlation_r, x_val_sd, y_val_sd)"
   ]
  },
  {
   "cell_type": "code",
   "execution_count": null,
   "id": "b28dcd75",
   "metadata": {},
   "outputs": [],
   "source": [
    "slope_of_regression = "
   ]
  },
  {
   "cell_type": "code",
   "execution_count": null,
   "id": "ff8ecb0e",
   "metadata": {},
   "outputs": [],
   "source": [
    "#finding the means for our x-value & y-value arrays\n",
    "x_val_mean = ...\n",
    "y-val_mean = ...\n",
    "print(slope_of_regression, x_val_mean, y_val_mean)"
   ]
  },
  {
   "cell_type": "code",
   "execution_count": null,
   "id": "36150837",
   "metadata": {},
   "outputs": [],
   "source": [
    "intercept = ..."
   ]
  },
  {
   "cell_type": "code",
   "execution_count": null,
   "id": "3fc0526c",
   "metadata": {},
   "outputs": [],
   "source": [
    "x_val_array = ...\n",
    "y_estimates_array = ...\n",
    "birds = birds.with_columns('Estimates',y_estimates_array)\n",
    "birds"
   ]
  },
  {
   "cell_type": "code",
   "execution_count": null,
   "id": "147a6e95",
   "metadata": {},
   "outputs": [],
   "source": [
    "birds.select('Egg Weight','Bird Weight','Estimates').scatter('Egg Weight')\n",
    "birds.scatter('Egg Weight','Bird Weight',fit_line=True)"
   ]
  },
  {
   "cell_type": "code",
   "execution_count": null,
   "id": "36ff1d98",
   "metadata": {},
   "outputs": [],
   "source": []
  },
  {
   "cell_type": "code",
   "execution_count": null,
   "id": "0b184488",
   "metadata": {},
   "outputs": [],
   "source": []
  },
  {
   "cell_type": "markdown",
   "id": "aef8e9db",
   "metadata": {},
   "source": [
    "# The Residual - Evaluating your Linear Regression Accuracy"
   ]
  },
  {
   "cell_type": "code",
   "execution_count": null,
   "id": "5352083a",
   "metadata": {},
   "outputs": [],
   "source": [
    "residual = ..."
   ]
  },
  {
   "cell_type": "code",
   "execution_count": null,
   "id": "22c00c85",
   "metadata": {},
   "outputs": [],
   "source": [
    "birds = birds.with_columns('Residual',residual)\n",
    "birds"
   ]
  },
  {
   "cell_type": "code",
   "execution_count": null,
   "id": "4d654867",
   "metadata": {},
   "outputs": [],
   "source": [
    "birds.scatter('Egg Weight','Residual',color = 'r')"
   ]
  },
  {
   "cell_type": "code",
   "execution_count": null,
   "id": "6d4637cc",
   "metadata": {},
   "outputs": [],
   "source": []
  },
  {
   "cell_type": "code",
   "execution_count": null,
   "id": "12ce4d8f",
   "metadata": {},
   "outputs": [],
   "source": []
  }
 ],
 "metadata": {
  "kernelspec": {
   "display_name": "Python 3 (ipykernel)",
   "language": "python",
   "name": "python3"
  },
  "language_info": {
   "codemirror_mode": {
    "name": "ipython",
    "version": 3
   },
   "file_extension": ".py",
   "mimetype": "text/x-python",
   "name": "python",
   "nbconvert_exporter": "python",
   "pygments_lexer": "ipython3",
   "version": "3.7.8"
  }
 },
 "nbformat": 4,
 "nbformat_minor": 5
}
