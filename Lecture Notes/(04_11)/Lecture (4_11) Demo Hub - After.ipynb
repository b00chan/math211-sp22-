{
 "cells": [
  {
   "cell_type": "markdown",
   "id": "a5c3eaca",
   "metadata": {},
   "source": [
    "# Importing Modules"
   ]
  },
  {
   "cell_type": "code",
   "execution_count": 1,
   "id": "b2ff526c",
   "metadata": {},
   "outputs": [],
   "source": [
    "import numpy as np\n",
    "from datascience import *\n",
    "from IPython.display import YouTubeVideo\n",
    "\n",
    "# These lines do some fancy plotting magic.\n",
    "import matplotlib\n",
    "%matplotlib inline\n",
    "import matplotlib.pyplot as plt\n",
    "plt.style.use('fivethirtyeight')\n",
    "import warnings\n",
    "warnings.simplefilter('ignore', FutureWarning)"
   ]
  },
  {
   "cell_type": "markdown",
   "id": "41698929",
   "metadata": {},
   "source": [
    "## Hypothesis Test Simulation: Smelling Parkinson's (Vaccinations Across the Nation)"
   ]
  },
  {
   "cell_type": "code",
   "execution_count": 2,
   "id": "27024a43",
   "metadata": {},
   "outputs": [],
   "source": [
    "yes_no_random_guess = make_array(0.50,0.50)"
   ]
  },
  {
   "cell_type": "code",
   "execution_count": 3,
   "id": "531bb582",
   "metadata": {},
   "outputs": [],
   "source": [
    "observed_parkinson = 11"
   ]
  },
  {
   "cell_type": "code",
   "execution_count": 8,
   "id": "2a811efe",
   "metadata": {},
   "outputs": [
    {
     "data": {
      "text/plain": [
       "7.0"
      ]
     },
     "execution_count": 8,
     "metadata": {},
     "output_type": "execute_result"
    }
   ],
   "source": [
    "#running one simulation of the experiment below \n",
    "one_observation = (sample_proportions(12, yes_no_random_guess)*12).item(0)\n",
    "one_observation"
   ]
  },
  {
   "cell_type": "code",
   "execution_count": 10,
   "id": "a0e24d62",
   "metadata": {},
   "outputs": [
    {
     "data": {
      "text/plain": [
       "array([ 7.,  5.,  5., ...,  5.,  4.,  7.])"
      ]
     },
     "execution_count": 10,
     "metadata": {},
     "output_type": "execute_result"
    }
   ],
   "source": [
    "num_simulations = 10000\n",
    "\n",
    "simulated_statistics = make_array()\n",
    "\n",
    "for i in np.arange(num_simulations):\n",
    "    one_simulation = (sample_proportions(12, yes_no_random_guess)*12).item(0)\n",
    "    simulated_statistics = np.append(simulated_statistics, one_simulation)\n",
    "\n",
    "simulated_statistics"
   ]
  },
  {
   "cell_type": "code",
   "execution_count": null,
   "id": "6cf7dbff",
   "metadata": {},
   "outputs": [],
   "source": []
  },
  {
   "cell_type": "code",
   "execution_count": null,
   "id": "593a176d",
   "metadata": {},
   "outputs": [],
   "source": []
  },
  {
   "cell_type": "code",
   "execution_count": 11,
   "id": "86351629",
   "metadata": {},
   "outputs": [
    {
     "data": {
      "image/png": "[encoded data removed]",
      "text/plain": [
       "<Figure size 600x400 with 1 Axes>"
      ]
     },
     "metadata": {},
     "output_type": "display_data"
    }
   ],
   "source": [
    "Table().with_columns('Simulated Statistic', simulated_statistics).hist()\n",
    "plt.scatter(observed_parkinson, -0.002, color='red', s=40);"
   ]
  },
  {
   "cell_type": "code",
   "execution_count": 12,
   "id": "64fcbe9f",
   "metadata": {},
   "outputs": [
    {
     "data": {
      "text/plain": [
       "0.0038"
      ]
     },
     "execution_count": 12,
     "metadata": {},
     "output_type": "execute_result"
    }
   ],
   "source": [
    "p_value = np.count_nonzero(simulated_statistics >= observed_parkinson) / num_simulations \n",
    "p_value"
   ]
  },
  {
   "cell_type": "markdown",
   "id": "f743ad86",
   "metadata": {},
   "source": [
    "## Hypothesis Test Simulation: Comparing Distributions (Using TVD as a Test Statistic)"
   ]
  },
  {
   "cell_type": "code",
   "execution_count": 13,
   "id": "112e5b59",
   "metadata": {},
   "outputs": [
    {
     "data": {
      "text/html": [
       "<table border=\"1\" class=\"dataframe\">\n",
       "    <thead>\n",
       "        <tr>\n",
       "            <th>Ethnicity</th> <th>Eligible</th> <th>Panel </th>\n",
       "        </tr>\n",
       "    </thead>\n",
       "    <tbody>\n",
       "        <tr>\n",
       "            <td>Asian / PI </td> <td>0.15    </td> <td>0.26  </td>\n",
       "        </tr>\n",
       "        <tr>\n",
       "            <td>Black / AA </td> <td>0.18    </td> <td>0.08  </td>\n",
       "        </tr>\n",
       "        <tr>\n",
       "            <td>Caucasian  </td> <td>0.54    </td> <td>0.54  </td>\n",
       "        </tr>\n",
       "        <tr>\n",
       "            <td>Hispanic   </td> <td>0.12    </td> <td>0.08  </td>\n",
       "        </tr>\n",
       "        <tr>\n",
       "            <td>Other      </td> <td>0.01    </td> <td>0.04  </td>\n",
       "        </tr>\n",
       "    </tbody>\n",
       "</table>"
      ],
      "text/plain": [
       "Ethnicity   | Eligible | Panel\n",
       "Asian / PI  | 0.15     | 0.26\n",
       "Black / AA  | 0.18     | 0.08\n",
       "Caucasian   | 0.54     | 0.54\n",
       "Hispanic    | 0.12     | 0.08\n",
       "Other       | 0.01     | 0.04"
      ]
     },
     "execution_count": 13,
     "metadata": {},
     "output_type": "execute_result"
    }
   ],
   "source": [
    "jury = Table().read_table('Jury_Alameda.csv')\n",
    "jury"
   ]
  },
  {
   "cell_type": "code",
   "execution_count": 21,
   "id": "35cab78d",
   "metadata": {},
   "outputs": [],
   "source": [
    "def total_variation_distance(distribuion1 , distribution2):\n",
    "    return sum(np.abs(distribuion1 - distribution2))"
   ]
  },
  {
   "cell_type": "code",
   "execution_count": 24,
   "id": "37015f4d",
   "metadata": {},
   "outputs": [
    {
     "data": {
      "text/plain": [
       "0.28000000000000003"
      ]
     },
     "execution_count": 24,
     "metadata": {},
     "output_type": "execute_result"
    }
   ],
   "source": [
    "expected_dist = jury.column('Eligible')\n",
    "observed_dist = jury.column('Panel ')\n",
    "\n",
    "observed_tvd = total_variation_distance(observed_dist,expected_dist)\n",
    "observed_tvd"
   ]
  },
  {
   "cell_type": "code",
   "execution_count": 26,
   "id": "13d7756e",
   "metadata": {},
   "outputs": [
    {
     "data": {
      "text/plain": [
       "array([ 0.14998806,  0.18000359,  0.54000715,  0.12000084,  0.01000035])"
      ]
     },
     "execution_count": 26,
     "metadata": {},
     "output_type": "execute_result"
    }
   ],
   "source": [
    "one_sample = sample_proportions(1649000000,expected_dist)\n",
    "one_sample"
   ]
  },
  {
   "cell_type": "code",
   "execution_count": 28,
   "id": "b7a8e523",
   "metadata": {},
   "outputs": [
    {
     "data": {
      "text/plain": [
       "2.3877501516065061e-05"
      ]
     },
     "execution_count": 28,
     "metadata": {},
     "output_type": "execute_result"
    }
   ],
   "source": [
    "total_variation_distance(one_sample,expected_dist)"
   ]
  },
  {
   "cell_type": "code",
   "execution_count": 37,
   "id": "dd1b396c",
   "metadata": {},
   "outputs": [
    {
     "data": {
      "text/plain": [
       "array([ 0.04 ,  0.044,  0.04 , ...,  0.064,  0.07 ,  0.036])"
      ]
     },
     "execution_count": 37,
     "metadata": {},
     "output_type": "execute_result"
    }
   ],
   "source": [
    "simulated_tvds = make_array()\n",
    "\n",
    "for i in np.arange(10000):\n",
    "    this_simulated_sample = sample_proportions(1000,expected_dist)\n",
    "    simulated_calculation = total_variation_distance(this_simulated_sample,expected_dist)\n",
    "    simulated_tvds = np.append(simulated_tvds,simulated_calculation)\n",
    "    \n",
    "simulated_tvds"
   ]
  },
  {
   "cell_type": "code",
   "execution_count": 38,
   "id": "7acda711",
   "metadata": {},
   "outputs": [
    {
     "data": {
      "image/png": "[encoded data removed]",
      "text/plain": [
       "<Figure size 600x400 with 1 Axes>"
      ]
     },
     "metadata": {},
     "output_type": "display_data"
    }
   ],
   "source": [
    "Table().with_column(\"Simulated TVDs\", simulated_tvds).hist()\n",
    "plt.scatter(observed_tvd, 0, color='red', s=70, zorder=2);\n",
    "plt.show();"
   ]
  },
  {
   "cell_type": "code",
   "execution_count": 39,
   "id": "38bfa7c6",
   "metadata": {},
   "outputs": [
    {
     "data": {
      "text/plain": [
       "0.0"
      ]
     },
     "execution_count": 39,
     "metadata": {},
     "output_type": "execute_result"
    }
   ],
   "source": [
    "p_value_tvd = np.count_nonzero(simulated_tvds >= observed_tvd) / len(simulated_tvds) \n",
    "p_value_tvd"
   ]
  },
  {
   "cell_type": "markdown",
   "id": "53354e02",
   "metadata": {},
   "source": [
    "## Hypothesis Test Simulation: NBA rigged? (Who is Older? a.k.a. A/B Testing)"
   ]
  },
  {
   "cell_type": "code",
   "execution_count": 40,
   "id": "c25dc441",
   "metadata": {},
   "outputs": [
    {
     "data": {
      "image/jpeg": "[encoded data removed]",
      "text/html": [
       "\n",
       "        <iframe\n",
       "            width=\"400\"\n",
       "            height=\"300\"\n",
       "            src=\"https://www.youtube.com/embed/NU_QFMJD3z0\"\n",
       "            frameborder=\"0\"\n",
       "            allowfullscreen\n",
       "            \n",
       "        ></iframe>\n",
       "        "
      ],
      "text/plain": [
       "<IPython.lib.display.YouTubeVideo at 0x7f7cceecc750>"
      ]
     },
     "execution_count": 40,
     "metadata": {},
     "output_type": "execute_result"
    }
   ],
   "source": [
    "laker_fta = Table().read_table('LAL_2002_FTA_Table.csv')\n",
    "#Claim starts around 3:05\n",
    "YouTubeVideo(\"NU_QFMJD3z0\")"
   ]
  },
  {
   "cell_type": "code",
   "execution_count": 42,
   "id": "d2f4e3f4",
   "metadata": {},
   "outputs": [
    {
     "data": {
      "text/html": [
       "<table border=\"1\" class=\"dataframe\">\n",
       "    <thead>\n",
       "        <tr>\n",
       "            <th>Opponent</th> <th>Date</th> <th>LAL FTA</th> <th>Opp FTA</th> <th>FTA Diff</th>\n",
       "        </tr>\n",
       "    </thead>\n",
       "    <tbody>\n",
       "        <tr>\n",
       "            <td>NJN     </td> <td>6/12/2002</td> <td>10     </td> <td>5      </td> <td>5       </td>\n",
       "        </tr>\n",
       "        <tr>\n",
       "            <td>NJN     </td> <td>6/9/2002 </td> <td>14     </td> <td>3      </td> <td>11      </td>\n",
       "        </tr>\n",
       "        <tr>\n",
       "            <td>NJN     </td> <td>6/7/2002 </td> <td>6      </td> <td>5      </td> <td>1       </td>\n",
       "        </tr>\n",
       "        <tr>\n",
       "            <td>NJN     </td> <td>6/5/2002 </td> <td>25     </td> <td>10     </td> <td>15      </td>\n",
       "        </tr>\n",
       "        <tr>\n",
       "            <td>SAC     </td> <td>6/2/2002 </td> <td>11     </td> <td>9      </td> <td>2       </td>\n",
       "        </tr>\n",
       "        <tr>\n",
       "            <td>SAC     </td> <td>5/31/2002</td> <td>27     </td> <td>9      </td> <td>18      </td>\n",
       "        </tr>\n",
       "        <tr>\n",
       "            <td>SAC     </td> <td>5/28/2002</td> <td>6      </td> <td>10     </td> <td>-4      </td>\n",
       "        </tr>\n",
       "        <tr>\n",
       "            <td>SAC     </td> <td>5/26/2002</td> <td>8      </td> <td>2      </td> <td>6       </td>\n",
       "        </tr>\n",
       "        <tr>\n",
       "            <td>SAC     </td> <td>5/24/2002</td> <td>8      </td> <td>16     </td> <td>-8      </td>\n",
       "        </tr>\n",
       "        <tr>\n",
       "            <td>SAC     </td> <td>5/20/2002</td> <td>16     </td> <td>10     </td> <td>6       </td>\n",
       "        </tr>\n",
       "        <tr>\n",
       "            <td>SAC     </td> <td>5/18/2002</td> <td>14     </td> <td>6      </td> <td>8       </td>\n",
       "        </tr>\n",
       "        <tr>\n",
       "            <td>SAS     </td> <td>5/14/2002</td> <td>6      </td> <td>9      </td> <td>-3      </td>\n",
       "        </tr>\n",
       "        <tr>\n",
       "            <td>SAS     </td> <td>5/12/2002</td> <td>12     </td> <td>6      </td> <td>6       </td>\n",
       "        </tr>\n",
       "        <tr>\n",
       "            <td>SAS     </td> <td>5/10/2002</td> <td>10     </td> <td>3      </td> <td>7       </td>\n",
       "        </tr>\n",
       "        <tr>\n",
       "            <td>SAS     </td> <td>5/7/2002 </td> <td>8      </td> <td>7      </td> <td>1       </td>\n",
       "        </tr>\n",
       "        <tr>\n",
       "            <td>SAS     </td> <td>5/5/2002 </td> <td>12     </td> <td>4      </td> <td>8       </td>\n",
       "        </tr>\n",
       "        <tr>\n",
       "            <td>POR     </td> <td>4/28/2002</td> <td>4      </td> <td>13     </td> <td>-9      </td>\n",
       "        </tr>\n",
       "        <tr>\n",
       "            <td>POR     </td> <td>4/25/2002</td> <td>12     </td> <td>7      </td> <td>5       </td>\n",
       "        </tr>\n",
       "        <tr>\n",
       "            <td>POR     </td> <td>4/21/2002</td> <td>9      </td> <td>10     </td> <td>-1      </td>\n",
       "        </tr>\n",
       "    </tbody>\n",
       "</table>"
      ],
      "text/plain": [
       "<IPython.core.display.HTML object>"
      ]
     },
     "metadata": {},
     "output_type": "display_data"
    }
   ],
   "source": [
    "laker_fta.show()"
   ]
  },
  {
   "cell_type": "code",
   "execution_count": 43,
   "id": "8f9252a7",
   "metadata": {},
   "outputs": [
    {
     "data": {
      "text/html": [
       "<table border=\"1\" class=\"dataframe\">\n",
       "    <thead>\n",
       "        <tr>\n",
       "            <th>Opponent</th> <th>Date</th> <th>LAL FTA</th> <th>Opp FTA</th> <th>FTA Diff</th> <th>A/B Opp</th>\n",
       "        </tr>\n",
       "    </thead>\n",
       "    <tbody>\n",
       "        <tr>\n",
       "            <td>NJN     </td> <td>6/12/2002</td> <td>10     </td> <td>5      </td> <td>5       </td> <td>Not SAC</td>\n",
       "        </tr>\n",
       "        <tr>\n",
       "            <td>NJN     </td> <td>6/9/2002 </td> <td>14     </td> <td>3      </td> <td>11      </td> <td>Not SAC</td>\n",
       "        </tr>\n",
       "        <tr>\n",
       "            <td>NJN     </td> <td>6/7/2002 </td> <td>6      </td> <td>5      </td> <td>1       </td> <td>Not SAC</td>\n",
       "        </tr>\n",
       "        <tr>\n",
       "            <td>NJN     </td> <td>6/5/2002 </td> <td>25     </td> <td>10     </td> <td>15      </td> <td>Not SAC</td>\n",
       "        </tr>\n",
       "        <tr>\n",
       "            <td>SAC     </td> <td>6/2/2002 </td> <td>11     </td> <td>9      </td> <td>2       </td> <td>SAC    </td>\n",
       "        </tr>\n",
       "        <tr>\n",
       "            <td>SAC     </td> <td>5/31/2002</td> <td>27     </td> <td>9      </td> <td>18      </td> <td>SAC    </td>\n",
       "        </tr>\n",
       "        <tr>\n",
       "            <td>SAC     </td> <td>5/28/2002</td> <td>6      </td> <td>10     </td> <td>-4      </td> <td>SAC    </td>\n",
       "        </tr>\n",
       "        <tr>\n",
       "            <td>SAC     </td> <td>5/26/2002</td> <td>8      </td> <td>2      </td> <td>6       </td> <td>SAC    </td>\n",
       "        </tr>\n",
       "        <tr>\n",
       "            <td>SAC     </td> <td>5/24/2002</td> <td>8      </td> <td>16     </td> <td>-8      </td> <td>SAC    </td>\n",
       "        </tr>\n",
       "        <tr>\n",
       "            <td>SAC     </td> <td>5/20/2002</td> <td>16     </td> <td>10     </td> <td>6       </td> <td>SAC    </td>\n",
       "        </tr>\n",
       "        <tr>\n",
       "            <td>SAC     </td> <td>5/18/2002</td> <td>14     </td> <td>6      </td> <td>8       </td> <td>SAC    </td>\n",
       "        </tr>\n",
       "        <tr>\n",
       "            <td>SAS     </td> <td>5/14/2002</td> <td>6      </td> <td>9      </td> <td>-3      </td> <td>Not SAC</td>\n",
       "        </tr>\n",
       "        <tr>\n",
       "            <td>SAS     </td> <td>5/12/2002</td> <td>12     </td> <td>6      </td> <td>6       </td> <td>Not SAC</td>\n",
       "        </tr>\n",
       "        <tr>\n",
       "            <td>SAS     </td> <td>5/10/2002</td> <td>10     </td> <td>3      </td> <td>7       </td> <td>Not SAC</td>\n",
       "        </tr>\n",
       "        <tr>\n",
       "            <td>SAS     </td> <td>5/7/2002 </td> <td>8      </td> <td>7      </td> <td>1       </td> <td>Not SAC</td>\n",
       "        </tr>\n",
       "        <tr>\n",
       "            <td>SAS     </td> <td>5/5/2002 </td> <td>12     </td> <td>4      </td> <td>8       </td> <td>Not SAC</td>\n",
       "        </tr>\n",
       "        <tr>\n",
       "            <td>POR     </td> <td>4/28/2002</td> <td>4      </td> <td>13     </td> <td>-9      </td> <td>Not SAC</td>\n",
       "        </tr>\n",
       "        <tr>\n",
       "            <td>POR     </td> <td>4/25/2002</td> <td>12     </td> <td>7      </td> <td>5       </td> <td>Not SAC</td>\n",
       "        </tr>\n",
       "        <tr>\n",
       "            <td>POR     </td> <td>4/21/2002</td> <td>9      </td> <td>10     </td> <td>-1      </td> <td>Not SAC</td>\n",
       "        </tr>\n",
       "    </tbody>\n",
       "</table>"
      ],
      "text/plain": [
       "<IPython.core.display.HTML object>"
      ]
     },
     "metadata": {},
     "output_type": "display_data"
    }
   ],
   "source": [
    "def sac_or_notsac(opponent):\n",
    "    if opponent == 'SAC':\n",
    "        return opponent\n",
    "    else:\n",
    "        return 'Not SAC'\n",
    "laker_fta = laker_fta.with_column('A/B Opp', laker_fta.apply(sac_or_notsac,'Opponent'))\n",
    "laker_fta.show()"
   ]
  },
  {
   "cell_type": "code",
   "execution_count": 53,
   "id": "f413d0da",
   "metadata": {},
   "outputs": [],
   "source": [
    "observed_diff_ab = 18"
   ]
  },
  {
   "cell_type": "code",
   "execution_count": 44,
   "id": "5cdcbb0e",
   "metadata": {},
   "outputs": [
    {
     "data": {
      "text/plain": [
       "array(['Not SAC', 'Not SAC', 'Not SAC', 'SAC', 'SAC', 'SAC', 'Not SAC',\n",
       "       'Not SAC', 'SAC', 'SAC', 'Not SAC', 'Not SAC', 'SAC', 'Not SAC',\n",
       "       'Not SAC', 'SAC', 'Not SAC', 'Not SAC', 'Not SAC'],\n",
       "      dtype='<U7')"
      ]
     },
     "execution_count": 44,
     "metadata": {},
     "output_type": "execute_result"
    }
   ],
   "source": [
    "shuffled_labels = laker_fta.sample(with_replacement=False).column('A/B Opp')\n",
    "shuffled_labels"
   ]
  },
  {
   "cell_type": "code",
   "execution_count": 50,
   "id": "2db72624",
   "metadata": {},
   "outputs": [
    {
     "data": {
      "text/plain": [
       "4.464285714285714"
      ]
     },
     "execution_count": 50,
     "metadata": {},
     "output_type": "execute_result"
    }
   ],
   "source": [
    "laker_fta = laker_fta.with_column('Shuffled Labels',shuffled_labels)\n",
    "grouped_fta = laker_fta.group('Shuffled Labels',np.mean).select('Shuffled Labels', 'FTA Diff mean')\n",
    "grouped_fta.column('FTA Diff mean').item(1) - grouped_fta.column('FTA Diff mean').item(0)"
   ]
  },
  {
   "cell_type": "code",
   "execution_count": 51,
   "id": "c5e8b2f3",
   "metadata": {},
   "outputs": [
    {
     "data": {
      "text/plain": [
       "array([-7.07142857,  3.55952381, -1.19047619, ...,  6.72619048,\n",
       "        2.6547619 , -6.16666667])"
      ]
     },
     "execution_count": 51,
     "metadata": {},
     "output_type": "execute_result"
    }
   ],
   "source": [
    "simulated_statistics_ab = make_array()\n",
    "\n",
    "repetitions = 10000\n",
    "\n",
    "for i in np.arange(repetitions):\n",
    "    shuffled_labels = laker_fta.sample(with_replacement=False).column('A/B Opp')\n",
    "    laker_fta = laker_fta.with_column('Shuffled Labels',shuffled_labels)\n",
    "    grouped_fta = laker_fta.group('Shuffled Labels',np.mean).select('Shuffled Labels', 'FTA Diff mean')\n",
    "    test_stat = grouped_fta.column('FTA Diff mean').item(1) - grouped_fta.column('FTA Diff mean').item(0)\n",
    "    simulated_statistics_ab = np.append(simulated_statistics_ab,test_stat)\n",
    "\n",
    "simulated_statistics_ab"
   ]
  },
  {
   "cell_type": "code",
   "execution_count": 54,
   "id": "3fa11742",
   "metadata": {},
   "outputs": [
    {
     "data": {
      "image/png": "[encoded data removed]",
      "text/plain": [
       "<Figure size 600x400 with 1 Axes>"
      ]
     },
     "metadata": {},
     "output_type": "display_data"
    }
   ],
   "source": [
    "Table().with_columns('Simulated Statistic', simulated_statistics_ab).hist()\n",
    "plt.scatter(observed_diff_ab, -0.002, color='red', s=70);"
   ]
  },
  {
   "cell_type": "code",
   "execution_count": 55,
   "id": "4387ece7",
   "metadata": {},
   "outputs": [
    {
     "data": {
      "text/plain": [
       "0.0"
      ]
     },
     "execution_count": 55,
     "metadata": {},
     "output_type": "execute_result"
    }
   ],
   "source": [
    "p_val = np.count_nonzero(simulated_statistics_ab >= observed_diff_ab) / repetitions\n",
    "p_val"
   ]
  },
  {
   "cell_type": "code",
   "execution_count": null,
   "id": "9187ed4b",
   "metadata": {},
   "outputs": [],
   "source": []
  }
 ],
 "metadata": {
  "kernelspec": {
   "display_name": "Python 3 (ipykernel)",
   "language": "python",
   "name": "python3"
  },
  "language_info": {
   "codemirror_mode": {
    "name": "ipython",
    "version": 3
   },
   "file_extension": ".py",
   "mimetype": "text/x-python",
   "name": "python",
   "nbconvert_exporter": "python",
   "pygments_lexer": "ipython3",
   "version": "3.7.8"
  }
 },
 "nbformat": 4,
 "nbformat_minor": 5
}
