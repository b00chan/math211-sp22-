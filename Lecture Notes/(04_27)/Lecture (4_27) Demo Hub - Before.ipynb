{
 "cells": [
  {
   "cell_type": "markdown",
   "id": "2be65a94",
   "metadata": {},
   "source": [
    "# Importing our modules"
   ]
  },
  {
   "cell_type": "code",
   "execution_count": null,
   "id": "0440df62",
   "metadata": {},
   "outputs": [],
   "source": [
    "import numpy as np\n",
    "from datascience import *\n",
    "import math as m\n",
    "\n",
    "# These lines do some fancy plotting magic.\n",
    "import matplotlib\n",
    "%matplotlib inline\n",
    "import matplotlib.pyplot as plt\n",
    "plt.style.use('fivethirtyeight')\n",
    "import warnings\n",
    "warnings.simplefilter('ignore', FutureWarning)"
   ]
  },
  {
   "cell_type": "code",
   "execution_count": null,
   "id": "f10ad80d",
   "metadata": {},
   "outputs": [],
   "source": [
    "births = Table.read_table('baby.csv')\n",
    "totals = Table.read_table('total_precipitation.csv')"
   ]
  },
  {
   "cell_type": "markdown",
   "id": "66bfae49",
   "metadata": {},
   "source": [
    "# Examining the Central Limit Theorem"
   ]
  },
  {
   "cell_type": "code",
   "execution_count": null,
   "id": "7ef64543",
   "metadata": {},
   "outputs": [],
   "source": [
    "weight_bins = np.arange(50,180,10)\n",
    "births.hist(\"Birth Weight\",bins=weight_bins)"
   ]
  },
  {
   "cell_type": "code",
   "execution_count": null,
   "id": "b2198ace",
   "metadata": {},
   "outputs": [],
   "source": [
    "input_values = np.arange(0,15,0.1)\n",
    "exponential_curve = 0.25*m.e**(0.25*input_values)\n",
    "\n",
    "r_skew_bins = np.arange(0,12,1)\n",
    "r_skew_table = Table().with_columns('values',exponential_curve)\n",
    "r_skew_table.hist(bins=r_skew_bins)"
   ]
  },
  {
   "cell_type": "code",
   "execution_count": null,
   "id": "4ac8db69",
   "metadata": {},
   "outputs": [],
   "source": [
    "reverse_exponential = 130 - exponential_curve\n",
    "\n",
    "l_skew_bins = np.arange(118,130,1)\n",
    "l_skew_table = Table().with_columns('values',reverse_exponential)\n",
    "l_skew_table.hist(bins = l_skew_bins)"
   ]
  },
  {
   "cell_type": "markdown",
   "id": "2000acef",
   "metadata": {},
   "source": [
    "### The Distribution of sample averages"
   ]
  },
  {
   "cell_type": "code",
   "execution_count": null,
   "id": "5ec825c0",
   "metadata": {},
   "outputs": [],
   "source": [
    "#Let's look at a few columns in the births table \n",
    "sample_size = ...\n",
    "number_of_resamples = ...\n",
    "column_name = ...\n",
    "\n",
    "means = make_array()\n",
    "\n",
    "for i in np.arange(number_of_resamples):\n",
    "    one_small_sample = births.sample(sample_size,with_replacement=True)\n",
    "    mean_of_one_small_sample = np.mean(one_small_sample.column(column_name))\n",
    "    means = np.append(means, mean_of_one_small_sample)\n",
    "\n",
    "Table().with_columns('Means of'+column_name,means).hist()    "
   ]
  },
  {
   "cell_type": "code",
   "execution_count": null,
   "id": "6bece302",
   "metadata": {},
   "outputs": [],
   "source": [
    "#Let's look at a few columns in the births table \n",
    "sample_size = ...\n",
    "number_of_resamples = ...\n",
    "column_name = ...\n",
    "\n",
    "means = make_array()\n",
    "\n",
    "for i in np.arange(number_of_resamples):\n",
    "    one_small_sample = births.sample(sample_size,with_replacement=True)\n",
    "    mean_of_one_small_sample = np.mean(one_small_sample.column(column_name))\n",
    "    means = np.append(means, mean_of_one_small_sample)\n",
    "\n",
    "Table().with_columns('Means of'+column_name,means).hist()    "
   ]
  },
  {
   "cell_type": "code",
   "execution_count": null,
   "id": "f00d05a5",
   "metadata": {},
   "outputs": [],
   "source": [
    "#Let's look at a few columns in the births table \n",
    "sample_size = ...\n",
    "number_of_resamples = ...\n",
    "column_name = ...\n",
    "\n",
    "means = make_array()\n",
    "\n",
    "for i in np.arange(number_of_resamples):\n",
    "    one_small_sample = births.sample(sample_size,with_replacement=True)\n",
    "    mean_of_one_small_sample = np.mean(one_small_sample.column(column_name))\n",
    "    means = np.append(means, mean_of_one_small_sample)\n",
    "\n",
    "Table().with_columns('Means of'+column_name,means).hist()    "
   ]
  },
  {
   "cell_type": "code",
   "execution_count": null,
   "id": "fdfdc8cf",
   "metadata": {},
   "outputs": [],
   "source": [
    "# Let's look at the right skew distribution\n",
    "sample_size = ...\n",
    "number_of_resamples = ...\n",
    "\n",
    "means = make_array()\n",
    "\n",
    "for i in np.arange(number_of_resamples):\n",
    "    one_small_sample = r_skew_table.sample(sample_size,with_replacement=True)\n",
    "    mean_of_one_small_sample = np.mean(one_small_sample.column('values'))\n",
    "    means = np.append(means, mean_of_one_small_sample)\n",
    "\n",
    "Table().with_columns('Means',means).hist()    "
   ]
  },
  {
   "cell_type": "code",
   "execution_count": null,
   "id": "cc169401",
   "metadata": {},
   "outputs": [],
   "source": [
    "# Let's look a tthe left skew distribution\n",
    "sample_size = ...\n",
    "number_of_resamples = ...\n",
    "\n",
    "means = make_array()\n",
    "\n",
    "for i in np.arange(number_of_resamples):\n",
    "    one_small_sample = l_skew_table.sample(sample_size,with_replacement=True)\n",
    "    mean_of_one_small_sample = np.mean(one_small_sample.column('values'))\n",
    "    means = np.append(means, mean_of_one_small_sample)\n",
    "\n",
    "Table().with_columns('Means',means).hist()   "
   ]
  }
 ],
 "metadata": {
  "kernelspec": {
   "display_name": "Python 3 (ipykernel)",
   "language": "python",
   "name": "python3"
  },
  "language_info": {
   "codemirror_mode": {
    "name": "ipython",
    "version": 3
   },
   "file_extension": ".py",
   "mimetype": "text/x-python",
   "name": "python",
   "nbconvert_exporter": "python",
   "pygments_lexer": "ipython3",
   "version": "3.7.8"
  }
 },
 "nbformat": 4,
 "nbformat_minor": 5
}
