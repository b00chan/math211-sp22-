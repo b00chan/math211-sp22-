{
 "cells": [
  {
   "cell_type": "markdown",
   "id": "23ee553c",
   "metadata": {},
   "source": [
    "# Importing our modules"
   ]
  },
  {
   "cell_type": "code",
   "execution_count": 1,
   "id": "6faa871a",
   "metadata": {},
   "outputs": [],
   "source": [
    "import numpy as np\n",
    "from datascience import *\n",
    "import math as m\n",
    "\n",
    "# These lines do some fancy plotting magic.\n",
    "import matplotlib\n",
    "%matplotlib inline\n",
    "import matplotlib.pyplot as plt\n",
    "plt.style.use('fivethirtyeight')\n",
    "import warnings\n",
    "warnings.simplefilter('ignore', FutureWarning)"
   ]
  },
  {
   "cell_type": "code",
   "execution_count": 2,
   "id": "292f654e",
   "metadata": {},
   "outputs": [
    {
     "data": {
      "text/html": [
       "<table border=\"1\" class=\"dataframe\">\n",
       "    <thead>\n",
       "        <tr>\n",
       "            <th>Egg Length</th> <th>Egg Breadth</th> <th>Egg Weight</th> <th>Bird Weight</th>\n",
       "        </tr>\n",
       "    </thead>\n",
       "    <tbody>\n",
       "        <tr>\n",
       "            <td>28.8      </td> <td>21.84      </td> <td>7.4       </td> <td>5.2        </td>\n",
       "        </tr>\n",
       "        <tr>\n",
       "            <td>29.04     </td> <td>22.45      </td> <td>7.7       </td> <td>5.4        </td>\n",
       "        </tr>\n",
       "        <tr>\n",
       "            <td>29.36     </td> <td>22.48      </td> <td>7.9       </td> <td>5.6        </td>\n",
       "        </tr>\n",
       "        <tr>\n",
       "            <td>30.1      </td> <td>21.71      </td> <td>7.5       </td> <td>5.3        </td>\n",
       "        </tr>\n",
       "        <tr>\n",
       "            <td>30.17     </td> <td>22.75      </td> <td>8.3       </td> <td>5.9        </td>\n",
       "        </tr>\n",
       "        <tr>\n",
       "            <td>30.34     </td> <td>22.84      </td> <td>8.5       </td> <td>5.8        </td>\n",
       "        </tr>\n",
       "        <tr>\n",
       "            <td>30.36     </td> <td>22.5       </td> <td>8.2       </td> <td>5.8        </td>\n",
       "        </tr>\n",
       "        <tr>\n",
       "            <td>30.46     </td> <td>22.72      </td> <td>8.3       </td> <td>6          </td>\n",
       "        </tr>\n",
       "        <tr>\n",
       "            <td>30.54     </td> <td>23.31      </td> <td>9         </td> <td>6.1        </td>\n",
       "        </tr>\n",
       "        <tr>\n",
       "            <td>30.62     </td> <td>22.94      </td> <td>8.5       </td> <td>6.2        </td>\n",
       "        </tr>\n",
       "    </tbody>\n",
       "</table>\n",
       "<p>... (34 rows omitted)</p>"
      ],
      "text/plain": [
       "Egg Length | Egg Breadth | Egg Weight | Bird Weight\n",
       "28.8       | 21.84       | 7.4        | 5.2\n",
       "29.04      | 22.45       | 7.7        | 5.4\n",
       "29.36      | 22.48       | 7.9        | 5.6\n",
       "30.1       | 21.71       | 7.5        | 5.3\n",
       "30.17      | 22.75       | 8.3        | 5.9\n",
       "30.34      | 22.84       | 8.5        | 5.8\n",
       "30.36      | 22.5        | 8.2        | 5.8\n",
       "30.46      | 22.72       | 8.3        | 6\n",
       "30.54      | 23.31       | 9          | 6.1\n",
       "30.62      | 22.94       | 8.5        | 6.2\n",
       "... (34 rows omitted)"
      ]
     },
     "execution_count": 2,
     "metadata": {},
     "output_type": "execute_result"
    }
   ],
   "source": [
    "birds = Table.read_table('snowy_plover.csv')\n",
    "birds"
   ]
  },
  {
   "cell_type": "markdown",
   "id": "aef8e9db",
   "metadata": {},
   "source": [
    "# The Residual & The Root Mean Square Error"
   ]
  },
  {
   "cell_type": "code",
   "execution_count": 3,
   "id": "715dd2e3",
   "metadata": {},
   "outputs": [
    {
     "name": "stdout",
     "output_type": "stream",
     "text": [
      "0.718515344894 -0.0582722619343\n"
     ]
    },
    {
     "data": {
      "text/html": [
       "<table border=\"1\" class=\"dataframe\">\n",
       "    <thead>\n",
       "        <tr>\n",
       "            <th>Egg Weight</th> <th>Bird Weight</th> <th>Estimate</th> <th>Residual</th>\n",
       "        </tr>\n",
       "    </thead>\n",
       "    <tbody>\n",
       "        <tr>\n",
       "            <td>7.4       </td> <td>5.2        </td> <td>5.25874 </td> <td>-0.0587413</td>\n",
       "        </tr>\n",
       "        <tr>\n",
       "            <td>7.7       </td> <td>5.4        </td> <td>5.4743  </td> <td>-0.0742959</td>\n",
       "        </tr>\n",
       "        <tr>\n",
       "            <td>7.9       </td> <td>5.6        </td> <td>5.618   </td> <td>-0.017999 </td>\n",
       "        </tr>\n",
       "        <tr>\n",
       "            <td>7.5       </td> <td>5.3        </td> <td>5.33059 </td> <td>-0.0305928</td>\n",
       "        </tr>\n",
       "        <tr>\n",
       "            <td>8.3       </td> <td>5.9        </td> <td>5.90541 </td> <td>-0.0054051</td>\n",
       "        </tr>\n",
       "        <tr>\n",
       "            <td>8.5       </td> <td>5.8        </td> <td>6.04911 </td> <td>-0.249108 </td>\n",
       "        </tr>\n",
       "        <tr>\n",
       "            <td>8.2       </td> <td>5.8        </td> <td>5.83355 </td> <td>-0.0335536</td>\n",
       "        </tr>\n",
       "        <tr>\n",
       "            <td>8.3       </td> <td>6          </td> <td>5.90541 </td> <td>0.0945949 </td>\n",
       "        </tr>\n",
       "        <tr>\n",
       "            <td>9         </td> <td>6.1        </td> <td>6.40837 </td> <td>-0.308366 </td>\n",
       "        </tr>\n",
       "        <tr>\n",
       "            <td>8.5       </td> <td>6.2        </td> <td>6.04911 </td> <td>0.150892  </td>\n",
       "        </tr>\n",
       "    </tbody>\n",
       "</table>\n",
       "<p>... (34 rows omitted)</p>"
      ],
      "text/plain": [
       "Egg Weight | Bird Weight | Estimate | Residual\n",
       "7.4        | 5.2         | 5.25874  | -0.0587413\n",
       "7.7        | 5.4         | 5.4743   | -0.0742959\n",
       "7.9        | 5.6         | 5.618    | -0.017999\n",
       "7.5        | 5.3         | 5.33059  | -0.0305928\n",
       "8.3        | 5.9         | 5.90541  | -0.0054051\n",
       "8.5        | 5.8         | 6.04911  | -0.249108\n",
       "8.2        | 5.8         | 5.83355  | -0.0335536\n",
       "8.3        | 6           | 5.90541  | 0.0945949\n",
       "9          | 6.1         | 6.40837  | -0.308366\n",
       "8.5        | 6.2         | 6.04911  | 0.150892\n",
       "... (34 rows omitted)"
      ]
     },
     "execution_count": 3,
     "metadata": {},
     "output_type": "execute_result"
    }
   ],
   "source": [
    "# Let's run this cell \n",
    "\n",
    "def x_y_estimate_residual(table,x_col,y_col):\n",
    "    x_array = birds.column(x_col)\n",
    "    y_array = birds.column(y_col)\n",
    "\n",
    "    x_mean = np.mean(x_array)\n",
    "    x_std = np.std(x_array)\n",
    "\n",
    "    y_mean = np.mean(y_array)\n",
    "    y_std = np.std(y_array)\n",
    "\n",
    "    x_su = (x_array - x_mean)/x_std\n",
    "    y_su = (y_array - y_mean)/y_std\n",
    "\n",
    "    r_value = np.mean(x_su*y_su)\n",
    "    slope = r_value*(y_std/x_std)\n",
    "    intercept = y_mean - slope * x_mean\n",
    "    \n",
    "    estimate = slope*x_array + intercept\n",
    "    \n",
    "    output_table = table.select(x_col,y_col).with_columns('Estimate',estimate,\n",
    "                                                          'Residual',y_array - estimate)\n",
    "    print(slope,intercept)\n",
    "    \n",
    "    return output_table\n",
    "\n",
    "def lin_reg_slope_intercept(table,x_col,y_col):\n",
    "    x_array = birds.column(x_col)\n",
    "    y_array = birds.column(y_col)\n",
    "\n",
    "    x_mean = np.mean(x_array)\n",
    "    x_std = np.std(x_array)\n",
    "\n",
    "    y_mean = np.mean(y_array)\n",
    "    y_std = np.std(y_array)\n",
    "\n",
    "    x_su = (x_array - x_mean)/x_std\n",
    "    y_su = (y_array - y_mean)/y_std\n",
    "\n",
    "    r_value = np.mean(x_su*y_su)\n",
    "    slope = r_value*(y_std/x_std)\n",
    "    intercept = y_mean - slope * x_mean\n",
    "    \n",
    "    return make_array(slope,intercept)\n",
    "\n",
    "x_y_estimate_residual(birds,'Egg Weight','Bird Weight')"
   ]
  },
  {
   "cell_type": "code",
   "execution_count": 5,
   "id": "5352083a",
   "metadata": {},
   "outputs": [
    {
     "name": "stdout",
     "output_type": "stream",
     "text": [
      "0.718515344894 -0.0582722619343\n"
     ]
    },
    {
     "data": {
      "text/plain": [
       "array([-0.05874129, -0.07429589, -0.01799896, -0.03059282, -0.0054051 ,\n",
       "       -0.24910817, -0.03355357,  0.0945949 , -0.30836584,  0.15089183,\n",
       "        0.3790403 , -0.13355357,  0.2945949 ,  0.20718876,  0.15089183,\n",
       "        0.12274336,  0.25089183, -0.03651431,  0.01978262, -0.33651431,\n",
       "       -0.5209597 ,  0.15089183,  0.03533723, -0.1054051 , -0.13355357,\n",
       "        0.16644643,  0.06348569, -0.14910817,  0.13533723,  0.0790403 ,\n",
       "        0.61978262,  0.09163416, -0.53651431, -0.15206891, -0.08021738,\n",
       "       -0.0209597 , -0.06466277,  0.31978262, -0.25206891, -0.15206891,\n",
       "        0.06348569,  0.11978262,  0.04497035, -0.10836584])"
      ]
     },
     "execution_count": 5,
     "metadata": {},
     "output_type": "execute_result"
    }
   ],
   "source": [
    "residual = x_y_estimate_residual(birds,'Egg Weight','Bird Weight').column('Residual')\n",
    "residual"
   ]
  },
  {
   "cell_type": "code",
   "execution_count": 6,
   "id": "22c00c85",
   "metadata": {},
   "outputs": [
    {
     "data": {
      "text/html": [
       "<table border=\"1\" class=\"dataframe\">\n",
       "    <thead>\n",
       "        <tr>\n",
       "            <th>Egg Length</th> <th>Egg Breadth</th> <th>Egg Weight</th> <th>Bird Weight</th> <th>Residual</th>\n",
       "        </tr>\n",
       "    </thead>\n",
       "    <tbody>\n",
       "        <tr>\n",
       "            <td>28.8      </td> <td>21.84      </td> <td>7.4       </td> <td>5.2        </td> <td>-0.0587413</td>\n",
       "        </tr>\n",
       "        <tr>\n",
       "            <td>29.04     </td> <td>22.45      </td> <td>7.7       </td> <td>5.4        </td> <td>-0.0742959</td>\n",
       "        </tr>\n",
       "        <tr>\n",
       "            <td>29.36     </td> <td>22.48      </td> <td>7.9       </td> <td>5.6        </td> <td>-0.017999 </td>\n",
       "        </tr>\n",
       "        <tr>\n",
       "            <td>30.1      </td> <td>21.71      </td> <td>7.5       </td> <td>5.3        </td> <td>-0.0305928</td>\n",
       "        </tr>\n",
       "        <tr>\n",
       "            <td>30.17     </td> <td>22.75      </td> <td>8.3       </td> <td>5.9        </td> <td>-0.0054051</td>\n",
       "        </tr>\n",
       "        <tr>\n",
       "            <td>30.34     </td> <td>22.84      </td> <td>8.5       </td> <td>5.8        </td> <td>-0.249108 </td>\n",
       "        </tr>\n",
       "        <tr>\n",
       "            <td>30.36     </td> <td>22.5       </td> <td>8.2       </td> <td>5.8        </td> <td>-0.0335536</td>\n",
       "        </tr>\n",
       "        <tr>\n",
       "            <td>30.46     </td> <td>22.72      </td> <td>8.3       </td> <td>6          </td> <td>0.0945949 </td>\n",
       "        </tr>\n",
       "        <tr>\n",
       "            <td>30.54     </td> <td>23.31      </td> <td>9         </td> <td>6.1        </td> <td>-0.308366 </td>\n",
       "        </tr>\n",
       "        <tr>\n",
       "            <td>30.62     </td> <td>22.94      </td> <td>8.5       </td> <td>6.2        </td> <td>0.150892  </td>\n",
       "        </tr>\n",
       "    </tbody>\n",
       "</table>\n",
       "<p>... (34 rows omitted)</p>"
      ],
      "text/plain": [
       "Egg Length | Egg Breadth | Egg Weight | Bird Weight | Residual\n",
       "28.8       | 21.84       | 7.4        | 5.2         | -0.0587413\n",
       "29.04      | 22.45       | 7.7        | 5.4         | -0.0742959\n",
       "29.36      | 22.48       | 7.9        | 5.6         | -0.017999\n",
       "30.1       | 21.71       | 7.5        | 5.3         | -0.0305928\n",
       "30.17      | 22.75       | 8.3        | 5.9         | -0.0054051\n",
       "30.34      | 22.84       | 8.5        | 5.8         | -0.249108\n",
       "30.36      | 22.5        | 8.2        | 5.8         | -0.0335536\n",
       "30.46      | 22.72       | 8.3        | 6           | 0.0945949\n",
       "30.54      | 23.31       | 9          | 6.1         | -0.308366\n",
       "30.62      | 22.94       | 8.5        | 6.2         | 0.150892\n",
       "... (34 rows omitted)"
      ]
     },
     "execution_count": 6,
     "metadata": {},
     "output_type": "execute_result"
    }
   ],
   "source": [
    "residual_table = birds.with_columns('Residual',residual)\n",
    "residual_table"
   ]
  },
  {
   "cell_type": "code",
   "execution_count": 7,
   "id": "4d654867",
   "metadata": {},
   "outputs": [
    {
     "data": {
      "image/png": "[encoded data removed]",
      "text/plain": [
       "<Figure size 500x500 with 1 Axes>"
      ]
     },
     "metadata": {},
     "output_type": "display_data"
    }
   ],
   "source": [
    "residual_table.scatter('Egg Weight','Residual',color = 'r')"
   ]
  },
  {
   "cell_type": "code",
   "execution_count": 8,
   "id": "6d4637cc",
   "metadata": {},
   "outputs": [
    {
     "data": {
      "text/plain": [
       "array([-0.05874129, -0.07429589, -0.01799896, -0.03059282, -0.0054051 ,\n",
       "       -0.24910817, -0.03355357,  0.0945949 , -0.30836584,  0.15089183,\n",
       "        0.3790403 , -0.13355357,  0.2945949 ,  0.20718876,  0.15089183,\n",
       "        0.12274336,  0.25089183, -0.03651431,  0.01978262, -0.33651431,\n",
       "       -0.5209597 ,  0.15089183,  0.03533723, -0.1054051 , -0.13355357,\n",
       "        0.16644643,  0.06348569, -0.14910817,  0.13533723,  0.0790403 ,\n",
       "        0.61978262,  0.09163416, -0.53651431, -0.15206891, -0.08021738,\n",
       "       -0.0209597 , -0.06466277,  0.31978262, -0.25206891, -0.15206891,\n",
       "        0.06348569,  0.11978262,  0.04497035, -0.10836584])"
      ]
     },
     "execution_count": 8,
     "metadata": {},
     "output_type": "execute_result"
    }
   ],
   "source": [
    "error = residual\n",
    "error"
   ]
  },
  {
   "cell_type": "code",
   "execution_count": 9,
   "id": "2e1ee642",
   "metadata": {},
   "outputs": [
    {
     "data": {
      "text/plain": [
       "array([  3.45053918e-03,   5.51987983e-03,   3.23962659e-04,\n",
       "         9.35920927e-04,   2.92151134e-05,   6.20548802e-02,\n",
       "         1.12584180e-03,   8.94819498e-03,   9.50894926e-02,\n",
       "         2.27683445e-02,   1.43671546e-01,   1.78365550e-02,\n",
       "         8.67861547e-02,   4.29271828e-02,   2.27683445e-02,\n",
       "         1.50659336e-02,   6.29467105e-02,   1.33329466e-03,\n",
       "         3.91352189e-04,   1.13241879e-01,   2.71399013e-01,\n",
       "         2.27683445e-02,   1.24871960e-03,   1.11102353e-02,\n",
       "         1.78365550e-02,   2.77044153e-02,   4.03043314e-03,\n",
       "         2.22332463e-02,   1.83161650e-02,   6.24736837e-03,\n",
       "         3.84130500e-01,   8.39681889e-03,   2.87847602e-01,\n",
       "         2.31249537e-02,   6.43482751e-03,   4.39309198e-04,\n",
       "         4.18127423e-03,   1.02260926e-01,   6.35387359e-02,\n",
       "         2.31249537e-02,   4.03043314e-03,   1.43478769e-02,\n",
       "         2.02233215e-03,   1.17431557e-02])"
      ]
     },
     "execution_count": 9,
     "metadata": {},
     "output_type": "execute_result"
    }
   ],
   "source": [
    "square = error**2\n",
    "square"
   ]
  },
  {
   "cell_type": "code",
   "execution_count": 10,
   "id": "4df356e6",
   "metadata": {},
   "outputs": [
    {
     "data": {
      "text/plain": [
       "0.04649394137555684"
      ]
     },
     "execution_count": 10,
     "metadata": {},
     "output_type": "execute_result"
    }
   ],
   "source": [
    "mean = np.mean(square)\n",
    "mean"
   ]
  },
  {
   "cell_type": "code",
   "execution_count": 13,
   "id": "f24eac2d",
   "metadata": {},
   "outputs": [
    {
     "data": {
      "text/plain": [
       "0.21562453797181072"
      ]
     },
     "execution_count": 13,
     "metadata": {},
     "output_type": "execute_result"
    }
   ],
   "source": [
    "root = m.sqrt(mean)\n",
    "root_other = (mean)**(1/2)\n",
    "root_other"
   ]
  },
  {
   "cell_type": "code",
   "execution_count": 12,
   "id": "0544c19c",
   "metadata": {},
   "outputs": [
    {
     "data": {
      "text/plain": [
       "0.21562453797181072"
      ]
     },
     "execution_count": 12,
     "metadata": {},
     "output_type": "execute_result"
    }
   ],
   "source": [
    "#let's put it all together in a one-line calculation\n",
    "root_mean_square_error = m.sqrt(np.mean(error**2))\n",
    "root_mean_square_error"
   ]
  },
  {
   "cell_type": "markdown",
   "id": "7712c570",
   "metadata": {},
   "source": [
    "### Let's define the function `rmse` to calculate the root mean square error"
   ]
  },
  {
   "cell_type": "markdown",
   "id": "9893fd5b",
   "metadata": {},
   "source": [
    "Given any proposed slope & intercept, it will calculate the root mean square error of the estimated column of 'Bird Weights' corresponding to the column of 'Egg Weights'"
   ]
  },
  {
   "cell_type": "code",
   "execution_count": 17,
   "id": "805217fe",
   "metadata": {},
   "outputs": [],
   "source": [
    "def rmse(slope,intercept):\n",
    "    x_array = birds.column('Egg Weight')\n",
    "    y_array = birds.column('Bird Weight')\n",
    "    \n",
    "    prediction = slope * x_array + intercept\n",
    "    errors = y_array - prediction\n",
    "    \n",
    "    return (np.mean(errors**2))**(1/2)"
   ]
  },
  {
   "cell_type": "code",
   "execution_count": 15,
   "id": "8d939a0e",
   "metadata": {},
   "outputs": [
    {
     "name": "stdout",
     "output_type": "stream",
     "text": [
      "0.7185153448936793 -0.05827226193428814\n"
     ]
    }
   ],
   "source": [
    "m_b_array = lin_reg_slope_intercept(birds,'Egg Weight','Bird Weight')\n",
    "m_slope = m_b_array.item(0)\n",
    "b_intercept = m_b_array.item(1)\n",
    "print(m_slope,b_intercept)"
   ]
  },
  {
   "cell_type": "code",
   "execution_count": 22,
   "id": "2f78f3c7",
   "metadata": {},
   "outputs": [
    {
     "data": {
      "text/html": [
       "<table border=\"1\" class=\"dataframe\">\n",
       "    <thead>\n",
       "        <tr>\n",
       "            <th>Slopes (m)</th> <th>Intercepts (b)</th> <th>RMSE</th>\n",
       "        </tr>\n",
       "    </thead>\n",
       "    <tbody>\n",
       "        <tr>\n",
       "            <td>0.7       </td> <td>0.1           </td> <td>0.215812</td>\n",
       "        </tr>\n",
       "        <tr>\n",
       "            <td>0.8       </td> <td>-0.8          </td> <td>0.222425</td>\n",
       "        </tr>\n",
       "        <tr>\n",
       "            <td>0.8       </td> <td>-0.7          </td> <td>0.227676</td>\n",
       "        </tr>\n",
       "        <tr>\n",
       "            <td>0.6       </td> <td>0.9           </td> <td>0.232242</td>\n",
       "        </tr>\n",
       "        <tr>\n",
       "            <td>0.7       </td> <td>0.2           </td> <td>0.237185</td>\n",
       "        </tr>\n",
       "        <tr>\n",
       "            <td>0.7       </td> <td>-2.22045e-16  </td> <td>0.238523</td>\n",
       "        </tr>\n",
       "        <tr>\n",
       "            <td>0.8       </td> <td>-0.9          </td> <td>0.259054</td>\n",
       "        </tr>\n",
       "        <tr>\n",
       "            <td>0.8       </td> <td>-0.6          </td> <td>0.272397</td>\n",
       "        </tr>\n",
       "        <tr>\n",
       "            <td>0.6       </td> <td>0.8           </td> <td>0.277374</td>\n",
       "        </tr>\n",
       "        <tr>\n",
       "            <td>0.7       </td> <td>0.3           </td> <td>0.293153</td>\n",
       "        </tr>\n",
       "    </tbody>\n",
       "</table>\n",
       "<p>... (390 rows omitted)</p>"
      ],
      "text/plain": [
       "Slopes (m) | Intercepts (b) | RMSE\n",
       "0.7        | 0.1            | 0.215812\n",
       "0.8        | -0.8           | 0.222425\n",
       "0.8        | -0.7           | 0.227676\n",
       "0.6        | 0.9            | 0.232242\n",
       "0.7        | 0.2            | 0.237185\n",
       "0.7        | -2.22045e-16   | 0.238523\n",
       "0.8        | -0.9           | 0.259054\n",
       "0.8        | -0.6           | 0.272397\n",
       "0.6        | 0.8            | 0.277374\n",
       "0.7        | 0.3            | 0.293153\n",
       "... (390 rows omitted)"
      ]
     },
     "execution_count": 22,
     "metadata": {},
     "output_type": "execute_result"
    }
   ],
   "source": [
    "slopes = make_array()\n",
    "intercepts = make_array()\n",
    "these_rmse = make_array()\n",
    "\n",
    "for m in np.arange(0,2,0.1):\n",
    "    for b in np.arange(-1,1,0.1):\n",
    "        this_rmse = rmse(m,b)\n",
    "        \n",
    "        slopes = np.append(slopes,m)\n",
    "        intercepts = np.append(intercepts,b)\n",
    "        these_rmse = np.append(these_rmse,this_rmse)\n",
    "\n",
    "Table().with_columns('Slopes (m)',slopes,\n",
    "                    'Intercepts (b)', intercepts,\n",
    "                    'RMSE',these_rmse).sort('RMSE')"
   ]
  },
  {
   "cell_type": "code",
   "execution_count": null,
   "id": "557e8868",
   "metadata": {},
   "outputs": [],
   "source": []
  },
  {
   "cell_type": "markdown",
   "id": "3a89d807",
   "metadata": {},
   "source": [
    "# The `minimize` function and Optimization"
   ]
  },
  {
   "cell_type": "code",
   "execution_count": 23,
   "id": "74a7ad36",
   "metadata": {},
   "outputs": [
    {
     "data": {
      "text/plain": [
       "array([ 0.71398551, -0.01916128])"
      ]
     },
     "execution_count": 23,
     "metadata": {},
     "output_type": "execute_result"
    }
   ],
   "source": [
    "minimize(rmse)"
   ]
  },
  {
   "cell_type": "code",
   "execution_count": 25,
   "id": "7fc49b88",
   "metadata": {},
   "outputs": [],
   "source": [
    "def quadratic(x):\n",
    "    return x**2 + 4*x - 12 "
   ]
  },
  {
   "cell_type": "code",
   "execution_count": 26,
   "id": "6dcf11b4",
   "metadata": {},
   "outputs": [
    {
     "data": {
      "text/plain": [
       "-2.0000000002270384"
      ]
     },
     "execution_count": 26,
     "metadata": {},
     "output_type": "execute_result"
    }
   ],
   "source": [
    "minimize(quadratic)"
   ]
  },
  {
   "cell_type": "code",
   "execution_count": null,
   "id": "5fc585be",
   "metadata": {},
   "outputs": [],
   "source": []
  }
 ],
 "metadata": {
  "kernelspec": {
   "display_name": "Python 3 (ipykernel)",
   "language": "python",
   "name": "python3"
  },
  "language_info": {
   "codemirror_mode": {
    "name": "ipython",
    "version": 3
   },
   "file_extension": ".py",
   "mimetype": "text/x-python",
   "name": "python",
   "nbconvert_exporter": "python",
   "pygments_lexer": "ipython3",
   "version": "3.7.8"
  }
 },
 "nbformat": 4,
 "nbformat_minor": 5
}
