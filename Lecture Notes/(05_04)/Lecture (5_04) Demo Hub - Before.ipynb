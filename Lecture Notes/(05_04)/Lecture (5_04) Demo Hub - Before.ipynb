{
 "cells": [
  {
   "cell_type": "markdown",
   "id": "23ee553c",
   "metadata": {},
   "source": [
    "# Importing our modules"
   ]
  },
  {
   "cell_type": "code",
   "execution_count": null,
   "id": "6faa871a",
   "metadata": {},
   "outputs": [],
   "source": [
    "import numpy as np\n",
    "from datascience import *\n",
    "import math as m\n",
    "\n",
    "# These lines do some fancy plotting magic.\n",
    "import matplotlib\n",
    "%matplotlib inline\n",
    "import matplotlib.pyplot as plt\n",
    "plt.style.use('fivethirtyeight')\n",
    "import warnings\n",
    "warnings.simplefilter('ignore', FutureWarning)"
   ]
  },
  {
   "cell_type": "code",
   "execution_count": null,
   "id": "292f654e",
   "metadata": {},
   "outputs": [],
   "source": [
    "birds = Table.read_table('snowy_plover.csv')\n",
    "birds"
   ]
  },
  {
   "cell_type": "markdown",
   "id": "aef8e9db",
   "metadata": {},
   "source": [
    "# The Residual & The Root Mean Square Error"
   ]
  },
  {
   "cell_type": "code",
   "execution_count": null,
   "id": "715dd2e3",
   "metadata": {},
   "outputs": [],
   "source": [
    "# Let's run this cell \n",
    "\n",
    "def x_y_estimate_residual(table,x_col,y_col):\n",
    "    x_array = birds.column(x_col)\n",
    "    y_array = birds.column(y_col)\n",
    "\n",
    "    x_mean = np.mean(x_array)\n",
    "    x_std = np.std(x_array)\n",
    "\n",
    "    y_mean = np.mean(y_array)\n",
    "    y_std = np.std(y_array)\n",
    "\n",
    "    x_su = (x_array - x_mean)/x_std\n",
    "    y_su = (y_array - y_mean)/y_std\n",
    "\n",
    "    r_value = np.mean(x_su*y_su)\n",
    "    slope = r_value*(y_std/x_std)\n",
    "    intercept = y_mean - slope * x_mean\n",
    "    \n",
    "    estimate = slope*x_array + intercept\n",
    "    \n",
    "    output_table = table.select(x_col,y_col).with_columns('Estimate',estimate,\n",
    "                                                          'Residual',y_array - estimate)\n",
    "    print(slope,intercept)\n",
    "    \n",
    "    return output_table\n",
    "\n",
    "def lin_reg_slope_intercept(table,x_col,y_col):\n",
    "    x_array = birds.column(x_col)\n",
    "    y_array = birds.column(y_col)\n",
    "\n",
    "    x_mean = np.mean(x_array)\n",
    "    x_std = np.std(x_array)\n",
    "\n",
    "    y_mean = np.mean(y_array)\n",
    "    y_std = np.std(y_array)\n",
    "\n",
    "    x_su = (x_array - x_mean)/x_std\n",
    "    y_su = (y_array - y_mean)/y_std\n",
    "\n",
    "    r_value = np.mean(x_su*y_su)\n",
    "    slope = r_value*(y_std/x_std)\n",
    "    intercept = y_mean - slope * x_mean\n",
    "    \n",
    "    return make_array(slope,intercept)\n",
    "\n",
    "x_y_estimate_residual(birds,'Egg Weight','Bird Weight')"
   ]
  },
  {
   "cell_type": "code",
   "execution_count": null,
   "id": "5352083a",
   "metadata": {},
   "outputs": [],
   "source": [
    "residual = ..."
   ]
  },
  {
   "cell_type": "code",
   "execution_count": null,
   "id": "22c00c85",
   "metadata": {},
   "outputs": [],
   "source": [
    "residual_table = birds.with_columns('Residual',residual)\n",
    "residual_table"
   ]
  },
  {
   "cell_type": "code",
   "execution_count": null,
   "id": "4d654867",
   "metadata": {},
   "outputs": [],
   "source": [
    "residual_table.scatter('Egg Weight','Residual',color = 'r')"
   ]
  },
  {
   "cell_type": "code",
   "execution_count": null,
   "id": "6d4637cc",
   "metadata": {},
   "outputs": [],
   "source": [
    "error = residual\n",
    "error"
   ]
  },
  {
   "cell_type": "code",
   "execution_count": null,
   "id": "2e1ee642",
   "metadata": {},
   "outputs": [],
   "source": [
    "square = error**2\n",
    "square"
   ]
  },
  {
   "cell_type": "code",
   "execution_count": null,
   "id": "4df356e6",
   "metadata": {},
   "outputs": [],
   "source": [
    "mean = np.mean(square)\n",
    "mean"
   ]
  },
  {
   "cell_type": "code",
   "execution_count": null,
   "id": "f24eac2d",
   "metadata": {},
   "outputs": [],
   "source": [
    "root = m.sqrt(mean)\n",
    "root"
   ]
  },
  {
   "cell_type": "code",
   "execution_count": null,
   "id": "0544c19c",
   "metadata": {},
   "outputs": [],
   "source": [
    "#let's put it all together in a one-line calculation\n",
    "root_mean_square_error = ...\n",
    "root_mean_square_error"
   ]
  },
  {
   "cell_type": "markdown",
   "id": "7712c570",
   "metadata": {},
   "source": [
    "### Let's define the function `rmse` to calculate the root mean square error"
   ]
  },
  {
   "cell_type": "markdown",
   "id": "9893fd5b",
   "metadata": {},
   "source": [
    "Given any proposed slope & intercept, it will calculate the root mean square error of the estimated column of 'Bird Weights' corresponding to the column of 'Egg Weights'"
   ]
  },
  {
   "cell_type": "code",
   "execution_count": null,
   "id": "805217fe",
   "metadata": {},
   "outputs": [],
   "source": [
    "def rmse(slope,intercept):\n",
    "    x_array = birds.column('Egg Weight')\n",
    "    y_array = birds.column('Bird Weight')\n",
    "    \n",
    "    prediction = ...\n",
    "    ...\n",
    "    \n",
    "    return ..."
   ]
  },
  {
   "cell_type": "code",
   "execution_count": null,
   "id": "8d939a0e",
   "metadata": {},
   "outputs": [],
   "source": [
    "m_b_array = lin_reg_slope_intercept(birds,'Egg Weight','Bird Weight')\n",
    "m_slope = m_b_array.item(0)\n",
    "b_intercept = m_b_array.item(1)\n",
    "print(m_slope,b_intercept)"
   ]
  },
  {
   "cell_type": "code",
   "execution_count": null,
   "id": "2f78f3c7",
   "metadata": {},
   "outputs": [],
   "source": [
    "slopes = make_array()\n",
    "intercepts = make_array()\n",
    "these_rmse = make_array()\n",
    "\n",
    "for m in np.arange(0,2,0.1):\n",
    "    for b in np.arange(-1,1,0.1):\n",
    "        this_rmse = rmse(m,b)\n",
    "        \n",
    "        slopes = np.append(slopes,m)\n",
    "        intercepts = np.append(intercepts,b)\n",
    "        these_rmse = np.append(these_rmse,this_rmse)\n",
    "\n",
    "Table().with_columns('Slopes (m)',slopes,\n",
    "                    'Intercepts (b)', intercepts,\n",
    "                    'RMSE',these_rmse).show()"
   ]
  },
  {
   "cell_type": "code",
   "execution_count": null,
   "id": "557e8868",
   "metadata": {},
   "outputs": [],
   "source": []
  },
  {
   "cell_type": "markdown",
   "id": "3a89d807",
   "metadata": {},
   "source": [
    "# The `minimize` function and Optimization"
   ]
  },
  {
   "cell_type": "code",
   "execution_count": null,
   "id": "74a7ad36",
   "metadata": {},
   "outputs": [],
   "source": [
    "minimize(rmse)"
   ]
  },
  {
   "cell_type": "code",
   "execution_count": null,
   "id": "1922bdf8",
   "metadata": {},
   "outputs": [],
   "source": []
  }
 ],
 "metadata": {
  "kernelspec": {
   "display_name": "Python 3 (ipykernel)",
   "language": "python",
   "name": "python3"
  },
  "language_info": {
   "codemirror_mode": {
    "name": "ipython",
    "version": 3
   },
   "file_extension": ".py",
   "mimetype": "text/x-python",
   "name": "python",
   "nbconvert_exporter": "python",
   "pygments_lexer": "ipython3",
   "version": "3.7.8"
  }
 },
 "nbformat": 4,
 "nbformat_minor": 5
}
