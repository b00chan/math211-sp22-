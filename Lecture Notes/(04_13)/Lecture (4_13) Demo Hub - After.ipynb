{
 "cells": [
  {
   "cell_type": "markdown",
   "id": "ec9959b5",
   "metadata": {},
   "source": [
    "# Importing our modules"
   ]
  },
  {
   "cell_type": "code",
   "execution_count": 1,
   "id": "bc35b0b0",
   "metadata": {},
   "outputs": [],
   "source": [
    "import numpy as np\n",
    "from datascience import *\n",
    "\n",
    "# These lines do some fancy plotting magic.\n",
    "import matplotlib\n",
    "%matplotlib inline\n",
    "import matplotlib.pyplot as plt\n",
    "plt.style.use('fivethirtyeight')\n",
    "import warnings\n",
    "warnings.simplefilter('ignore', FutureWarning)"
   ]
  },
  {
   "cell_type": "markdown",
   "id": "4d6a07a0",
   "metadata": {},
   "source": [
    "# Constructing Confidence Intervals"
   ]
  },
  {
   "cell_type": "code",
   "execution_count": 2,
   "id": "7a19e909",
   "metadata": {},
   "outputs": [
    {
     "data": {
      "text/html": [
       "<table border=\"1\" class=\"dataframe\">\n",
       "    <thead>\n",
       "        <tr>\n",
       "            <th>USMER</th> <th>MEDICAL_UNIT</th> <th>SEX</th> <th>PATIENT_TYPE</th> <th>DATE_DIED</th> <th>INTUBED</th> <th>PNEUMONIA</th> <th>AGE</th> <th>PREGNANT</th> <th>DIABETES</th> <th>COPD</th> <th>ASTHMA</th> <th>INMSUPR</th> <th>HIPERTENSION</th> <th>OTHER_DISEASE</th> <th>CARDIOVASCULAR</th> <th>OBESITY</th> <th>RENAL_CHRONIC</th> <th>TOBACCO</th> <th>CLASIFFICATION_FINAL</th> <th>ICU</th>\n",
       "        </tr>\n",
       "    </thead>\n",
       "    <tbody>\n",
       "        <tr>\n",
       "            <td>2    </td> <td>1           </td> <td>1   </td> <td>1           </td> <td>3/5/2020  </td> <td>97     </td> <td>1        </td> <td>65  </td> <td>2       </td> <td>2       </td> <td>2   </td> <td>2     </td> <td>2      </td> <td>1           </td> <td>2            </td> <td>2             </td> <td>2      </td> <td>2            </td> <td>2      </td> <td>3                   </td> <td>97  </td>\n",
       "        </tr>\n",
       "        <tr>\n",
       "            <td>2    </td> <td>1           </td> <td>1   </td> <td>1           </td> <td>12/6/2020 </td> <td>97     </td> <td>2        </td> <td>53  </td> <td>2       </td> <td>2       </td> <td>2   </td> <td>2     </td> <td>2      </td> <td>2           </td> <td>2            </td> <td>2             </td> <td>2      </td> <td>2            </td> <td>2      </td> <td>7                   </td> <td>97  </td>\n",
       "        </tr>\n",
       "        <tr>\n",
       "            <td>2    </td> <td>1           </td> <td>1   </td> <td>1           </td> <td>9999-99-99</td> <td>97     </td> <td>2        </td> <td>64  </td> <td>2       </td> <td>2       </td> <td>2   </td> <td>2     </td> <td>2      </td> <td>2           </td> <td>2            </td> <td>2             </td> <td>2      </td> <td>2            </td> <td>2      </td> <td>3                   </td> <td>97  </td>\n",
       "        </tr>\n",
       "        <tr>\n",
       "            <td>2    </td> <td>1           </td> <td>1   </td> <td>2           </td> <td>9999-99-99</td> <td>2      </td> <td>2        </td> <td>25  </td> <td>2       </td> <td>2       </td> <td>2   </td> <td>2     </td> <td>2      </td> <td>2           </td> <td>2            </td> <td>2             </td> <td>2      </td> <td>2            </td> <td>2      </td> <td>3                   </td> <td>2   </td>\n",
       "        </tr>\n",
       "        <tr>\n",
       "            <td>2    </td> <td>1           </td> <td>2   </td> <td>2           </td> <td>9999-99-99</td> <td>2      </td> <td>2        </td> <td>30  </td> <td>97      </td> <td>2       </td> <td>2   </td> <td>2     </td> <td>2      </td> <td>2           </td> <td>2            </td> <td>2             </td> <td>2      </td> <td>2            </td> <td>2      </td> <td>3                   </td> <td>2   </td>\n",
       "        </tr>\n",
       "        <tr>\n",
       "            <td>2    </td> <td>1           </td> <td>1   </td> <td>1           </td> <td>9999-99-99</td> <td>97     </td> <td>2        </td> <td>23  </td> <td>2       </td> <td>2       </td> <td>2   </td> <td>2     </td> <td>2      </td> <td>2           </td> <td>2            </td> <td>2             </td> <td>2      </td> <td>2            </td> <td>2      </td> <td>3                   </td> <td>97  </td>\n",
       "        </tr>\n",
       "        <tr>\n",
       "            <td>2    </td> <td>1           </td> <td>2   </td> <td>1           </td> <td>9999-99-99</td> <td>97     </td> <td>2        </td> <td>54  </td> <td>97      </td> <td>2       </td> <td>2   </td> <td>2     </td> <td>2      </td> <td>2           </td> <td>2            </td> <td>2             </td> <td>2      </td> <td>2            </td> <td>2      </td> <td>3                   </td> <td>97  </td>\n",
       "        </tr>\n",
       "        <tr>\n",
       "            <td>2    </td> <td>1           </td> <td>2   </td> <td>1           </td> <td>9999-99-99</td> <td>97     </td> <td>2        </td> <td>30  </td> <td>97      </td> <td>2       </td> <td>2   </td> <td>2     </td> <td>2      </td> <td>2           </td> <td>2            </td> <td>2             </td> <td>2      </td> <td>2            </td> <td>2      </td> <td>3                   </td> <td>97  </td>\n",
       "        </tr>\n",
       "        <tr>\n",
       "            <td>2    </td> <td>1           </td> <td>1   </td> <td>1           </td> <td>9999-99-99</td> <td>97     </td> <td>2        </td> <td>38  </td> <td>2       </td> <td>2       </td> <td>2   </td> <td>2     </td> <td>2      </td> <td>2           </td> <td>2            </td> <td>2             </td> <td>2      </td> <td>1            </td> <td>2      </td> <td>3                   </td> <td>97  </td>\n",
       "        </tr>\n",
       "        <tr>\n",
       "            <td>2    </td> <td>1           </td> <td>2   </td> <td>1           </td> <td>9999-99-99</td> <td>97     </td> <td>2        </td> <td>49  </td> <td>97      </td> <td>2       </td> <td>2   </td> <td>2     </td> <td>2      </td> <td>2           </td> <td>2            </td> <td>2             </td> <td>2      </td> <td>2            </td> <td>2      </td> <td>3                   </td> <td>97  </td>\n",
       "        </tr>\n",
       "    </tbody>\n",
       "</table>\n",
       "<p>... (349515 rows omitted)</p>"
      ],
      "text/plain": [
       "USMER | MEDICAL_UNIT | SEX  | PATIENT_TYPE | DATE_DIED  | INTUBED | PNEUMONIA | AGE  | PREGNANT | DIABETES | COPD | ASTHMA | INMSUPR | HIPERTENSION | OTHER_DISEASE | CARDIOVASCULAR | OBESITY | RENAL_CHRONIC | TOBACCO | CLASIFFICATION_FINAL | ICU\n",
       "2     | 1            | 1    | 1            | 3/5/2020   | 97      | 1         | 65   | 2        | 2        | 2    | 2      | 2       | 1            | 2             | 2              | 2       | 2             | 2       | 3                    | 97\n",
       "2     | 1            | 1    | 1            | 12/6/2020  | 97      | 2         | 53   | 2        | 2        | 2    | 2      | 2       | 2            | 2             | 2              | 2       | 2             | 2       | 7                    | 97\n",
       "2     | 1            | 1    | 1            | 9999-99-99 | 97      | 2         | 64   | 2        | 2        | 2    | 2      | 2       | 2            | 2             | 2              | 2       | 2             | 2       | 3                    | 97\n",
       "2     | 1            | 1    | 2            | 9999-99-99 | 2       | 2         | 25   | 2        | 2        | 2    | 2      | 2       | 2            | 2             | 2              | 2       | 2             | 2       | 3                    | 2\n",
       "2     | 1            | 2    | 2            | 9999-99-99 | 2       | 2         | 30   | 97       | 2        | 2    | 2      | 2       | 2            | 2             | 2              | 2       | 2             | 2       | 3                    | 2\n",
       "2     | 1            | 1    | 1            | 9999-99-99 | 97      | 2         | 23   | 2        | 2        | 2    | 2      | 2       | 2            | 2             | 2              | 2       | 2             | 2       | 3                    | 97\n",
       "2     | 1            | 2    | 1            | 9999-99-99 | 97      | 2         | 54   | 97       | 2        | 2    | 2      | 2       | 2            | 2             | 2              | 2       | 2             | 2       | 3                    | 97\n",
       "2     | 1            | 2    | 1            | 9999-99-99 | 97      | 2         | 30   | 97       | 2        | 2    | 2      | 2       | 2            | 2             | 2              | 2       | 2             | 2       | 3                    | 97\n",
       "2     | 1            | 1    | 1            | 9999-99-99 | 97      | 2         | 38   | 2        | 2        | 2    | 2      | 2       | 2            | 2             | 2              | 2       | 1             | 2       | 3                    | 97\n",
       "2     | 1            | 2    | 1            | 9999-99-99 | 97      | 2         | 49   | 97       | 2        | 2    | 2      | 2       | 2            | 2             | 2              | 2       | 2             | 2       | 3                    | 97\n",
       "... (349515 rows omitted)"
      ]
     },
     "execution_count": 2,
     "metadata": {},
     "output_type": "execute_result"
    }
   ],
   "source": [
    "covid_data = Table.read_table(\"Covid Data_subset.csv\")\n",
    "covid_data"
   ]
  },
  {
   "cell_type": "code",
   "execution_count": 3,
   "id": "0c8af2d1",
   "metadata": {},
   "outputs": [
    {
     "data": {
      "text/plain": [
       "7.337672555611185"
      ]
     },
     "execution_count": 3,
     "metadata": {},
     "output_type": "execute_result"
    }
   ],
   "source": [
    "#Let's consider this data set to be our population, and calculate the death rate of patients with covid.  \n",
    "#Those with an impossible date for death can be assumed to live in this data set\n",
    "100*(1 - (covid_data.where('DATE_DIED','9999-99-99').num_rows / covid_data.num_rows))"
   ]
  },
  {
   "cell_type": "markdown",
   "id": "f667888e",
   "metadata": {},
   "source": [
    "### Let's play out a scenario"
   ]
  },
  {
   "cell_type": "markdown",
   "id": "099bbefe",
   "metadata": {},
   "source": [
    "Suppose that we are still in the early stages of the covid pandemic. You work for a hospital that has seen 100 patients so far. You want to know how deadly this illness is to the population. "
   ]
  },
  {
   "cell_type": "code",
   "execution_count": 4,
   "id": "319a83f9",
   "metadata": {},
   "outputs": [
    {
     "data": {
      "text/html": [
       "<table border=\"1\" class=\"dataframe\">\n",
       "    <thead>\n",
       "        <tr>\n",
       "            <th>USMER</th> <th>MEDICAL_UNIT</th> <th>SEX</th> <th>PATIENT_TYPE</th> <th>DATE_DIED</th> <th>INTUBED</th> <th>PNEUMONIA</th> <th>AGE</th> <th>PREGNANT</th> <th>DIABETES</th> <th>COPD</th> <th>ASTHMA</th> <th>INMSUPR</th> <th>HIPERTENSION</th> <th>OTHER_DISEASE</th> <th>CARDIOVASCULAR</th> <th>OBESITY</th> <th>RENAL_CHRONIC</th> <th>TOBACCO</th> <th>CLASIFFICATION_FINAL</th> <th>ICU</th>\n",
       "        </tr>\n",
       "    </thead>\n",
       "    <tbody>\n",
       "        <tr>\n",
       "            <td>1    </td> <td>12          </td> <td>1   </td> <td>1           </td> <td>9999-99-99</td> <td>97     </td> <td>2        </td> <td>44  </td> <td>2       </td> <td>2       </td> <td>2   </td> <td>2     </td> <td>2      </td> <td>2           </td> <td>2            </td> <td>2             </td> <td>1      </td> <td>2            </td> <td>2      </td> <td>3                   </td> <td>97  </td>\n",
       "        </tr>\n",
       "        <tr>\n",
       "            <td>2    </td> <td>12          </td> <td>1   </td> <td>1           </td> <td>9999-99-99</td> <td>97     </td> <td>2        </td> <td>33  </td> <td>2       </td> <td>2       </td> <td>2   </td> <td>2     </td> <td>2      </td> <td>2           </td> <td>2            </td> <td>2             </td> <td>2      </td> <td>2            </td> <td>1      </td> <td>7                   </td> <td>97  </td>\n",
       "        </tr>\n",
       "        <tr>\n",
       "            <td>1    </td> <td>12          </td> <td>2   </td> <td>1           </td> <td>9999-99-99</td> <td>97     </td> <td>1        </td> <td>51  </td> <td>97      </td> <td>2       </td> <td>2   </td> <td>2     </td> <td>2      </td> <td>2           </td> <td>2            </td> <td>2             </td> <td>2      </td> <td>2            </td> <td>2      </td> <td>3                   </td> <td>97  </td>\n",
       "        </tr>\n",
       "        <tr>\n",
       "            <td>1    </td> <td>4           </td> <td>1   </td> <td>2           </td> <td>14/06/2020</td> <td>2      </td> <td>1        </td> <td>67  </td> <td>2       </td> <td>1       </td> <td>2   </td> <td>2     </td> <td>2      </td> <td>1           </td> <td>2            </td> <td>2             </td> <td>2      </td> <td>2            </td> <td>2      </td> <td>3                   </td> <td>2   </td>\n",
       "        </tr>\n",
       "        <tr>\n",
       "            <td>1    </td> <td>12          </td> <td>1   </td> <td>2           </td> <td>11/7/2020 </td> <td>2      </td> <td>1        </td> <td>68  </td> <td>2       </td> <td>1       </td> <td>1   </td> <td>2     </td> <td>2      </td> <td>2           </td> <td>2            </td> <td>2             </td> <td>2      </td> <td>2            </td> <td>2      </td> <td>7                   </td> <td>2   </td>\n",
       "        </tr>\n",
       "        <tr>\n",
       "            <td>1    </td> <td>12          </td> <td>2   </td> <td>1           </td> <td>9999-99-99</td> <td>97     </td> <td>2        </td> <td>48  </td> <td>97      </td> <td>2       </td> <td>2   </td> <td>2     </td> <td>2      </td> <td>2           </td> <td>2            </td> <td>2             </td> <td>2      </td> <td>2            </td> <td>2      </td> <td>6                   </td> <td>97  </td>\n",
       "        </tr>\n",
       "        <tr>\n",
       "            <td>1    </td> <td>12          </td> <td>1   </td> <td>2           </td> <td>9999-99-99</td> <td>2      </td> <td>2        </td> <td>33  </td> <td>2       </td> <td>2       </td> <td>2   </td> <td>2     </td> <td>2      </td> <td>2           </td> <td>2            </td> <td>2             </td> <td>2      </td> <td>2            </td> <td>2      </td> <td>7                   </td> <td>2   </td>\n",
       "        </tr>\n",
       "        <tr>\n",
       "            <td>1    </td> <td>12          </td> <td>2   </td> <td>1           </td> <td>9999-99-99</td> <td>97     </td> <td>2        </td> <td>24  </td> <td>97      </td> <td>2       </td> <td>2   </td> <td>2     </td> <td>2      </td> <td>2           </td> <td>2            </td> <td>2             </td> <td>2      </td> <td>2            </td> <td>2      </td> <td>7                   </td> <td>97  </td>\n",
       "        </tr>\n",
       "        <tr>\n",
       "            <td>2    </td> <td>6           </td> <td>2   </td> <td>1           </td> <td>9999-99-99</td> <td>97     </td> <td>1        </td> <td>51  </td> <td>97      </td> <td>2       </td> <td>2   </td> <td>2     </td> <td>2      </td> <td>2           </td> <td>2            </td> <td>2             </td> <td>2      </td> <td>2            </td> <td>2      </td> <td>7                   </td> <td>97  </td>\n",
       "        </tr>\n",
       "        <tr>\n",
       "            <td>2    </td> <td>12          </td> <td>2   </td> <td>1           </td> <td>9999-99-99</td> <td>97     </td> <td>2        </td> <td>60  </td> <td>97      </td> <td>2       </td> <td>2   </td> <td>2     </td> <td>2      </td> <td>2           </td> <td>2            </td> <td>2             </td> <td>2      </td> <td>2            </td> <td>2      </td> <td>3                   </td> <td>97  </td>\n",
       "        </tr>\n",
       "    </tbody>\n",
       "</table>\n",
       "<p>... (90 rows omitted)</p>"
      ],
      "text/plain": [
       "USMER | MEDICAL_UNIT | SEX  | PATIENT_TYPE | DATE_DIED  | INTUBED | PNEUMONIA | AGE  | PREGNANT | DIABETES | COPD | ASTHMA | INMSUPR | HIPERTENSION | OTHER_DISEASE | CARDIOVASCULAR | OBESITY | RENAL_CHRONIC | TOBACCO | CLASIFFICATION_FINAL | ICU\n",
       "1     | 12           | 1    | 1            | 9999-99-99 | 97      | 2         | 44   | 2        | 2        | 2    | 2      | 2       | 2            | 2             | 2              | 1       | 2             | 2       | 3                    | 97\n",
       "2     | 12           | 1    | 1            | 9999-99-99 | 97      | 2         | 33   | 2        | 2        | 2    | 2      | 2       | 2            | 2             | 2              | 2       | 2             | 1       | 7                    | 97\n",
       "1     | 12           | 2    | 1            | 9999-99-99 | 97      | 1         | 51   | 97       | 2        | 2    | 2      | 2       | 2            | 2             | 2              | 2       | 2             | 2       | 3                    | 97\n",
       "1     | 4            | 1    | 2            | 14/06/2020 | 2       | 1         | 67   | 2        | 1        | 2    | 2      | 2       | 1            | 2             | 2              | 2       | 2             | 2       | 3                    | 2\n",
       "1     | 12           | 1    | 2            | 11/7/2020  | 2       | 1         | 68   | 2        | 1        | 1    | 2      | 2       | 2            | 2             | 2              | 2       | 2             | 2       | 7                    | 2\n",
       "1     | 12           | 2    | 1            | 9999-99-99 | 97      | 2         | 48   | 97       | 2        | 2    | 2      | 2       | 2            | 2             | 2              | 2       | 2             | 2       | 6                    | 97\n",
       "1     | 12           | 1    | 2            | 9999-99-99 | 2       | 2         | 33   | 2        | 2        | 2    | 2      | 2       | 2            | 2             | 2              | 2       | 2             | 2       | 7                    | 2\n",
       "1     | 12           | 2    | 1            | 9999-99-99 | 97      | 2         | 24   | 97       | 2        | 2    | 2      | 2       | 2            | 2             | 2              | 2       | 2             | 2       | 7                    | 97\n",
       "2     | 6            | 2    | 1            | 9999-99-99 | 97      | 1         | 51   | 97       | 2        | 2    | 2      | 2       | 2            | 2             | 2              | 2       | 2             | 2       | 7                    | 97\n",
       "2     | 12           | 2    | 1            | 9999-99-99 | 97      | 2         | 60   | 97       | 2        | 2    | 2      | 2       | 2            | 2             | 2              | 2       | 2             | 2       | 3                    | 97\n",
       "... (90 rows omitted)"
      ]
     },
     "execution_count": 4,
     "metadata": {},
     "output_type": "execute_result"
    }
   ],
   "source": [
    "#we proceed by taking a sample of 100 from the covid table. Let's assume that these are the 100 patients we saw.\n",
    "covid_sample = covid_data.sample(100,with_replacement = False)\n",
    "covid_sample"
   ]
  },
  {
   "cell_type": "markdown",
   "id": "30e96e24",
   "metadata": {},
   "source": [
    "Then we can define the following functions to construct an upper and lower bound for the confidence interval"
   ]
  },
  {
   "cell_type": "code",
   "execution_count": 28,
   "id": "d05e53f2",
   "metadata": {},
   "outputs": [],
   "source": [
    "def confidence_interval_for_death_rate(level):\n",
    "    stats = make_array()  #creating an empty array to store all of my bootstrapped sample proportions\n",
    "    \n",
    "    \n",
    "    for i in np.arange(10000):\n",
    "        #covid_sample.sample() is where I bootstrap re-sample the data I have above\n",
    "        stat = 100*(1 - ((covid_sample.sample()).where('DATE_DIED','9999-99-99').num_rows / covid_sample.num_rows))\n",
    "        #the line above takes the re-sample and calculates the percentage of mortality \n",
    "        \n",
    "        stats = np.append(stats,stat)\n",
    "        # store the statistic into the array above \n",
    "        \n",
    "    lower_bound = str(percentile((100 - level)/2,stats))\n",
    "    upper_bound = str(percentile( 100 - ((100 - level)/2) , stats))\n",
    "\n",
    "    return 'We are '+ str(level)+'% confident that the true death rate is between '+lower_bound+' and '+upper_bound"
   ]
  },
  {
   "cell_type": "code",
   "execution_count": 29,
   "id": "9cd92ba7",
   "metadata": {},
   "outputs": [
    {
     "data": {
      "text/plain": [
       "'We are 95% confident that the true death rate is between 7.0 and 21.0'"
      ]
     },
     "execution_count": 29,
     "metadata": {},
     "output_type": "execute_result"
    }
   ],
   "source": [
    "confidence_interval_for_death_rate(95)"
   ]
  },
  {
   "cell_type": "code",
   "execution_count": null,
   "id": "572d492c",
   "metadata": {},
   "outputs": [],
   "source": []
  },
  {
   "cell_type": "code",
   "execution_count": 13,
   "id": "b6815bc9",
   "metadata": {},
   "outputs": [],
   "source": [
    "def confidence_interval_lower_b(tbl,level,column_label):\n",
    "    stats = make_array()\n",
    "    for i in np.arange(10000):\n",
    "        stat = np.mean(tbl.sample().column(column_label))\n",
    "        stats = np.append(stats,stat)\n",
    "    return percentile( (100 - level)/2 , stats)\n",
    "\n",
    "def confidence_interval_upper_b(tbl,level,column_label):\n",
    "    stats = make_array()\n",
    "    for i in np.arange(10000):\n",
    "        stat = np.mean(tbl.sample().column(column_label))\n",
    "        stats = np.append(stats,stat)\n",
    "    return percentile( 100 - ((100 - level)/2) , stats)"
   ]
  },
  {
   "cell_type": "code",
   "execution_count": 15,
   "id": "5a796cdd",
   "metadata": {},
   "outputs": [
    {
     "name": "stdout",
     "output_type": "stream",
     "text": [
      "The confidence interval for AGE\n",
      "is from 37.58\n",
      "up to 44.35\n"
     ]
    }
   ],
   "source": [
    "column_to_look_at = 'AGE'\n",
    "level = 95\n",
    "print('The confidence interval for',column_to_look_at) \n",
    "print('is from',confidence_interval_lower_b(covid_sample,level,column_to_look_at))\n",
    "print('up to',confidence_interval_upper_b(covid_sample,level,column_to_look_at))"
   ]
  },
  {
   "cell_type": "code",
   "execution_count": 14,
   "id": "6ef5b52c",
   "metadata": {},
   "outputs": [
    {
     "data": {
      "text/plain": [
       "41.809072312424007"
      ]
     },
     "execution_count": 14,
     "metadata": {},
     "output_type": "execute_result"
    }
   ],
   "source": [
    "np.mean(covid_data.column('AGE'))"
   ]
  },
  {
   "cell_type": "code",
   "execution_count": null,
   "id": "708ebc27",
   "metadata": {},
   "outputs": [],
   "source": []
  }
 ],
 "metadata": {
  "kernelspec": {
   "display_name": "Python 3 (ipykernel)",
   "language": "python",
   "name": "python3"
  },
  "language_info": {
   "codemirror_mode": {
    "name": "ipython",
    "version": 3
   },
   "file_extension": ".py",
   "mimetype": "text/x-python",
   "name": "python",
   "nbconvert_exporter": "python",
   "pygments_lexer": "ipython3",
   "version": "3.7.8"
  }
 },
 "nbformat": 4,
 "nbformat_minor": 5
}
