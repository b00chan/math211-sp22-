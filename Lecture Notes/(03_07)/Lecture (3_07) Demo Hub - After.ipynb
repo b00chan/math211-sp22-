{
 "cells": [
  {
   "cell_type": "markdown",
   "id": "e3fc9750",
   "metadata": {},
   "source": [
    "# Setting up our modules"
   ]
  },
  {
   "cell_type": "code",
   "execution_count": 1,
   "id": "8979276d",
   "metadata": {},
   "outputs": [],
   "source": [
    "import numpy as np\n",
    "from datascience import *"
   ]
  },
  {
   "cell_type": "code",
   "execution_count": 2,
   "id": "e6f910ea",
   "metadata": {},
   "outputs": [],
   "source": [
    "spotify = Table.read_table('Spotify_final_dataset.csv')"
   ]
  },
  {
   "cell_type": "code",
   "execution_count": 3,
   "id": "e6ccaa63",
   "metadata": {
    "scrolled": false
   },
   "outputs": [
    {
     "data": {
      "text/html": [
       "<table border=\"1\" class=\"dataframe\">\n",
       "    <thead>\n",
       "        <tr>\n",
       "            <th>Position</th> <th>Artist Name</th> <th>Song Name</th> <th>Days</th> <th>Top 10 (xTimes)</th> <th>Peak Position</th> <th>Peak Position (xTimes)</th> <th>Peak Streams</th> <th>Total Streams</th>\n",
       "        </tr>\n",
       "    </thead>\n",
       "    <tbody>\n",
       "        <tr>\n",
       "            <td>1       </td> <td>Post Malone  </td> <td>Sunflower  SpiderMan: Into the SpiderVerse</td> <td>1506</td> <td>302            </td> <td>1            </td> <td>(x29)                 </td> <td>2118242     </td> <td>883369738    </td>\n",
       "        </tr>\n",
       "        <tr>\n",
       "            <td>2       </td> <td>Juice WRLD   </td> <td>Lucid Dreams                              </td> <td>1673</td> <td>178            </td> <td>1            </td> <td>(x20)                 </td> <td>2127668     </td> <td>864832399    </td>\n",
       "        </tr>\n",
       "        <tr>\n",
       "            <td>3       </td> <td>Lil Uzi Vert </td> <td>XO TOUR Llif3                             </td> <td>1853</td> <td>212            </td> <td>1            </td> <td>(x4)                  </td> <td>1660502     </td> <td>781153024    </td>\n",
       "        </tr>\n",
       "        <tr>\n",
       "            <td>4       </td> <td>J. Cole      </td> <td>No Role Modelz                            </td> <td>2547</td> <td>6              </td> <td>7            </td> <td>0                     </td> <td>659366      </td> <td>734857487    </td>\n",
       "        </tr>\n",
       "        <tr>\n",
       "            <td>5       </td> <td>Post Malone  </td> <td>rockstar                                  </td> <td>1223</td> <td>186            </td> <td>1            </td> <td>(x124)                </td> <td>2905678     </td> <td>718865961    </td>\n",
       "        </tr>\n",
       "        <tr>\n",
       "            <td>6       </td> <td>Travis Scott </td> <td>goosebumps                                </td> <td>1995</td> <td>4              </td> <td>8            </td> <td>0                     </td> <td>977275      </td> <td>672972704    </td>\n",
       "        </tr>\n",
       "        <tr>\n",
       "            <td>7       </td> <td>The Weeknd   </td> <td>Blinding Lights                           </td> <td>1100</td> <td>233            </td> <td>1            </td> <td>(x11)                 </td> <td>2355059     </td> <td>644287953    </td>\n",
       "        </tr>\n",
       "        <tr>\n",
       "            <td>8       </td> <td>XXXTENTACION </td> <td>Jocelyn Flores                            </td> <td>1673</td> <td>44             </td> <td>2            </td> <td>(x1)                  </td> <td>3175206     </td> <td>624457164    </td>\n",
       "        </tr>\n",
       "        <tr>\n",
       "            <td>9       </td> <td>XXXTENTACION </td> <td>SAD!                                      </td> <td>1217</td> <td>133            </td> <td>1            </td> <td>(x6)                  </td> <td>4437612     </td> <td>619879245    </td>\n",
       "        </tr>\n",
       "        <tr>\n",
       "            <td>10      </td> <td>Juice WRLD   </td> <td>All Girls Are The Same                    </td> <td>1681</td> <td>2              </td> <td>5            </td> <td>0                     </td> <td>1239152     </td> <td>613872384    </td>\n",
       "        </tr>\n",
       "    </tbody>\n",
       "</table>\n",
       "<p>... (11074 rows omitted)</p>"
      ],
      "text/plain": [
       "Position | Artist Name   | Song Name                                  | Days | Top 10 (xTimes) | Peak Position | Peak Position (xTimes) | Peak Streams | Total Streams\n",
       "1        | Post Malone   | Sunflower  SpiderMan: Into the SpiderVerse | 1506 | 302             | 1             | (x29)                  | 2118242      | 883369738\n",
       "2        | Juice WRLD    | Lucid Dreams                               | 1673 | 178             | 1             | (x20)                  | 2127668      | 864832399\n",
       "3        | Lil Uzi Vert  | XO TOUR Llif3                              | 1853 | 212             | 1             | (x4)                   | 1660502      | 781153024\n",
       "4        | J. Cole       | No Role Modelz                             | 2547 | 6               | 7             | 0                      | 659366       | 734857487\n",
       "5        | Post Malone   | rockstar                                   | 1223 | 186             | 1             | (x124)                 | 2905678      | 718865961\n",
       "6        | Travis Scott  | goosebumps                                 | 1995 | 4               | 8             | 0                      | 977275       | 672972704\n",
       "7        | The Weeknd    | Blinding Lights                            | 1100 | 233             | 1             | (x11)                  | 2355059      | 644287953\n",
       "8        | XXXTENTACION  | Jocelyn Flores                             | 1673 | 44              | 2             | (x1)                   | 3175206      | 624457164\n",
       "9        | XXXTENTACION  | SAD!                                       | 1217 | 133             | 1             | (x6)                   | 4437612      | 619879245\n",
       "10       | Juice WRLD    | All Girls Are The Same                     | 1681 | 2               | 5             | 0                      | 1239152      | 613872384\n",
       "... (11074 rows omitted)"
      ]
     },
     "execution_count": 3,
     "metadata": {},
     "output_type": "execute_result"
    }
   ],
   "source": [
    "spotify"
   ]
  },
  {
   "cell_type": "markdown",
   "id": "de70f580",
   "metadata": {},
   "source": [
    "About 'spotify' \n",
    "\n",
    "One of the biggest music streaming platform, but who's the biggest streamed here? This dataset which is webscrapped and accumulated all the stream metrics of each artist and their respective songs.<br>\n",
    "\n",
    "Position - Spotify Ranking <br>\n",
    "Artist Name - Artist Name <br>\n",
    "Song Name - Song Name <br>\n",
    "Days - No of days since the release of the song (Updated) <br>\n",
    "Top 10 (xTimes) - No of times inside top 10 <br>\n",
    "Peak Position - Peak position attained <br>\n",
    "Peak Position (xTimes) - No of times Peak position attained <br>\n",
    "Peak Streams - Total no of streams during Peak position <br>\n",
    "**Total Streams **- Total song streams"
   ]
  },
  {
   "cell_type": "markdown",
   "id": "d8c3a955",
   "metadata": {},
   "source": [
    "# Comparison Expressions and Operations"
   ]
  },
  {
   "cell_type": "code",
   "execution_count": 4,
   "id": "a629d995",
   "metadata": {},
   "outputs": [
    {
     "data": {
      "text/plain": [
       "False"
      ]
     },
     "execution_count": 4,
     "metadata": {},
     "output_type": "execute_result"
    }
   ],
   "source": [
    "2>3"
   ]
  },
  {
   "cell_type": "code",
   "execution_count": 5,
   "id": "02eadfbe",
   "metadata": {},
   "outputs": [
    {
     "data": {
      "text/plain": [
       "True"
      ]
     },
     "execution_count": 5,
     "metadata": {},
     "output_type": "execute_result"
    }
   ],
   "source": [
    "x = 4\n",
    "x >= 3"
   ]
  },
  {
   "cell_type": "code",
   "execution_count": 6,
   "id": "e8545f51",
   "metadata": {},
   "outputs": [
    {
     "data": {
      "text/plain": [
       "True"
      ]
     },
     "execution_count": 6,
     "metadata": {},
     "output_type": "execute_result"
    }
   ],
   "source": [
    "y = 7\n",
    "x <= y"
   ]
  },
  {
   "cell_type": "code",
   "execution_count": 7,
   "id": "7dc153d6",
   "metadata": {},
   "outputs": [
    {
     "data": {
      "text/plain": [
       "False"
      ]
     },
     "execution_count": 7,
     "metadata": {},
     "output_type": "execute_result"
    }
   ],
   "source": [
    "x == y"
   ]
  },
  {
   "cell_type": "code",
   "execution_count": 8,
   "id": "8c8b5fe0",
   "metadata": {},
   "outputs": [
    {
     "data": {
      "text/plain": [
       "False"
      ]
     },
     "execution_count": 8,
     "metadata": {},
     "output_type": "execute_result"
    }
   ],
   "source": [
    "c = x*3\n",
    "c == 6"
   ]
  },
  {
   "cell_type": "code",
   "execution_count": 9,
   "id": "b6588056",
   "metadata": {},
   "outputs": [
    {
     "data": {
      "text/plain": [
       "True"
      ]
     },
     "execution_count": 9,
     "metadata": {},
     "output_type": "execute_result"
    }
   ],
   "source": [
    "x != 3"
   ]
  },
  {
   "cell_type": "code",
   "execution_count": 11,
   "id": "c5dad1f5",
   "metadata": {},
   "outputs": [
    {
     "name": "stdout",
     "output_type": "stream",
     "text": [
      "4 12 7\n"
     ]
    }
   ],
   "source": [
    "print(x,c,y)"
   ]
  },
  {
   "cell_type": "code",
   "execution_count": 12,
   "id": "f04638b7",
   "metadata": {},
   "outputs": [
    {
     "data": {
      "text/plain": [
       "True"
      ]
     },
     "execution_count": 12,
     "metadata": {},
     "output_type": "execute_result"
    }
   ],
   "source": [
    "x < y < c"
   ]
  },
  {
   "cell_type": "markdown",
   "id": "25e01c7e",
   "metadata": {},
   "source": [
    "# Aggregating Comparisons"
   ]
  },
  {
   "cell_type": "code",
   "execution_count": 14,
   "id": "eeb43081",
   "metadata": {},
   "outputs": [
    {
     "data": {
      "text/plain": [
       "4"
      ]
     },
     "execution_count": 14,
     "metadata": {},
     "output_type": "execute_result"
    }
   ],
   "source": [
    "this = make_array(1,2,3,4,5,6,7,8)\n",
    "sum(this >= 5) #this gives me the number of values that are larger than, or equal to, the number 5 "
   ]
  },
  {
   "cell_type": "code",
   "execution_count": 16,
   "id": "994fc7a6",
   "metadata": {},
   "outputs": [],
   "source": [
    "drinks = make_array('Coffee','Latte','Mocha','Coffee','Frappacino')"
   ]
  },
  {
   "cell_type": "code",
   "execution_count": 17,
   "id": "90b2d41b",
   "metadata": {},
   "outputs": [
    {
     "data": {
      "text/plain": [
       "array([ True, False, False,  True, False], dtype=bool)"
      ]
     },
     "execution_count": 17,
     "metadata": {},
     "output_type": "execute_result"
    }
   ],
   "source": [
    "drinks == 'Coffee'"
   ]
  },
  {
   "cell_type": "code",
   "execution_count": 18,
   "id": "62c95a9a",
   "metadata": {},
   "outputs": [
    {
     "data": {
      "text/plain": [
       "2"
      ]
     },
     "execution_count": 18,
     "metadata": {},
     "output_type": "execute_result"
    }
   ],
   "source": [
    "sum(drinks == 'Coffee')"
   ]
  },
  {
   "cell_type": "code",
   "execution_count": 21,
   "id": "81f23330",
   "metadata": {},
   "outputs": [
    {
     "data": {
      "text/plain": [
       "2"
      ]
     },
     "execution_count": 21,
     "metadata": {},
     "output_type": "execute_result"
    }
   ],
   "source": [
    "np.count_nonzero(drinks == 'Coffee')"
   ]
  },
  {
   "cell_type": "markdown",
   "id": "8f2722e5",
   "metadata": {},
   "source": [
    "## Practice question: "
   ]
  },
  {
   "cell_type": "code",
   "execution_count": 22,
   "id": "4814c984",
   "metadata": {},
   "outputs": [
    {
     "data": {
      "text/html": [
       "<table border=\"1\" class=\"dataframe\">\n",
       "    <thead>\n",
       "        <tr>\n",
       "            <th>Position</th> <th>Artist Name</th> <th>Song Name</th> <th>Days</th> <th>Top 10 (xTimes)</th> <th>Peak Position</th> <th>Peak Position (xTimes)</th> <th>Peak Streams</th> <th>Total Streams</th>\n",
       "        </tr>\n",
       "    </thead>\n",
       "    <tbody>\n",
       "        <tr>\n",
       "            <td>1       </td> <td>Post Malone  </td> <td>Sunflower  SpiderMan: Into the SpiderVerse</td> <td>1506</td> <td>302            </td> <td>1            </td> <td>(x29)                 </td> <td>2118242     </td> <td>883369738    </td>\n",
       "        </tr>\n",
       "        <tr>\n",
       "            <td>2       </td> <td>Juice WRLD   </td> <td>Lucid Dreams                              </td> <td>1673</td> <td>178            </td> <td>1            </td> <td>(x20)                 </td> <td>2127668     </td> <td>864832399    </td>\n",
       "        </tr>\n",
       "        <tr>\n",
       "            <td>3       </td> <td>Lil Uzi Vert </td> <td>XO TOUR Llif3                             </td> <td>1853</td> <td>212            </td> <td>1            </td> <td>(x4)                  </td> <td>1660502     </td> <td>781153024    </td>\n",
       "        </tr>\n",
       "        <tr>\n",
       "            <td>4       </td> <td>J. Cole      </td> <td>No Role Modelz                            </td> <td>2547</td> <td>6              </td> <td>7            </td> <td>0                     </td> <td>659366      </td> <td>734857487    </td>\n",
       "        </tr>\n",
       "        <tr>\n",
       "            <td>5       </td> <td>Post Malone  </td> <td>rockstar                                  </td> <td>1223</td> <td>186            </td> <td>1            </td> <td>(x124)                </td> <td>2905678     </td> <td>718865961    </td>\n",
       "        </tr>\n",
       "        <tr>\n",
       "            <td>6       </td> <td>Travis Scott </td> <td>goosebumps                                </td> <td>1995</td> <td>4              </td> <td>8            </td> <td>0                     </td> <td>977275      </td> <td>672972704    </td>\n",
       "        </tr>\n",
       "        <tr>\n",
       "            <td>7       </td> <td>The Weeknd   </td> <td>Blinding Lights                           </td> <td>1100</td> <td>233            </td> <td>1            </td> <td>(x11)                 </td> <td>2355059     </td> <td>644287953    </td>\n",
       "        </tr>\n",
       "        <tr>\n",
       "            <td>8       </td> <td>XXXTENTACION </td> <td>Jocelyn Flores                            </td> <td>1673</td> <td>44             </td> <td>2            </td> <td>(x1)                  </td> <td>3175206     </td> <td>624457164    </td>\n",
       "        </tr>\n",
       "        <tr>\n",
       "            <td>9       </td> <td>XXXTENTACION </td> <td>SAD!                                      </td> <td>1217</td> <td>133            </td> <td>1            </td> <td>(x6)                  </td> <td>4437612     </td> <td>619879245    </td>\n",
       "        </tr>\n",
       "        <tr>\n",
       "            <td>10      </td> <td>Juice WRLD   </td> <td>All Girls Are The Same                    </td> <td>1681</td> <td>2              </td> <td>5            </td> <td>0                     </td> <td>1239152     </td> <td>613872384    </td>\n",
       "        </tr>\n",
       "    </tbody>\n",
       "</table>\n",
       "<p>... (11074 rows omitted)</p>"
      ],
      "text/plain": [
       "Position | Artist Name   | Song Name                                  | Days | Top 10 (xTimes) | Peak Position | Peak Position (xTimes) | Peak Streams | Total Streams\n",
       "1        | Post Malone   | Sunflower  SpiderMan: Into the SpiderVerse | 1506 | 302             | 1             | (x29)                  | 2118242      | 883369738\n",
       "2        | Juice WRLD    | Lucid Dreams                               | 1673 | 178             | 1             | (x20)                  | 2127668      | 864832399\n",
       "3        | Lil Uzi Vert  | XO TOUR Llif3                              | 1853 | 212             | 1             | (x4)                   | 1660502      | 781153024\n",
       "4        | J. Cole       | No Role Modelz                             | 2547 | 6               | 7             | 0                      | 659366       | 734857487\n",
       "5        | Post Malone   | rockstar                                   | 1223 | 186             | 1             | (x124)                 | 2905678      | 718865961\n",
       "6        | Travis Scott  | goosebumps                                 | 1995 | 4               | 8             | 0                      | 977275       | 672972704\n",
       "7        | The Weeknd    | Blinding Lights                            | 1100 | 233             | 1             | (x11)                  | 2355059      | 644287953\n",
       "8        | XXXTENTACION  | Jocelyn Flores                             | 1673 | 44              | 2             | (x1)                   | 3175206      | 624457164\n",
       "9        | XXXTENTACION  | SAD!                                       | 1217 | 133             | 1             | (x6)                   | 4437612      | 619879245\n",
       "10       | Juice WRLD    | All Girls Are The Same                     | 1681 | 2               | 5             | 0                      | 1239152      | 613872384\n",
       "... (11074 rows omitted)"
      ]
     },
     "execution_count": 22,
     "metadata": {},
     "output_type": "execute_result"
    }
   ],
   "source": [
    "spotify"
   ]
  },
  {
   "cell_type": "markdown",
   "id": "57ea0a76",
   "metadata": {},
   "source": [
    "#### In the cell above, we saved a data table of Spotify Top 10000 streamed songs. Let's load the cell below with an array containing the peak position of each song."
   ]
  },
  {
   "cell_type": "code",
   "execution_count": 24,
   "id": "11c81d8b",
   "metadata": {},
   "outputs": [],
   "source": [
    "spotify_peak = spotify.column('Peak Position')"
   ]
  },
  {
   "cell_type": "code",
   "execution_count": 25,
   "id": "3780f385",
   "metadata": {},
   "outputs": [
    {
     "data": {
      "text/plain": [
       "array([  1,   1,   1, ..., 167, 200, 184])"
      ]
     },
     "execution_count": 25,
     "metadata": {},
     "output_type": "execute_result"
    }
   ],
   "source": [
    "spotify_peak"
   ]
  },
  {
   "cell_type": "markdown",
   "id": "21c7df1e",
   "metadata": {},
   "source": [
    "#### Let's construct an array that tells us whether each song reached the #1 peak position."
   ]
  },
  {
   "cell_type": "code",
   "execution_count": 29,
   "id": "83f39da3",
   "metadata": {},
   "outputs": [
    {
     "data": {
      "text/plain": [
       "array([ True,  True,  True, ..., False, False, False], dtype=bool)"
      ]
     },
     "execution_count": 29,
     "metadata": {},
     "output_type": "execute_result"
    }
   ],
   "source": [
    "did_it_peak = (spotify_peak == 1) #spotify_peak==1 is creating an array that tells me whether the song peaked at #1\n",
    "did_it_peak #, then stored it in the variable I call: 'did_it_peak'"
   ]
  },
  {
   "cell_type": "markdown",
   "id": "2acf5dae",
   "metadata": {},
   "source": [
    "#### Now use the sum function to determine the number of songs in this dataset which peaked at #1. "
   ]
  },
  {
   "cell_type": "code",
   "execution_count": 30,
   "id": "10867f82",
   "metadata": {},
   "outputs": [
    {
     "data": {
      "text/plain": [
       "190"
      ]
     },
     "execution_count": 30,
     "metadata": {},
     "output_type": "execute_result"
    }
   ],
   "source": [
    "sum(did_it_peak)"
   ]
  },
  {
   "cell_type": "code",
   "execution_count": 31,
   "id": "4328243f",
   "metadata": {},
   "outputs": [
    {
     "data": {
      "text/plain": [
       "190"
      ]
     },
     "execution_count": 31,
     "metadata": {},
     "output_type": "execute_result"
    }
   ],
   "source": [
    "np.count_nonzero(did_it_peak)"
   ]
  },
  {
   "cell_type": "markdown",
   "id": "5a214490",
   "metadata": {},
   "source": [
    "#### This line of thinking is *very similar* to a method we have gotten quite familiar with recently. Use that method to verify our solution we just found."
   ]
  },
  {
   "cell_type": "code",
   "execution_count": 35,
   "id": "3b7da5fd",
   "metadata": {},
   "outputs": [
    {
     "data": {
      "text/plain": [
       "190"
      ]
     },
     "execution_count": 35,
     "metadata": {},
     "output_type": "execute_result"
    }
   ],
   "source": [
    "len(spotify.where('Peak Position',are.equal_to(1)).column('Peak Position'))"
   ]
  },
  {
   "cell_type": "code",
   "execution_count": 33,
   "id": "1a48cd10",
   "metadata": {},
   "outputs": [
    {
     "data": {
      "text/plain": [
       "190"
      ]
     },
     "execution_count": 33,
     "metadata": {},
     "output_type": "execute_result"
    }
   ],
   "source": [
    "spotify.where('Peak Position',are.equal_to(1)).num_rows"
   ]
  },
  {
   "cell_type": "markdown",
   "id": "21a1ed63",
   "metadata": {},
   "source": [
    "# Control Statements 'If'"
   ]
  },
  {
   "cell_type": "code",
   "execution_count": 37,
   "id": "f7b7466e",
   "metadata": {},
   "outputs": [
    {
     "data": {
      "text/plain": [
       "'You are 20'"
      ]
     },
     "execution_count": 37,
     "metadata": {},
     "output_type": "execute_result"
    }
   ],
   "source": [
    "x = 20\n",
    "s = 'You are 20'\n",
    "s"
   ]
  },
  {
   "cell_type": "code",
   "execution_count": 38,
   "id": "69f28251",
   "metadata": {},
   "outputs": [
    {
     "data": {
      "text/plain": [
       "'You can legally vote'"
      ]
     },
     "execution_count": 38,
     "metadata": {},
     "output_type": "execute_result"
    }
   ],
   "source": [
    "if x >= 18:\n",
    "    s = 'You can legally vote'\n",
    "s"
   ]
  },
  {
   "cell_type": "code",
   "execution_count": 39,
   "id": "12cd0fb2",
   "metadata": {},
   "outputs": [
    {
     "data": {
      "text/plain": [
       "'You can legally vote'"
      ]
     },
     "execution_count": 39,
     "metadata": {},
     "output_type": "execute_result"
    }
   ],
   "source": [
    "if x >= 21: \n",
    "    s = 'You may enter this bar/nightclub'\n",
    "s "
   ]
  },
  {
   "cell_type": "code",
   "execution_count": 40,
   "id": "39bc4076",
   "metadata": {},
   "outputs": [],
   "source": [
    "x = 25 "
   ]
  },
  {
   "cell_type": "code",
   "execution_count": 41,
   "id": "0e918162",
   "metadata": {},
   "outputs": [
    {
     "data": {
      "text/plain": [
       "'You may enter this bar/nightclub'"
      ]
     },
     "execution_count": 41,
     "metadata": {},
     "output_type": "execute_result"
    }
   ],
   "source": [
    "if x >= 21: \n",
    "    s = 'You may enter this bar/nightclub'\n",
    "s "
   ]
  },
  {
   "cell_type": "code",
   "execution_count": 43,
   "id": "739b46bf",
   "metadata": {},
   "outputs": [],
   "source": [
    "def age(input_age):\n",
    "    if input_age >= 18:\n",
    "        return 'You can legally vote'\n",
    "    if input_age >= 21:\n",
    "        return 'You can legally drink'"
   ]
  },
  {
   "cell_type": "code",
   "execution_count": 48,
   "id": "9c741bcc",
   "metadata": {},
   "outputs": [
    {
     "data": {
      "text/plain": [
       "'You can legally drink milk'"
      ]
     },
     "execution_count": 48,
     "metadata": {},
     "output_type": "execute_result"
    }
   ],
   "source": [
    "age(3)"
   ]
  },
  {
   "cell_type": "code",
   "execution_count": 49,
   "id": "53bb2fff",
   "metadata": {},
   "outputs": [
    {
     "data": {
      "text/plain": [
       "'You can legally vote'"
      ]
     },
     "execution_count": 49,
     "metadata": {},
     "output_type": "execute_result"
    }
   ],
   "source": [
    "age(20)"
   ]
  },
  {
   "cell_type": "code",
   "execution_count": 50,
   "id": "eb36e5f8",
   "metadata": {},
   "outputs": [
    {
     "data": {
      "text/plain": [
       "'You can legally drink'"
      ]
     },
     "execution_count": 50,
     "metadata": {},
     "output_type": "execute_result"
    }
   ],
   "source": [
    "age(25)"
   ]
  },
  {
   "cell_type": "markdown",
   "id": "6f223652",
   "metadata": {},
   "source": [
    "awkward.... Let's fix the age function below:"
   ]
  },
  {
   "cell_type": "code",
   "execution_count": 47,
   "id": "6cd69e2e",
   "metadata": {},
   "outputs": [],
   "source": [
    "def age(input_age):\n",
    "    if input_age >= 21:\n",
    "        return 'You can legally drink'\n",
    "    elif input_age >= 18: #this only gets checked if the 'if' condition above is false\n",
    "        return 'You can legally vote'\n",
    "    else: #only runs if all the if/elif conditions above were false\n",
    "        return 'You can legally drink milk'"
   ]
  },
  {
   "cell_type": "markdown",
   "id": "e2f12abc",
   "metadata": {},
   "source": [
    "# Control Statements 'for' a.k.a. the 'for'-loop"
   ]
  },
  {
   "cell_type": "code",
   "execution_count": 51,
   "id": "0dda059d",
   "metadata": {},
   "outputs": [
    {
     "name": "stdout",
     "output_type": "stream",
     "text": [
      "I love my cat\n",
      "I love my dog\n",
      "I love my rabbit\n",
      "I love my ferret\n"
     ]
    }
   ],
   "source": [
    "for pet in make_array('cat','dog','rabbit','ferret'):\n",
    "    print('I love my '+ pet)"
   ]
  },
  {
   "cell_type": "code",
   "execution_count": 52,
   "id": "5ad058d7",
   "metadata": {},
   "outputs": [
    {
     "data": {
      "text/plain": [
       "array([0, 1, 2, 3, 4])"
      ]
     },
     "execution_count": 52,
     "metadata": {},
     "output_type": "execute_result"
    }
   ],
   "source": [
    "np.arange(5)"
   ]
  },
  {
   "cell_type": "code",
   "execution_count": 53,
   "id": "3ae8a431",
   "metadata": {},
   "outputs": [
    {
     "name": "stdout",
     "output_type": "stream",
     "text": [
      "0\n",
      "1\n",
      "2\n",
      "3\n",
      "4\n"
     ]
    }
   ],
   "source": [
    "for i in np.arange(5):\n",
    "    print(i)"
   ]
  },
  {
   "cell_type": "markdown",
   "id": "e3078a12",
   "metadata": {},
   "source": [
    "#### Exercise:"
   ]
  },
  {
   "cell_type": "markdown",
   "id": "dd30635a",
   "metadata": {},
   "source": [
    "Let's use a for-loop to code for a song that is **extremely** repetitive: \"99 bottles of Beer\"..."
   ]
  },
  {
   "cell_type": "code",
   "execution_count": 54,
   "id": "33f0972e",
   "metadata": {},
   "outputs": [
    {
     "data": {
      "text/plain": [
       "array([99, 98, 97, 96, 95, 94, 93, 92, 91, 90, 89, 88, 87, 86, 85, 84, 83,\n",
       "       82, 81, 80, 79, 78, 77, 76, 75, 74, 73, 72, 71, 70, 69, 68, 67, 66,\n",
       "       65, 64, 63, 62, 61, 60, 59, 58, 57, 56, 55, 54, 53, 52, 51, 50, 49,\n",
       "       48, 47, 46, 45, 44, 43, 42, 41, 40, 39, 38, 37, 36, 35, 34, 33, 32,\n",
       "       31, 30, 29, 28, 27, 26, 25, 24, 23, 22, 21, 20, 19, 18, 17, 16, 15,\n",
       "       14, 13, 12, 11, 10,  9,  8,  7,  6,  5,  4,  3,  2,  1])"
      ]
     },
     "execution_count": 54,
     "metadata": {},
     "output_type": "execute_result"
    }
   ],
   "source": [
    "np.arange(99,0,-1)"
   ]
  },
  {
   "cell_type": "code",
   "execution_count": 56,
   "id": "304cbcb7",
   "metadata": {},
   "outputs": [
    {
     "name": "stdout",
     "output_type": "stream",
     "text": [
      "99 bottles of beer on the wall\n",
      "99 bottles of beer\n",
      "take one down, pass it around\n",
      "98 bottles of beer on the wall\n",
      "98 bottles of beer on the wall\n",
      "98 bottles of beer\n",
      "take one down, pass it around\n",
      "97 bottles of beer on the wall\n",
      "97 bottles of beer on the wall\n",
      "97 bottles of beer\n",
      "take one down, pass it around\n",
      "96 bottles of beer on the wall\n",
      "96 bottles of beer on the wall\n",
      "96 bottles of beer\n",
      "take one down, pass it around\n",
      "95 bottles of beer on the wall\n",
      "95 bottles of beer on the wall\n",
      "95 bottles of beer\n",
      "take one down, pass it around\n",
      "94 bottles of beer on the wall\n",
      "94 bottles of beer on the wall\n",
      "94 bottles of beer\n",
      "take one down, pass it around\n",
      "93 bottles of beer on the wall\n",
      "93 bottles of beer on the wall\n",
      "93 bottles of beer\n",
      "take one down, pass it around\n",
      "92 bottles of beer on the wall\n",
      "92 bottles of beer on the wall\n",
      "92 bottles of beer\n",
      "take one down, pass it around\n",
      "91 bottles of beer on the wall\n",
      "91 bottles of beer on the wall\n",
      "91 bottles of beer\n",
      "take one down, pass it around\n",
      "90 bottles of beer on the wall\n",
      "90 bottles of beer on the wall\n",
      "90 bottles of beer\n",
      "take one down, pass it around\n",
      "89 bottles of beer on the wall\n",
      "89 bottles of beer on the wall\n",
      "89 bottles of beer\n",
      "take one down, pass it around\n",
      "88 bottles of beer on the wall\n",
      "88 bottles of beer on the wall\n",
      "88 bottles of beer\n",
      "take one down, pass it around\n",
      "87 bottles of beer on the wall\n",
      "87 bottles of beer on the wall\n",
      "87 bottles of beer\n",
      "take one down, pass it around\n",
      "86 bottles of beer on the wall\n",
      "86 bottles of beer on the wall\n",
      "86 bottles of beer\n",
      "take one down, pass it around\n",
      "85 bottles of beer on the wall\n",
      "85 bottles of beer on the wall\n",
      "85 bottles of beer\n",
      "take one down, pass it around\n",
      "84 bottles of beer on the wall\n",
      "84 bottles of beer on the wall\n",
      "84 bottles of beer\n",
      "take one down, pass it around\n",
      "83 bottles of beer on the wall\n",
      "83 bottles of beer on the wall\n",
      "83 bottles of beer\n",
      "take one down, pass it around\n",
      "82 bottles of beer on the wall\n",
      "82 bottles of beer on the wall\n",
      "82 bottles of beer\n",
      "take one down, pass it around\n",
      "81 bottles of beer on the wall\n",
      "81 bottles of beer on the wall\n",
      "81 bottles of beer\n",
      "take one down, pass it around\n",
      "80 bottles of beer on the wall\n",
      "80 bottles of beer on the wall\n",
      "80 bottles of beer\n",
      "take one down, pass it around\n",
      "79 bottles of beer on the wall\n",
      "79 bottles of beer on the wall\n",
      "79 bottles of beer\n",
      "take one down, pass it around\n",
      "78 bottles of beer on the wall\n",
      "78 bottles of beer on the wall\n",
      "78 bottles of beer\n",
      "take one down, pass it around\n",
      "77 bottles of beer on the wall\n",
      "77 bottles of beer on the wall\n",
      "77 bottles of beer\n",
      "take one down, pass it around\n",
      "76 bottles of beer on the wall\n",
      "76 bottles of beer on the wall\n",
      "76 bottles of beer\n",
      "take one down, pass it around\n",
      "75 bottles of beer on the wall\n",
      "75 bottles of beer on the wall\n",
      "75 bottles of beer\n",
      "take one down, pass it around\n",
      "74 bottles of beer on the wall\n",
      "74 bottles of beer on the wall\n",
      "74 bottles of beer\n",
      "take one down, pass it around\n",
      "73 bottles of beer on the wall\n",
      "73 bottles of beer on the wall\n",
      "73 bottles of beer\n",
      "take one down, pass it around\n",
      "72 bottles of beer on the wall\n",
      "72 bottles of beer on the wall\n",
      "72 bottles of beer\n",
      "take one down, pass it around\n",
      "71 bottles of beer on the wall\n",
      "71 bottles of beer on the wall\n",
      "71 bottles of beer\n",
      "take one down, pass it around\n",
      "70 bottles of beer on the wall\n",
      "70 bottles of beer on the wall\n",
      "70 bottles of beer\n",
      "take one down, pass it around\n",
      "69 bottles of beer on the wall\n",
      "69 bottles of beer on the wall\n",
      "69 bottles of beer\n",
      "take one down, pass it around\n",
      "68 bottles of beer on the wall\n",
      "68 bottles of beer on the wall\n",
      "68 bottles of beer\n",
      "take one down, pass it around\n",
      "67 bottles of beer on the wall\n",
      "67 bottles of beer on the wall\n",
      "67 bottles of beer\n",
      "take one down, pass it around\n",
      "66 bottles of beer on the wall\n",
      "66 bottles of beer on the wall\n",
      "66 bottles of beer\n",
      "take one down, pass it around\n",
      "65 bottles of beer on the wall\n",
      "65 bottles of beer on the wall\n",
      "65 bottles of beer\n",
      "take one down, pass it around\n",
      "64 bottles of beer on the wall\n",
      "64 bottles of beer on the wall\n",
      "64 bottles of beer\n",
      "take one down, pass it around\n",
      "63 bottles of beer on the wall\n",
      "63 bottles of beer on the wall\n",
      "63 bottles of beer\n",
      "take one down, pass it around\n",
      "62 bottles of beer on the wall\n",
      "62 bottles of beer on the wall\n",
      "62 bottles of beer\n",
      "take one down, pass it around\n",
      "61 bottles of beer on the wall\n",
      "61 bottles of beer on the wall\n",
      "61 bottles of beer\n",
      "take one down, pass it around\n",
      "60 bottles of beer on the wall\n",
      "60 bottles of beer on the wall\n",
      "60 bottles of beer\n",
      "take one down, pass it around\n",
      "59 bottles of beer on the wall\n",
      "59 bottles of beer on the wall\n",
      "59 bottles of beer\n",
      "take one down, pass it around\n",
      "58 bottles of beer on the wall\n",
      "58 bottles of beer on the wall\n",
      "58 bottles of beer\n",
      "take one down, pass it around\n",
      "57 bottles of beer on the wall\n",
      "57 bottles of beer on the wall\n",
      "57 bottles of beer\n",
      "take one down, pass it around\n",
      "56 bottles of beer on the wall\n",
      "56 bottles of beer on the wall\n",
      "56 bottles of beer\n",
      "take one down, pass it around\n",
      "55 bottles of beer on the wall\n",
      "55 bottles of beer on the wall\n",
      "55 bottles of beer\n",
      "take one down, pass it around\n",
      "54 bottles of beer on the wall\n",
      "54 bottles of beer on the wall\n",
      "54 bottles of beer\n",
      "take one down, pass it around\n",
      "53 bottles of beer on the wall\n",
      "53 bottles of beer on the wall\n",
      "53 bottles of beer\n",
      "take one down, pass it around\n",
      "52 bottles of beer on the wall\n",
      "52 bottles of beer on the wall\n",
      "52 bottles of beer\n",
      "take one down, pass it around\n",
      "51 bottles of beer on the wall\n",
      "51 bottles of beer on the wall\n",
      "51 bottles of beer\n",
      "take one down, pass it around\n",
      "50 bottles of beer on the wall\n",
      "50 bottles of beer on the wall\n",
      "50 bottles of beer\n",
      "take one down, pass it around\n",
      "49 bottles of beer on the wall\n",
      "49 bottles of beer on the wall\n",
      "49 bottles of beer\n",
      "take one down, pass it around\n",
      "48 bottles of beer on the wall\n",
      "48 bottles of beer on the wall\n",
      "48 bottles of beer\n",
      "take one down, pass it around\n",
      "47 bottles of beer on the wall\n",
      "47 bottles of beer on the wall\n",
      "47 bottles of beer\n",
      "take one down, pass it around\n",
      "46 bottles of beer on the wall\n",
      "46 bottles of beer on the wall\n",
      "46 bottles of beer\n",
      "take one down, pass it around\n",
      "45 bottles of beer on the wall\n",
      "45 bottles of beer on the wall\n",
      "45 bottles of beer\n",
      "take one down, pass it around\n",
      "44 bottles of beer on the wall\n",
      "44 bottles of beer on the wall\n",
      "44 bottles of beer\n",
      "take one down, pass it around\n",
      "43 bottles of beer on the wall\n",
      "43 bottles of beer on the wall\n",
      "43 bottles of beer\n",
      "take one down, pass it around\n",
      "42 bottles of beer on the wall\n",
      "42 bottles of beer on the wall\n",
      "42 bottles of beer\n",
      "take one down, pass it around\n",
      "41 bottles of beer on the wall\n",
      "41 bottles of beer on the wall\n",
      "41 bottles of beer\n",
      "take one down, pass it around\n",
      "40 bottles of beer on the wall\n",
      "40 bottles of beer on the wall\n",
      "40 bottles of beer\n",
      "take one down, pass it around\n",
      "39 bottles of beer on the wall\n",
      "39 bottles of beer on the wall\n",
      "39 bottles of beer\n",
      "take one down, pass it around\n",
      "38 bottles of beer on the wall\n",
      "38 bottles of beer on the wall\n",
      "38 bottles of beer\n",
      "take one down, pass it around\n",
      "37 bottles of beer on the wall\n",
      "37 bottles of beer on the wall\n",
      "37 bottles of beer\n",
      "take one down, pass it around\n",
      "36 bottles of beer on the wall\n",
      "36 bottles of beer on the wall\n",
      "36 bottles of beer\n",
      "take one down, pass it around\n",
      "35 bottles of beer on the wall\n",
      "35 bottles of beer on the wall\n",
      "35 bottles of beer\n",
      "take one down, pass it around\n",
      "34 bottles of beer on the wall\n",
      "34 bottles of beer on the wall\n",
      "34 bottles of beer\n",
      "take one down, pass it around\n",
      "33 bottles of beer on the wall\n",
      "33 bottles of beer on the wall\n",
      "33 bottles of beer\n",
      "take one down, pass it around\n",
      "32 bottles of beer on the wall\n",
      "32 bottles of beer on the wall\n",
      "32 bottles of beer\n",
      "take one down, pass it around\n",
      "31 bottles of beer on the wall\n",
      "31 bottles of beer on the wall\n",
      "31 bottles of beer\n",
      "take one down, pass it around\n",
      "30 bottles of beer on the wall\n",
      "30 bottles of beer on the wall\n",
      "30 bottles of beer\n",
      "take one down, pass it around\n",
      "29 bottles of beer on the wall\n",
      "29 bottles of beer on the wall\n",
      "29 bottles of beer\n",
      "take one down, pass it around\n",
      "28 bottles of beer on the wall\n",
      "28 bottles of beer on the wall\n",
      "28 bottles of beer\n",
      "take one down, pass it around\n",
      "27 bottles of beer on the wall\n",
      "27 bottles of beer on the wall\n",
      "27 bottles of beer\n",
      "take one down, pass it around\n",
      "26 bottles of beer on the wall\n",
      "26 bottles of beer on the wall\n",
      "26 bottles of beer\n",
      "take one down, pass it around\n",
      "25 bottles of beer on the wall\n",
      "25 bottles of beer on the wall\n",
      "25 bottles of beer\n",
      "take one down, pass it around\n",
      "24 bottles of beer on the wall\n",
      "24 bottles of beer on the wall\n",
      "24 bottles of beer\n",
      "take one down, pass it around\n",
      "23 bottles of beer on the wall\n",
      "23 bottles of beer on the wall\n",
      "23 bottles of beer\n",
      "take one down, pass it around\n",
      "22 bottles of beer on the wall\n",
      "22 bottles of beer on the wall\n",
      "22 bottles of beer\n",
      "take one down, pass it around\n",
      "21 bottles of beer on the wall\n",
      "21 bottles of beer on the wall\n",
      "21 bottles of beer\n",
      "take one down, pass it around\n",
      "20 bottles of beer on the wall\n",
      "20 bottles of beer on the wall\n",
      "20 bottles of beer\n",
      "take one down, pass it around\n",
      "19 bottles of beer on the wall\n",
      "19 bottles of beer on the wall\n",
      "19 bottles of beer\n",
      "take one down, pass it around\n",
      "18 bottles of beer on the wall\n",
      "18 bottles of beer on the wall\n",
      "18 bottles of beer\n",
      "take one down, pass it around\n",
      "17 bottles of beer on the wall\n",
      "17 bottles of beer on the wall\n",
      "17 bottles of beer\n",
      "take one down, pass it around\n",
      "16 bottles of beer on the wall\n",
      "16 bottles of beer on the wall\n",
      "16 bottles of beer\n",
      "take one down, pass it around\n",
      "15 bottles of beer on the wall\n",
      "15 bottles of beer on the wall\n",
      "15 bottles of beer\n",
      "take one down, pass it around\n",
      "14 bottles of beer on the wall\n",
      "14 bottles of beer on the wall\n",
      "14 bottles of beer\n",
      "take one down, pass it around\n",
      "13 bottles of beer on the wall\n",
      "13 bottles of beer on the wall\n",
      "13 bottles of beer\n",
      "take one down, pass it around\n",
      "12 bottles of beer on the wall\n",
      "12 bottles of beer on the wall\n",
      "12 bottles of beer\n",
      "take one down, pass it around\n",
      "11 bottles of beer on the wall\n",
      "11 bottles of beer on the wall\n",
      "11 bottles of beer\n",
      "take one down, pass it around\n",
      "10 bottles of beer on the wall\n",
      "10 bottles of beer on the wall\n",
      "10 bottles of beer\n",
      "take one down, pass it around\n",
      "9 bottles of beer on the wall\n",
      "9 bottles of beer on the wall\n",
      "9 bottles of beer\n",
      "take one down, pass it around\n",
      "8 bottles of beer on the wall\n",
      "8 bottles of beer on the wall\n",
      "8 bottles of beer\n",
      "take one down, pass it around\n",
      "7 bottles of beer on the wall\n",
      "7 bottles of beer on the wall\n",
      "7 bottles of beer\n",
      "take one down, pass it around\n",
      "6 bottles of beer on the wall\n",
      "6 bottles of beer on the wall\n",
      "6 bottles of beer\n",
      "take one down, pass it around\n",
      "5 bottles of beer on the wall\n",
      "5 bottles of beer on the wall\n",
      "5 bottles of beer\n",
      "take one down, pass it around\n",
      "4 bottles of beer on the wall\n",
      "4 bottles of beer on the wall\n",
      "4 bottles of beer\n",
      "take one down, pass it around\n",
      "3 bottles of beer on the wall\n",
      "3 bottles of beer on the wall\n",
      "3 bottles of beer\n",
      "take one down, pass it around\n",
      "2 bottles of beer on the wall\n",
      "2 bottles of beer on the wall\n",
      "2 bottles of beer\n",
      "take one down, pass it around\n",
      "1 bottles of beer on the wall\n",
      "1 bottles of beer on the wall\n",
      "1 bottles of beer\n",
      "take one down, pass it around\n",
      "0 bottles of beer on the wall\n"
     ]
    },
    {
     "data": {
      "text/plain": [
       "1"
      ]
     },
     "execution_count": 56,
     "metadata": {},
     "output_type": "execute_result"
    }
   ],
   "source": [
    "for i in np.arange(99,0,-1):\n",
    "    print(i,'bottles of beer on the wall' )\n",
    "    print(i, 'bottles of beer')\n",
    "    print('take one down, pass it around')\n",
    "    print(i-1,'bottles of beer on the wall')\n",
    "i"
   ]
  },
  {
   "cell_type": "code",
   "execution_count": 57,
   "id": "34b3cda7",
   "metadata": {},
   "outputs": [
    {
     "data": {
      "text/plain": [
       "1"
      ]
     },
     "execution_count": 57,
     "metadata": {},
     "output_type": "execute_result"
    }
   ],
   "source": []
  },
  {
   "cell_type": "markdown",
   "id": "3e935b5e",
   "metadata": {},
   "source": [
    "#### Exercise:"
   ]
  },
  {
   "cell_type": "markdown",
   "id": "ae121f5f",
   "metadata": {},
   "source": [
    "Consider the following string:"
   ]
  },
  {
   "cell_type": "code",
   "execution_count": 58,
   "id": "ee921ae4",
   "metadata": {},
   "outputs": [
    {
     "data": {
      "text/plain": [
       "'The Skyline College STEM Center brings together academic and student support services for students taking science, technology, engineering and math courses.The center supports student success by ensuring students have access to resources such as academic tutoring, counseling services, a resource depository for STEM pathways and transfer, a hub for internships and work based learning opportunities, as well as a place where students and staff can collaborate and build a community and supportive connection. This STEM Center was brought to campus by a U.S. Department of Education, Title V, Developing Hispanic-Serving Institutions Program “Strengthening Pathways to Success in STEM” grant awarded in 2018.'"
      ]
     },
     "execution_count": 58,
     "metadata": {},
     "output_type": "execute_result"
    }
   ],
   "source": [
    "STEM_Center_Webpage_string = 'The Skyline College STEM Center brings together academic and student support services for students taking science, technology, engineering and math courses.The center supports student success by ensuring students have access to resources such as academic tutoring, counseling services, a resource depository for STEM pathways and transfer, a hub for internships and work based learning opportunities, as well as a place where students and staff can collaborate and build a community and supportive connection. This STEM Center was brought to campus by a U.S. Department of Education, Title V, Developing Hispanic-Serving Institutions Program “Strengthening Pathways to Success in STEM” grant awarded in 2018.'\n",
    "STEM_Center_Webpage_string"
   ]
  },
  {
   "cell_type": "markdown",
   "id": "5842838e",
   "metadata": {},
   "source": [
    "We'll use the .split() method to store each word into a list:"
   ]
  },
  {
   "cell_type": "code",
   "execution_count": 61,
   "id": "2d990e11",
   "metadata": {},
   "outputs": [],
   "source": [
    "STEM_split = STEM_Center_Webpage_string.split()\n",
    "#STEM_split"
   ]
  },
  {
   "cell_type": "markdown",
   "id": "018bc281",
   "metadata": {},
   "source": [
    "Now, use a for-loop to check the list to see how many times 'student' is mentioned on the webpage"
   ]
  },
  {
   "cell_type": "code",
   "execution_count": 70,
   "id": "accf16f5",
   "metadata": {},
   "outputs": [
    {
     "data": {
      "text/plain": [
       "5"
      ]
     },
     "execution_count": 70,
     "metadata": {},
     "output_type": "execute_result"
    }
   ],
   "source": [
    "count_when_student_is_mentioned = 0\n",
    "for word in STEM_split:\n",
    "    if word == 'student':\n",
    "        #print('FOUND IT')\n",
    "        count_when_student_is_mentioned = count_when_student_is_mentioned + 1\n",
    "    elif word == 'students':\n",
    "        #print('FOUND PLURAL')\n",
    "        count_when_student_is_mentioned += 1\n",
    "    #print('checked:',word)\n",
    "    \n",
    "count_when_student_is_mentioned"
   ]
  }
 ],
 "metadata": {
  "kernelspec": {
   "display_name": "Python 3 (ipykernel)",
   "language": "python",
   "name": "python3"
  },
  "language_info": {
   "codemirror_mode": {
    "name": "ipython",
    "version": 3
   },
   "file_extension": ".py",
   "mimetype": "text/x-python",
   "name": "python",
   "nbconvert_exporter": "python",
   "pygments_lexer": "ipython3",
   "version": "3.7.8"
  }
 },
 "nbformat": 4,
 "nbformat_minor": 5
}
