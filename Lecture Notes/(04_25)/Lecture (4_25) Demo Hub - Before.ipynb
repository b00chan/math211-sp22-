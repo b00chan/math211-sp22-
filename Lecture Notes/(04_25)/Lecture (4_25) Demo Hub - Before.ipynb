{
 "cells": [
  {
   "cell_type": "markdown",
   "id": "bdfa628c",
   "metadata": {},
   "source": [
    "# Importing our modules"
   ]
  },
  {
   "cell_type": "code",
   "execution_count": null,
   "id": "b3dc7a25",
   "metadata": {},
   "outputs": [],
   "source": [
    "import numpy as np\n",
    "from datascience import *\n",
    "import math as m\n",
    "\n",
    "# These lines do some fancy plotting magic.\n",
    "import matplotlib\n",
    "%matplotlib inline\n",
    "import matplotlib.pyplot as plt\n",
    "plt.style.use('fivethirtyeight')\n",
    "import warnings\n",
    "warnings.simplefilter('ignore', FutureWarning)"
   ]
  },
  {
   "cell_type": "code",
   "execution_count": null,
   "id": "7889dcb2",
   "metadata": {
    "scrolled": false
   },
   "outputs": [],
   "source": [
    "births = Table.read_table('baby.csv')\n",
    "#births"
   ]
  },
  {
   "cell_type": "markdown",
   "id": "fb2a6084",
   "metadata": {},
   "source": [
    "# Demo Request: Project02 Question 2.3"
   ]
  },
  {
   "cell_type": "markdown",
   "id": "3be0ef50",
   "metadata": {},
   "source": [
    "<!-- END QUESTION -->\n",
    "\n",
    "<!-- BEGIN QUESTION -->\n",
    "\n",
    "**Question 2.3.** First, define the table `drought`. It should contain one row per year and the following two columns:\n",
    "- `\"Label\"`: Denotes if a year is part of a `\"drought\"` year or an `\"other\"` year\n",
    "- `\"Precipitation\"`: The sum of the total precipitation in 13 Southwest cities that year\n",
    "\n",
    "Then, construct an overlaid histogram of two observed distributions: the total precipitation in drought years and the total precipitation in other years. \n",
    "\n",
    "*Note*: Use the provided `bins` when creating your histogram, and do not re-assign the `southwest` table. Feel free to use as many lines as you need!\n",
    "\n",
    "*Hint*: The optional `group` argument in a certain function might be helpful!\n",
    "\n",
    "<!--\n",
    "BEGIN QUESTION\n",
    "name: q2_3\n",
    "manual: true\n",
    "-->"
   ]
  },
  {
   "cell_type": "code",
   "execution_count": null,
   "id": "eb58f145",
   "metadata": {},
   "outputs": [],
   "source": [
    "#From Question2.1\n",
    "totals = Table.read_table('total_precipitation.csv')\n",
    "totals.show(5)"
   ]
  },
  {
   "cell_type": "code",
   "execution_count": null,
   "id": "5a036374",
   "metadata": {},
   "outputs": [],
   "source": [
    "# Given function \n",
    "def drought_label(n):\n",
    "    \"\"\"Return the label for an input year n.\"\"\"\n",
    "    if 2002 <= n <= 2005 or 2012 <= n <= 2020:\n",
    "        return 'drought'\n",
    "    else:\n",
    "        return 'other'"
   ]
  },
  {
   "cell_type": "markdown",
   "id": "b92ad149",
   "metadata": {},
   "source": [
    "Let's approach the question:\n",
    "\n",
    "*Hint*: The optional `group` argument in a certain function might be helpful! ->See Question 2.7 of Lab07"
   ]
  },
  {
   "cell_type": "code",
   "execution_count": null,
   "id": "b1ff29e7",
   "metadata": {},
   "outputs": [],
   "source": [
    "bins = np.arange(85, 215+1, 13)\n",
    "drought = ...\n",
    "..."
   ]
  },
  {
   "cell_type": "markdown",
   "id": "0172fe0a",
   "metadata": {},
   "source": [
    "# Mean vs. Median"
   ]
  },
  {
   "cell_type": "markdown",
   "id": "862f2cad",
   "metadata": {},
   "source": [
    "#### Calculating the mean and the median"
   ]
  },
  {
   "cell_type": "code",
   "execution_count": null,
   "id": "34059621",
   "metadata": {},
   "outputs": [],
   "source": [
    "sample_data = make_array(2,3,3,9)\n",
    "print('sample data:',sample_data)\n",
    "print('mean/average:',np.mean(sample_data))\n",
    "print('median:',np.median(sample_data))"
   ]
  },
  {
   "cell_type": "markdown",
   "id": "efce0fbc",
   "metadata": {},
   "source": [
    "#### Visualizing the concept of the mean acting as the 'Center of Gravity"
   ]
  },
  {
   "cell_type": "code",
   "execution_count": null,
   "id": "a892550f",
   "metadata": {},
   "outputs": [],
   "source": [
    "Table().with_column('Sample Data', sample_data).hist(bins=np.arange(0,10,1))\n",
    "plt.ylim(-0.04,0.5)\n",
    "plt.plot([0,10],[0,0],color='grey',lw=2)\n",
    "plt.scatter(np.mean(sample_data),-0.015,marker='^',color='red',s=100)\n",
    "plt.title('Average as a \"Center of Gravity\"')"
   ]
  },
  {
   "cell_type": "markdown",
   "id": "e93907b4",
   "metadata": {},
   "source": [
    "#### A histogram of a Symmetric Distribution (more specifically, a Normal Distribution; Bell-Shaped Curve)"
   ]
  },
  {
   "cell_type": "code",
   "execution_count": null,
   "id": "81bcfc4d",
   "metadata": {},
   "outputs": [],
   "source": [
    "weight_bins = np.arange(50,180,10)\n",
    "births.hist(\"Birth Weight\",bins=weight_bins)"
   ]
  },
  {
   "cell_type": "markdown",
   "id": "5d012e72",
   "metadata": {},
   "source": [
    "#### A Histogram of a Right-Skewed Distribution"
   ]
  },
  {
   "cell_type": "code",
   "execution_count": null,
   "id": "894b6b72",
   "metadata": {},
   "outputs": [],
   "source": [
    "input_values = np.arange(0,15,0.1)\n",
    "exponential_curve = 0.25*m.e**(0.25*input_values)\n",
    "\n",
    "r_skew_bins = np.arange(0,12,1)\n",
    "Table().with_columns('values',exponential_curve).hist(bins=r_skew_bins)"
   ]
  },
  {
   "cell_type": "markdown",
   "id": "244a18eb",
   "metadata": {},
   "source": [
    "#### A Histogram of a Left-Skewed Distribution"
   ]
  },
  {
   "cell_type": "code",
   "execution_count": null,
   "id": "599fc0f5",
   "metadata": {},
   "outputs": [],
   "source": [
    "reverse_exponential = 130 - exponential_curve\n",
    "\n",
    "l_skew_bins = np.arange(118,130,1)\n",
    "Table().with_columns('others',reverse_exponential).hist(bins = l_skew_bins)"
   ]
  },
  {
   "cell_type": "markdown",
   "id": "5bb08f77",
   "metadata": {},
   "source": [
    "## Let's look at the relationship between the Mean and the Median between these different distribution types"
   ]
  },
  {
   "cell_type": "code",
   "execution_count": null,
   "id": "92ffb4af",
   "metadata": {},
   "outputs": [],
   "source": [
    "births.hist(\"Birth Weight\",bins=weight_bins)\n",
    "plt.scatter(np.mean(births.column('Birth Weight')), 0, color='red', zorder=2, s=50, label=\"Mean\")\n",
    "plt.scatter(np.median(births.column('Birth Weight')), 0, color='blue', zorder=2, s=50, label=\"Median\")\n",
    "plt.legend()\n",
    "plt.ylim(-0.001, 0.03); "
   ]
  },
  {
   "cell_type": "code",
   "execution_count": null,
   "id": "b68a330f",
   "metadata": {},
   "outputs": [],
   "source": [
    "Table().with_columns('values',exponential_curve).hist(bins=r_skew_bins)\n",
    "plt.scatter(np.mean(exponential_curve), 0, color='red', zorder=2, s=50, label=\"Mean\")\n",
    "plt.scatter(np.median(exponential_curve), 0, color='blue', zorder=2, s=50, label=\"Median\")\n",
    "plt.legend()\n",
    "plt.ylim(-0.005, 0.37);"
   ]
  },
  {
   "cell_type": "code",
   "execution_count": null,
   "id": "d094b687",
   "metadata": {},
   "outputs": [],
   "source": [
    "Table().with_columns('others',reverse_exponential).hist(bins = l_skew_bins)\n",
    "plt.scatter(np.mean(reverse_exponential), 0, color='red', zorder=2, s=50, label=\"Mean\")\n",
    "plt.scatter(np.median(reverse_exponential), 0, color='blue', zorder=2, s=50, label=\"Median\")\n",
    "plt.legend()\n",
    "plt.ylim(-0.005, 0.37);"
   ]
  },
  {
   "cell_type": "markdown",
   "id": "df22a026",
   "metadata": {},
   "source": [
    "# Quantifying Variability i.e. Standard Deviation"
   ]
  },
  {
   "cell_type": "code",
   "execution_count": null,
   "id": "4a262621",
   "metadata": {},
   "outputs": [],
   "source": [
    "birth_weights = births.column('Birth Weight')\n",
    "print('mean:',np.mean(birth_weights))\n",
    "print('birth weights:',birth_weights)"
   ]
  },
  {
   "cell_type": "code",
   "execution_count": null,
   "id": "ffdc5327",
   "metadata": {},
   "outputs": [],
   "source": []
  },
  {
   "cell_type": "code",
   "execution_count": null,
   "id": "91568fc1",
   "metadata": {},
   "outputs": [],
   "source": []
  },
  {
   "cell_type": "code",
   "execution_count": null,
   "id": "4d610e81",
   "metadata": {},
   "outputs": [],
   "source": []
  },
  {
   "cell_type": "code",
   "execution_count": null,
   "id": "a20b8361",
   "metadata": {},
   "outputs": [],
   "source": []
  },
  {
   "cell_type": "code",
   "execution_count": null,
   "id": "adf81c94",
   "metadata": {},
   "outputs": [],
   "source": [
    "births.drop(5).hist(overlay=False)"
   ]
  },
  {
   "cell_type": "code",
   "execution_count": null,
   "id": "fb5b273c",
   "metadata": {},
   "outputs": [],
   "source": []
  },
  {
   "cell_type": "code",
   "execution_count": null,
   "id": "c7039ad0",
   "metadata": {},
   "outputs": [],
   "source": []
  }
 ],
 "metadata": {
  "kernelspec": {
   "display_name": "Python 3 (ipykernel)",
   "language": "python",
   "name": "python3"
  },
  "language_info": {
   "codemirror_mode": {
    "name": "ipython",
    "version": 3
   },
   "file_extension": ".py",
   "mimetype": "text/x-python",
   "name": "python",
   "nbconvert_exporter": "python",
   "pygments_lexer": "ipython3",
   "version": "3.7.8"
  }
 },
 "nbformat": 4,
 "nbformat_minor": 5
}
