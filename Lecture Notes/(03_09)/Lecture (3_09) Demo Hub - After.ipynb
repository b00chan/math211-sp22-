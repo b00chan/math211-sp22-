{
 "cells": [
  {
   "cell_type": "markdown",
   "id": "2e722978",
   "metadata": {},
   "source": [
    "# Setting up our Modules"
   ]
  },
  {
   "cell_type": "code",
   "execution_count": 2,
   "id": "5647c621",
   "metadata": {},
   "outputs": [],
   "source": [
    "import numpy as np\n",
    "from datascience import *\n",
    "\n",
    "# These lines do some fancy plotting magic.\n",
    "import matplotlib\n",
    "%matplotlib inline\n",
    "import matplotlib.pyplot as plt\n",
    "plt.style.use('fivethirtyeight')\n",
    "import warnings\n",
    "warnings.simplefilter('ignore', FutureWarning)"
   ]
  },
  {
   "cell_type": "code",
   "execution_count": 3,
   "id": "caf3e707",
   "metadata": {},
   "outputs": [],
   "source": [
    "deck = Table.read_table('deck.csv')"
   ]
  },
  {
   "cell_type": "markdown",
   "id": "7db0ebeb",
   "metadata": {},
   "source": [
    "# Demo Question(s)"
   ]
  },
  {
   "cell_type": "markdown",
   "id": "65d2d010",
   "metadata": {},
   "source": [
    "#### The setup is below:"
   ]
  },
  {
   "cell_type": "code",
   "execution_count": null,
   "id": "e15d1dde",
   "metadata": {},
   "outputs": [],
   "source": [
    "#This line \n",
    "population = Table.read_table('population.csv').where(\"time\", are.below(2021))\n",
    "life_expectancy = Table.read_table('life_expectancy.csv').where('time', are.below(2021))\n",
    "child_mortality = Table.read_table('child_mortality.csv').relabel(2, 'child_mortality_under_5_per_1000_born').where('time', are.below(2021))\n",
    "fertility = Table.read_table('fertility.csv').where('time', are.below(2021))"
   ]
  },
  {
   "cell_type": "markdown",
   "id": "81c45783",
   "metadata": {},
   "source": [
    "<!-- BEGIN QUESTION -->\n",
    "\n",
    "**Question 10.** Draw a line plot of the world population from 1800 through 2020 (inclusive of both endpoints). The world population is the sum of all of the countries' populations. You should use the `population` table defined earlier in the project. \n",
    "\n",
    "<!--\n",
    "BEGIN QUESTION\n",
    "name: q1_10\n",
    "manual: True\n",
    "-->"
   ]
  },
  {
   "cell_type": "code",
   "execution_count": null,
   "id": "436f75f4",
   "metadata": {},
   "outputs": [],
   "source": []
  },
  {
   "cell_type": "markdown",
   "id": "a1d4e884",
   "metadata": {},
   "source": [
    "<!-- END QUESTION -->\n",
    "\n",
    "**Question 11.** Create a function `stats_for_year` that takes a `year` and returns a table of statistics. The table it returns should have four columns: `geo`, `population_total`, `children_per_woman_total_fertility`, and `child_mortality_under_5_per_1000_born`. Each row should contain one unique Alpha-3 country code and three statistics: population, fertility rate, and child mortality for that `year` from the `population`, `fertility` and `child_mortality` tables. Only include rows for which all three statistics are available for the country and year.\n",
    "\n",
    "In addition, restrict the result to country codes that appears in `big_50`, an array of the 50 most populous countries in 2020. This restriction will speed up computations later in the project.\n",
    "\n",
    "After you write `stats_for_year`, try calling `stats_for_year` on any year between 1960 and 2020. Try to understand the output of stats_for_year.\n",
    "\n",
    "*Hint*: The tests for this question are quite comprehensive, so if you pass the tests, your function is probably correct. However, without calling your function yourself and looking at the output, it will be very difficult to understand any problems you have, so try your best to write the function correctly and check that it works before you rely on the `grader` tests to confirm your work.\n",
    "\n",
    "*Hint*: What do all three tables have in common (pay attention to column names)?\n",
    "\n",
    "<!--\n",
    "BEGIN QUESTION\n",
    "name: q1_11\n",
    "manual: false\n",
    "points:\n",
    "- 0\n",
    "- 0\n",
    "- 0\n",
    "- 4\n",
    "-->"
   ]
  },
  {
   "cell_type": "code",
   "execution_count": null,
   "id": "fc6eeaf2",
   "metadata": {},
   "outputs": [],
   "source": [
    "# We first create a population table that only includes the \n",
    "# 50 countries with the largest 2020 populations. We focus on \n",
    "# these 50 countries only so that plotting later will run faster.\n",
    "big_50 = population.where('time', are.equal_to(2020)).sort(\"population_total\", descending=True).take(np.arange(50)).column('geo')\n",
    "population_of_big_50 = population.where('time', are.above(1959)).where('geo', are.contained_in(big_50))\n",
    "\n",
    "def stats_for_year(year):\n",
    "    \"\"\"Return a table of the stats for each country that year.\"\"\"\n",
    "    p = population_of_big_50.where('time', are.equal_to(year)).drop('time')\n",
    "    f = fertility.where('time', are.equal_to(year)).drop('time')\n",
    "    c = child_mortality.where('time', are.equal_to(year)).drop('time')\n",
    "    return ...\n",
    "\n",
    "stats_for_year(2020) "
   ]
  },
  {
   "cell_type": "markdown",
   "id": "4676fbcc",
   "metadata": {},
   "source": [
    "**Question 12.** Create a table called `pop_by_decade` with two columns called `decade` and `population`, in this order. It has a row for each year that starts a decade, in increasing order starting with 1960 and ending with 2020. For example, 1960 is the start of the 1960's decade. The `population` column contains the total population of all countries included in the result of `stats_for_year(year)` for the first `year` of the decade. You should see that these countries contain most of the world's population.\n",
    "\n",
    "*Hint:* One approach is to define a function `pop_for_year` that computes this total population, then `apply` it to the `decade` column.  The `stats_for_year` function from the previous question may be useful here.\n",
    "\n",
    "This first test is just a sanity check for your helper function if you choose to use it. You will not lose points for not implementing the function `pop_for_year`.\n",
    "\n",
    "**Note:** The cell where you will generate the `pop_by_decade` table is below the cell where you can choose to define the helper function `pop_for_year`. You should define your `pop_by_decade` table in the cell that starts with the table `decades` being defined. \n",
    "\n",
    "<!--\n",
    "BEGIN QUESTION\n",
    "name: q1_12_0\n",
    "manual: false\n",
    "points: \n",
    "- 0\n",
    "- 0\n",
    "- 0\n",
    "- 0\n",
    "-->"
   ]
  },
  {
   "cell_type": "code",
   "execution_count": null,
   "id": "6575379a",
   "metadata": {},
   "outputs": [],
   "source": [
    "def pop_for_year(year):\n",
    "    \"\"\"Return the total population for the specified year.\"\"\"\n",
    "    return ..."
   ]
  },
  {
   "cell_type": "code",
   "execution_count": null,
   "id": "555be5df",
   "metadata": {},
   "outputs": [],
   "source": [
    "pop_for_year(1960)"
   ]
  },
  {
   "cell_type": "markdown",
   "id": "012e6d44",
   "metadata": {},
   "source": [
    "Now that you've defined your helper function (if you've chosen to do so), define the `pop_by_decade` table.\n",
    "\n",
    "<!--\n",
    "BEGIN QUESTION\n",
    "name: q1_12\n",
    "manual: false\n",
    "points:\n",
    "- 0\n",
    "- 0\n",
    "- 0\n",
    "- 0\n",
    "- 0\n",
    "- 0\n",
    "- 4\n",
    "-->"
   ]
  },
  {
   "cell_type": "code",
   "execution_count": null,
   "id": "d493367e",
   "metadata": {},
   "outputs": [],
   "source": [
    "decades = Table().with_column('decade', np.arange(1960, 2021, 10))\n",
    "\n",
    "pop_by_decade = ...\n",
    "pop_by_decade.set_format(1, NumberFormatter)"
   ]
  },
  {
   "cell_type": "markdown",
   "id": "07edd159",
   "metadata": {},
   "source": [
    "# Random Selection"
   ]
  },
  {
   "cell_type": "markdown",
   "id": "c452c7bd",
   "metadata": {},
   "source": [
    "## 'np.random.choice' will help us produce arrays that are randomly generated"
   ]
  },
  {
   "cell_type": "markdown",
   "id": "950cd357",
   "metadata": {},
   "source": [
    "Consider the array of food we could get at the Sky Cafe here on campus: "
   ]
  },
  {
   "cell_type": "code",
   "execution_count": 4,
   "id": "d257aa09",
   "metadata": {},
   "outputs": [
    {
     "data": {
      "text/plain": [
       "array(['Salad Bar', 'Chicken Tendies', 'Quesadilla', 'Burger',\n",
       "       'Just hella fries', 'Daily Special', 'Sandwich', 'Cup Noodle'],\n",
       "      dtype='<U16')"
      ]
     },
     "execution_count": 4,
     "metadata": {},
     "output_type": "execute_result"
    }
   ],
   "source": [
    "cafe_lunch_options = make_array('Salad Bar','Chicken Tendies','Quesadilla','Burger','Just hella fries',\n",
    "                                'Daily Special','Sandwich','Cup Noodle')\n",
    "cafe_lunch_options"
   ]
  },
  {
   "cell_type": "markdown",
   "id": "c8dc0b94",
   "metadata": {},
   "source": [
    "#### I forgot to bring my lunch from home today, what am I getting? Run the cell below:"
   ]
  },
  {
   "cell_type": "code",
   "execution_count": 18,
   "id": "ee52e43c",
   "metadata": {},
   "outputs": [
    {
     "data": {
      "text/plain": [
       "'Just hella fries'"
      ]
     },
     "execution_count": 18,
     "metadata": {},
     "output_type": "execute_result"
    }
   ],
   "source": [
    "np.random.choice(cafe_lunch_options)"
   ]
  },
  {
   "cell_type": "markdown",
   "id": "b8680c21",
   "metadata": {},
   "source": [
    "#### Denise also forgot hers. She said, \"I don't know, surprise me.\" What are we each getting?"
   ]
  },
  {
   "cell_type": "code",
   "execution_count": 19,
   "id": "e264d023",
   "metadata": {},
   "outputs": [
    {
     "data": {
      "text/plain": [
       "array(['Chicken Tendies', 'Cup Noodle'],\n",
       "      dtype='<U16')"
      ]
     },
     "execution_count": 19,
     "metadata": {},
     "output_type": "execute_result"
    }
   ],
   "source": [
    "np.random.choice(cafe_lunch_options,2)"
   ]
  },
  {
   "cell_type": "markdown",
   "id": "21040bbf",
   "metadata": {},
   "source": [
    "## Appending items to arrays and other arrays to arrays"
   ]
  },
  {
   "cell_type": "code",
   "execution_count": 22,
   "id": "9d692923",
   "metadata": {},
   "outputs": [
    {
     "data": {
      "text/plain": [
       "array([ 3.])"
      ]
     },
     "execution_count": 22,
     "metadata": {},
     "output_type": "execute_result"
    }
   ],
   "source": [
    "this_array = make_array()\n",
    "np.append(this_array,3)"
   ]
  },
  {
   "cell_type": "code",
   "execution_count": 24,
   "id": "04d4853f",
   "metadata": {},
   "outputs": [
    {
     "name": "stdout",
     "output_type": "stream",
     "text": [
      "Just hella fries\n",
      "Sandwich\n",
      "Cup Noodle\n",
      "Daily Special\n",
      "Sandwich\n"
     ]
    },
    {
     "data": {
      "text/plain": [
       "array(['Just hella fries', 'Sandwich', 'Cup Noodle', 'Daily Special',\n",
       "       'Sandwich'],\n",
       "      dtype='<U32')"
      ]
     },
     "execution_count": 24,
     "metadata": {},
     "output_type": "execute_result"
    }
   ],
   "source": [
    "lunch_this_week = make_array()\n",
    "for i in np.arange(5):\n",
    "    this_lunch = np.random.choice(cafe_lunch_options)\n",
    "    print(this_lunch)\n",
    "    lunch_this_week = np.append(lunch_this_week,this_lunch)\n",
    "\n",
    "lunch_this_week    "
   ]
  },
  {
   "cell_type": "code",
   "execution_count": null,
   "id": "1793994b",
   "metadata": {},
   "outputs": [],
   "source": []
  },
  {
   "cell_type": "markdown",
   "id": "3b7fc130",
   "metadata": {},
   "source": [
    "## 'tbl.sample' will help produce smaller tables that are randomly generated"
   ]
  },
  {
   "cell_type": "code",
   "execution_count": 26,
   "id": "281ac73d",
   "metadata": {},
   "outputs": [
    {
     "data": {
      "text/html": [
       "<table border=\"1\" class=\"dataframe\">\n",
       "    <thead>\n",
       "        <tr>\n",
       "            <th>Rank</th> <th>Suit</th>\n",
       "        </tr>\n",
       "    </thead>\n",
       "    <tbody>\n",
       "        <tr>\n",
       "            <td>2   </td> <td>♠︎  </td>\n",
       "        </tr>\n",
       "        <tr>\n",
       "            <td>2   </td> <td>♣︎  </td>\n",
       "        </tr>\n",
       "        <tr>\n",
       "            <td>2   </td> <td>♥︎  </td>\n",
       "        </tr>\n",
       "        <tr>\n",
       "            <td>2   </td> <td>♦︎  </td>\n",
       "        </tr>\n",
       "        <tr>\n",
       "            <td>3   </td> <td>♠︎  </td>\n",
       "        </tr>\n",
       "        <tr>\n",
       "            <td>3   </td> <td>♣︎  </td>\n",
       "        </tr>\n",
       "        <tr>\n",
       "            <td>3   </td> <td>♥︎  </td>\n",
       "        </tr>\n",
       "        <tr>\n",
       "            <td>3   </td> <td>♦︎  </td>\n",
       "        </tr>\n",
       "        <tr>\n",
       "            <td>4   </td> <td>♠︎  </td>\n",
       "        </tr>\n",
       "        <tr>\n",
       "            <td>4   </td> <td>♣︎  </td>\n",
       "        </tr>\n",
       "        <tr>\n",
       "            <td>4   </td> <td>♥︎  </td>\n",
       "        </tr>\n",
       "        <tr>\n",
       "            <td>4   </td> <td>♦︎  </td>\n",
       "        </tr>\n",
       "        <tr>\n",
       "            <td>5   </td> <td>♠︎  </td>\n",
       "        </tr>\n",
       "        <tr>\n",
       "            <td>5   </td> <td>♣︎  </td>\n",
       "        </tr>\n",
       "        <tr>\n",
       "            <td>5   </td> <td>♥︎  </td>\n",
       "        </tr>\n",
       "        <tr>\n",
       "            <td>5   </td> <td>♦︎  </td>\n",
       "        </tr>\n",
       "        <tr>\n",
       "            <td>6   </td> <td>♠︎  </td>\n",
       "        </tr>\n",
       "        <tr>\n",
       "            <td>6   </td> <td>♣︎  </td>\n",
       "        </tr>\n",
       "        <tr>\n",
       "            <td>6   </td> <td>♥︎  </td>\n",
       "        </tr>\n",
       "        <tr>\n",
       "            <td>6   </td> <td>♦︎  </td>\n",
       "        </tr>\n",
       "        <tr>\n",
       "            <td>7   </td> <td>♠︎  </td>\n",
       "        </tr>\n",
       "        <tr>\n",
       "            <td>7   </td> <td>♣︎  </td>\n",
       "        </tr>\n",
       "        <tr>\n",
       "            <td>7   </td> <td>♥︎  </td>\n",
       "        </tr>\n",
       "        <tr>\n",
       "            <td>7   </td> <td>♦︎  </td>\n",
       "        </tr>\n",
       "        <tr>\n",
       "            <td>8   </td> <td>♠︎  </td>\n",
       "        </tr>\n",
       "        <tr>\n",
       "            <td>8   </td> <td>♣︎  </td>\n",
       "        </tr>\n",
       "        <tr>\n",
       "            <td>8   </td> <td>♥︎  </td>\n",
       "        </tr>\n",
       "        <tr>\n",
       "            <td>8   </td> <td>♦︎  </td>\n",
       "        </tr>\n",
       "        <tr>\n",
       "            <td>9   </td> <td>♠︎  </td>\n",
       "        </tr>\n",
       "        <tr>\n",
       "            <td>9   </td> <td>♣︎  </td>\n",
       "        </tr>\n",
       "        <tr>\n",
       "            <td>9   </td> <td>♥︎  </td>\n",
       "        </tr>\n",
       "        <tr>\n",
       "            <td>9   </td> <td>♦︎  </td>\n",
       "        </tr>\n",
       "        <tr>\n",
       "            <td>10  </td> <td>♠︎  </td>\n",
       "        </tr>\n",
       "        <tr>\n",
       "            <td>10  </td> <td>♣︎  </td>\n",
       "        </tr>\n",
       "        <tr>\n",
       "            <td>10  </td> <td>♥︎  </td>\n",
       "        </tr>\n",
       "        <tr>\n",
       "            <td>10  </td> <td>♦︎  </td>\n",
       "        </tr>\n",
       "        <tr>\n",
       "            <td>J   </td> <td>♠︎  </td>\n",
       "        </tr>\n",
       "        <tr>\n",
       "            <td>J   </td> <td>♣︎  </td>\n",
       "        </tr>\n",
       "        <tr>\n",
       "            <td>J   </td> <td>♥︎  </td>\n",
       "        </tr>\n",
       "        <tr>\n",
       "            <td>J   </td> <td>♦︎  </td>\n",
       "        </tr>\n",
       "        <tr>\n",
       "            <td>Q   </td> <td>♠︎  </td>\n",
       "        </tr>\n",
       "        <tr>\n",
       "            <td>Q   </td> <td>♣︎  </td>\n",
       "        </tr>\n",
       "        <tr>\n",
       "            <td>Q   </td> <td>♥︎  </td>\n",
       "        </tr>\n",
       "        <tr>\n",
       "            <td>Q   </td> <td>♦︎  </td>\n",
       "        </tr>\n",
       "        <tr>\n",
       "            <td>K   </td> <td>♠︎  </td>\n",
       "        </tr>\n",
       "        <tr>\n",
       "            <td>K   </td> <td>♣︎  </td>\n",
       "        </tr>\n",
       "        <tr>\n",
       "            <td>K   </td> <td>♥︎  </td>\n",
       "        </tr>\n",
       "        <tr>\n",
       "            <td>K   </td> <td>♦︎  </td>\n",
       "        </tr>\n",
       "        <tr>\n",
       "            <td>A   </td> <td>♠︎  </td>\n",
       "        </tr>\n",
       "        <tr>\n",
       "            <td>A   </td> <td>♣︎  </td>\n",
       "        </tr>\n",
       "        <tr>\n",
       "            <td>A   </td> <td>♥︎  </td>\n",
       "        </tr>\n",
       "        <tr>\n",
       "            <td>A   </td> <td>♦︎  </td>\n",
       "        </tr>\n",
       "    </tbody>\n",
       "</table>"
      ],
      "text/plain": [
       "<IPython.core.display.HTML object>"
      ]
     },
     "metadata": {},
     "output_type": "display_data"
    }
   ],
   "source": [
    "deck.show()"
   ]
  },
  {
   "cell_type": "code",
   "execution_count": 31,
   "id": "893ac82f",
   "metadata": {},
   "outputs": [
    {
     "data": {
      "text/html": [
       "<table border=\"1\" class=\"dataframe\">\n",
       "    <thead>\n",
       "        <tr>\n",
       "            <th>Rank</th> <th>Suit</th>\n",
       "        </tr>\n",
       "    </thead>\n",
       "    <tbody>\n",
       "        <tr>\n",
       "            <td>K   </td> <td>♠︎  </td>\n",
       "        </tr>\n",
       "        <tr>\n",
       "            <td>6   </td> <td>♥︎  </td>\n",
       "        </tr>\n",
       "        <tr>\n",
       "            <td>10  </td> <td>♠︎  </td>\n",
       "        </tr>\n",
       "        <tr>\n",
       "            <td>6   </td> <td>♠︎  </td>\n",
       "        </tr>\n",
       "        <tr>\n",
       "            <td>4   </td> <td>♥︎  </td>\n",
       "        </tr>\n",
       "        <tr>\n",
       "            <td>8   </td> <td>♥︎  </td>\n",
       "        </tr>\n",
       "        <tr>\n",
       "            <td>4   </td> <td>♠︎  </td>\n",
       "        </tr>\n",
       "        <tr>\n",
       "            <td>8   </td> <td>♣︎  </td>\n",
       "        </tr>\n",
       "        <tr>\n",
       "            <td>6   </td> <td>♦︎  </td>\n",
       "        </tr>\n",
       "        <tr>\n",
       "            <td>8   </td> <td>♦︎  </td>\n",
       "        </tr>\n",
       "        <tr>\n",
       "            <td>3   </td> <td>♥︎  </td>\n",
       "        </tr>\n",
       "        <tr>\n",
       "            <td>Q   </td> <td>♠︎  </td>\n",
       "        </tr>\n",
       "        <tr>\n",
       "            <td>Q   </td> <td>♦︎  </td>\n",
       "        </tr>\n",
       "        <tr>\n",
       "            <td>5   </td> <td>♦︎  </td>\n",
       "        </tr>\n",
       "        <tr>\n",
       "            <td>2   </td> <td>♥︎  </td>\n",
       "        </tr>\n",
       "        <tr>\n",
       "            <td>9   </td> <td>♦︎  </td>\n",
       "        </tr>\n",
       "        <tr>\n",
       "            <td>10  </td> <td>♥︎  </td>\n",
       "        </tr>\n",
       "        <tr>\n",
       "            <td>7   </td> <td>♥︎  </td>\n",
       "        </tr>\n",
       "        <tr>\n",
       "            <td>2   </td> <td>♣︎  </td>\n",
       "        </tr>\n",
       "        <tr>\n",
       "            <td>9   </td> <td>♣︎  </td>\n",
       "        </tr>\n",
       "        <tr>\n",
       "            <td>K   </td> <td>♦︎  </td>\n",
       "        </tr>\n",
       "        <tr>\n",
       "            <td>J   </td> <td>♦︎  </td>\n",
       "        </tr>\n",
       "        <tr>\n",
       "            <td>A   </td> <td>♣︎  </td>\n",
       "        </tr>\n",
       "        <tr>\n",
       "            <td>K   </td> <td>♣︎  </td>\n",
       "        </tr>\n",
       "        <tr>\n",
       "            <td>A   </td> <td>♦︎  </td>\n",
       "        </tr>\n",
       "    </tbody>\n",
       "</table>"
      ],
      "text/plain": [
       "<IPython.core.display.HTML object>"
      ]
     },
     "metadata": {},
     "output_type": "display_data"
    }
   ],
   "source": [
    "my_hand = deck.sample(25,with_replacement = False)\n",
    "my_hand.show()"
   ]
  },
  {
   "cell_type": "code",
   "execution_count": null,
   "id": "74df8451",
   "metadata": {},
   "outputs": [],
   "source": []
  },
  {
   "cell_type": "code",
   "execution_count": null,
   "id": "b6595c9d",
   "metadata": {},
   "outputs": [],
   "source": []
  }
 ],
 "metadata": {
  "kernelspec": {
   "display_name": "Python 3 (ipykernel)",
   "language": "python",
   "name": "python3"
  },
  "language_info": {
   "codemirror_mode": {
    "name": "ipython",
    "version": 3
   },
   "file_extension": ".py",
   "mimetype": "text/x-python",
   "name": "python",
   "nbconvert_exporter": "python",
   "pygments_lexer": "ipython3",
   "version": "3.7.8"
  }
 },
 "nbformat": 4,
 "nbformat_minor": 5
}
