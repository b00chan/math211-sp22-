{
 "cells": [
  {
   "cell_type": "markdown",
   "id": "e3fc9750",
   "metadata": {},
   "source": [
    "# Setting up our modules"
   ]
  },
  {
   "cell_type": "code",
   "execution_count": 2,
   "id": "8979276d",
   "metadata": {},
   "outputs": [],
   "source": [
    "import numpy as np\n",
    "from datascience import *"
   ]
  },
  {
   "cell_type": "code",
   "execution_count": null,
   "id": "e6f910ea",
   "metadata": {},
   "outputs": [],
   "source": [
    "spotify = Table.read_table('Spotify_final_dataset.csv')"
   ]
  },
  {
   "cell_type": "code",
   "execution_count": null,
   "id": "e6ccaa63",
   "metadata": {
    "scrolled": false
   },
   "outputs": [],
   "source": [
    "spotify"
   ]
  },
  {
   "cell_type": "markdown",
   "id": "de70f580",
   "metadata": {},
   "source": [
    "About 'spotify' \n",
    "\n",
    "One of the biggest music streaming platform, but who's the biggest streamed here? This dataset which is webscrapped and accumulated all the stream metrics of each artist and their respective songs.<br>\n",
    "\n",
    "Position - Spotify Ranking <br>\n",
    "Artist Name - Artist Name <br>\n",
    "Song Name - Song Name <br>\n",
    "Days - No of days since the release of the song (Updated) <br>\n",
    "Top 10 (xTimes) - No of times inside top 10 <br>\n",
    "Peak Position - Peak position attained <br>\n",
    "Peak Position (xTimes) - No of times Peak position attained <br>\n",
    "Peak Streams - Total no of streams during Peak position <br>\n",
    "**Total Streams **- Total song streams"
   ]
  },
  {
   "cell_type": "markdown",
   "id": "d8c3a955",
   "metadata": {},
   "source": [
    "# Comparison Expressions and Operations"
   ]
  },
  {
   "cell_type": "code",
   "execution_count": null,
   "id": "a629d995",
   "metadata": {},
   "outputs": [],
   "source": [
    "2>3"
   ]
  },
  {
   "cell_type": "code",
   "execution_count": null,
   "id": "02eadfbe",
   "metadata": {},
   "outputs": [],
   "source": [
    "x = 4\n",
    "x >= 3"
   ]
  },
  {
   "cell_type": "code",
   "execution_count": null,
   "id": "e8545f51",
   "metadata": {},
   "outputs": [],
   "source": [
    "y = 7\n",
    "x <= y"
   ]
  },
  {
   "cell_type": "code",
   "execution_count": null,
   "id": "7dc153d6",
   "metadata": {},
   "outputs": [],
   "source": [
    "x == y"
   ]
  },
  {
   "cell_type": "code",
   "execution_count": null,
   "id": "8c8b5fe0",
   "metadata": {},
   "outputs": [],
   "source": [
    "c = x*3\n",
    "c == 6"
   ]
  },
  {
   "cell_type": "code",
   "execution_count": null,
   "id": "b6588056",
   "metadata": {},
   "outputs": [],
   "source": [
    "x != 3"
   ]
  },
  {
   "cell_type": "code",
   "execution_count": null,
   "id": "f04638b7",
   "metadata": {},
   "outputs": [],
   "source": [
    "x < c < y"
   ]
  },
  {
   "cell_type": "markdown",
   "id": "25e01c7e",
   "metadata": {},
   "source": [
    "# Aggregating Comparisons"
   ]
  },
  {
   "cell_type": "code",
   "execution_count": null,
   "id": "eeb43081",
   "metadata": {},
   "outputs": [],
   "source": [
    "this = make_array(1,2,3,4,5,6,7,8)\n",
    "this >= 5"
   ]
  },
  {
   "cell_type": "code",
   "execution_count": null,
   "id": "994fc7a6",
   "metadata": {},
   "outputs": [],
   "source": [
    "drinks = make_array('Coffee','Latte','Mocha','Coffee','Frappacino')"
   ]
  },
  {
   "cell_type": "code",
   "execution_count": null,
   "id": "90b2d41b",
   "metadata": {},
   "outputs": [],
   "source": [
    "drinks == 'Coffee'"
   ]
  },
  {
   "cell_type": "code",
   "execution_count": null,
   "id": "62c95a9a",
   "metadata": {},
   "outputs": [],
   "source": [
    "sum(drinks == 'Coffee')"
   ]
  },
  {
   "cell_type": "markdown",
   "id": "8f2722e5",
   "metadata": {},
   "source": [
    "## Practice question: "
   ]
  },
  {
   "cell_type": "markdown",
   "id": "57ea0a76",
   "metadata": {},
   "source": [
    "#### In the cell above, we saved a data table of Spotify Top 10000 streamed songs. Let's load the cell below with an array containing the peak position of each song."
   ]
  },
  {
   "cell_type": "code",
   "execution_count": null,
   "id": "11c81d8b",
   "metadata": {},
   "outputs": [],
   "source": [
    "..."
   ]
  },
  {
   "cell_type": "markdown",
   "id": "21c7df1e",
   "metadata": {},
   "source": [
    "#### Let's construct an array that tells us whether each song reached the #1 peak position."
   ]
  },
  {
   "cell_type": "code",
   "execution_count": null,
   "id": "83f39da3",
   "metadata": {},
   "outputs": [],
   "source": [
    "..."
   ]
  },
  {
   "cell_type": "markdown",
   "id": "2acf5dae",
   "metadata": {},
   "source": [
    "#### Now use the sum function to determine the number of songs in this dataset which peaked at #1. "
   ]
  },
  {
   "cell_type": "code",
   "execution_count": null,
   "id": "10867f82",
   "metadata": {},
   "outputs": [],
   "source": [
    "sum(...)"
   ]
  },
  {
   "cell_type": "markdown",
   "id": "5a214490",
   "metadata": {},
   "source": [
    "#### This line of thinking is *very similar* to a method we have gotten quite familiar with recently. Use that method to verify our solution we just found."
   ]
  },
  {
   "cell_type": "code",
   "execution_count": null,
   "id": "1a48cd10",
   "metadata": {},
   "outputs": [],
   "source": [
    "spotify.(...)"
   ]
  },
  {
   "cell_type": "markdown",
   "id": "21a1ed63",
   "metadata": {},
   "source": [
    "# Control Statements 'If'"
   ]
  },
  {
   "cell_type": "code",
   "execution_count": null,
   "id": "f7b7466e",
   "metadata": {},
   "outputs": [],
   "source": [
    "x = 20\n",
    "s = 'You are 20'"
   ]
  },
  {
   "cell_type": "code",
   "execution_count": null,
   "id": "69f28251",
   "metadata": {},
   "outputs": [],
   "source": [
    "if x >= 18:\n",
    "    s = 'You can legally vote'\n",
    "s"
   ]
  },
  {
   "cell_type": "code",
   "execution_count": null,
   "id": "12cd0fb2",
   "metadata": {},
   "outputs": [],
   "source": [
    "if x >= 21: \n",
    "    s = 'You may enter this bar/nightclub'\n",
    "s "
   ]
  },
  {
   "cell_type": "code",
   "execution_count": null,
   "id": "39bc4076",
   "metadata": {},
   "outputs": [],
   "source": [
    "x = 25 "
   ]
  },
  {
   "cell_type": "code",
   "execution_count": null,
   "id": "0e918162",
   "metadata": {},
   "outputs": [],
   "source": [
    "if x >= 21: \n",
    "    s = 'You may enter this bar/nightclub'\n",
    "s "
   ]
  },
  {
   "cell_type": "code",
   "execution_count": null,
   "id": "739b46bf",
   "metadata": {},
   "outputs": [],
   "source": [
    "def age(input_age):\n",
    "    if input_age >= 18:\n",
    "        return 'You can legally vote'\n",
    "    if input_age >= 21:\n",
    "        return 'You can legally drink'"
   ]
  },
  {
   "cell_type": "code",
   "execution_count": null,
   "id": "9c741bcc",
   "metadata": {},
   "outputs": [],
   "source": [
    "age(3)"
   ]
  },
  {
   "cell_type": "code",
   "execution_count": null,
   "id": "53bb2fff",
   "metadata": {},
   "outputs": [],
   "source": [
    "age(20)"
   ]
  },
  {
   "cell_type": "code",
   "execution_count": null,
   "id": "eb36e5f8",
   "metadata": {},
   "outputs": [],
   "source": [
    "age(25)"
   ]
  },
  {
   "cell_type": "markdown",
   "id": "6f223652",
   "metadata": {},
   "source": [
    "awkward.... Let's fix the age function below:"
   ]
  },
  {
   "cell_type": "code",
   "execution_count": null,
   "id": "6cd69e2e",
   "metadata": {},
   "outputs": [],
   "source": [
    "def age(input_age):\n",
    "    if input_age >= 21:\n",
    "        return 'You can legally drink'\n",
    "    elif input_age >= 18: #this only gets checked if the 'if' condition above is false\n",
    "        return 'You can legally vote'\n",
    "    else: #only runs if all the if/elif conditions above were false\n",
    "        return 'You can legally drink milk'"
   ]
  },
  {
   "cell_type": "markdown",
   "id": "e2f12abc",
   "metadata": {},
   "source": [
    "# Control Statements 'for' a.k.a. the 'for'-loop"
   ]
  },
  {
   "cell_type": "code",
   "execution_count": null,
   "id": "0dda059d",
   "metadata": {},
   "outputs": [],
   "source": [
    "for pet in make_array('cat','dog','rabbit','ferret'):\n",
    "    print('I love my '+ pet)"
   ]
  },
  {
   "cell_type": "code",
   "execution_count": null,
   "id": "3ae8a431",
   "metadata": {},
   "outputs": [],
   "source": [
    "for i in np.arange(5):\n",
    "    print(i)"
   ]
  },
  {
   "cell_type": "markdown",
   "id": "1adc503d",
   "metadata": {},
   "source": [
    "#### Exercise:"
   ]
  },
  {
   "cell_type": "markdown",
   "id": "7a89ccab",
   "metadata": {},
   "source": [
    "Let's use a for-loop to code for a song that is **extremely** repetitive: \"99 bottles of Beer\"..."
   ]
  },
  {
   "cell_type": "code",
   "execution_count": null,
   "id": "76a8b40e",
   "metadata": {},
   "outputs": [],
   "source": []
  },
  {
   "cell_type": "markdown",
   "id": "883eb37c",
   "metadata": {},
   "source": [
    "#### Exercise:"
   ]
  },
  {
   "cell_type": "markdown",
   "id": "5496bff1",
   "metadata": {},
   "source": [
    "Consider the following string:"
   ]
  },
  {
   "cell_type": "code",
   "execution_count": 6,
   "id": "3fe4c380",
   "metadata": {},
   "outputs": [
    {
     "data": {
      "text/plain": [
       "'The Skyline College STEM Center brings together academic and student support services for students taking science, technology, engineering and math courses.The center supports student success by ensuring students have access to resources such as academic tutoring, counseling services, a resource depository for STEM pathways and transfer, a hub for internships and work based learning opportunities, as well as a place where students and staff can collaborate and build a community and supportive connection. This STEM Center was brought to campus by a U.S. Department of Education, Title V, Developing Hispanic-Serving Institutions Program “Strengthening Pathways to Success in STEM” grant awarded in 2018.'"
      ]
     },
     "execution_count": 6,
     "metadata": {},
     "output_type": "execute_result"
    }
   ],
   "source": [
    "STEM_Center_Webpage_string = 'The Skyline College STEM Center brings together academic and student support services for students taking science, technology, engineering and math courses.The center supports student success by ensuring students have access to resources such as academic tutoring, counseling services, a resource depository for STEM pathways and transfer, a hub for internships and work based learning opportunities, as well as a place where students and staff can collaborate and build a community and supportive connection. This STEM Center was brought to campus by a U.S. Department of Education, Title V, Developing Hispanic-Serving Institutions Program “Strengthening Pathways to Success in STEM” grant awarded in 2018.'\n",
    "STEM_Center_Webpage_string"
   ]
  },
  {
   "cell_type": "markdown",
   "id": "f7c935f0",
   "metadata": {},
   "source": [
    "We'll use the .split() method to store each word into a list:"
   ]
  },
  {
   "cell_type": "code",
   "execution_count": 9,
   "id": "445e6e32",
   "metadata": {},
   "outputs": [],
   "source": [
    "STEM_split = STEM_Center_Webpage_string.split()\n",
    "#STEM_split"
   ]
  },
  {
   "cell_type": "markdown",
   "id": "6070288f",
   "metadata": {},
   "source": [
    "Now, use a for-loop to check the list to see how many times 'student' is mentioned on the webpage"
   ]
  },
  {
   "cell_type": "code",
   "execution_count": null,
   "id": "09d2c9c7",
   "metadata": {},
   "outputs": [],
   "source": []
  }
 ],
 "metadata": {
  "kernelspec": {
   "display_name": "Python 3 (ipykernel)",
   "language": "python",
   "name": "python3"
  },
  "language_info": {
   "codemirror_mode": {
    "name": "ipython",
    "version": 3
   },
   "file_extension": ".py",
   "mimetype": "text/x-python",
   "name": "python",
   "nbconvert_exporter": "python",
   "pygments_lexer": "ipython3",
   "version": "3.7.8"
  }
 },
 "nbformat": 4,
 "nbformat_minor": 5
}
