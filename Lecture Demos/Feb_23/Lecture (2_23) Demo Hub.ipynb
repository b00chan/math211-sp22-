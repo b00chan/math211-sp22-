{
 "cells": [
  {
   "cell_type": "markdown",
   "id": "4ad246d1",
   "metadata": {},
   "source": [
    "# Setting up our modules"
   ]
  },
  {
   "cell_type": "code",
   "execution_count": 1,
   "id": "f1030d21",
   "metadata": {},
   "outputs": [],
   "source": [
    "import numpy as np\n",
    "from datascience import *\n",
    "import random as r"
   ]
  },
  {
   "cell_type": "code",
   "execution_count": 2,
   "id": "fcefb0c8",
   "metadata": {},
   "outputs": [],
   "source": [
    "# These lines set up graphing capabilities.\n",
    "import matplotlib\n",
    "%matplotlib inline\n",
    "import matplotlib.pyplot as plt\n",
    "plt.style.use('fivethirtyeight')\n",
    "import warnings\n",
    "warnings.simplefilter('ignore', FutureWarning)\n",
    "\n",
    "from ipywidgets import interact, interactive, fixed, interact_manual\n",
    "import ipywidgets as widgets"
   ]
  },
  {
   "cell_type": "code",
   "execution_count": 12,
   "id": "6fb7d9c2",
   "metadata": {},
   "outputs": [],
   "source": [
    "session_logs = Table.read_table('session_logs.csv')\n",
    "movies = Table.read_table('Movies - Cleaned.csv')"
   ]
  },
  {
   "cell_type": "markdown",
   "id": "bbd4a7c2",
   "metadata": {},
   "source": [
    "# Grouping Data Demo"
   ]
  },
  {
   "cell_type": "code",
   "execution_count": 24,
   "id": "af7b9113",
   "metadata": {
    "scrolled": true
   },
   "outputs": [
    {
     "data": {
      "text/html": [
       "<table border=\"1\" class=\"dataframe\">\n",
       "    <thead>\n",
       "        <tr>\n",
       "            <th>Services</th> <th>Course</th> <th>SignInTime</th> <th>SignOutTime</th> <th>Period</th> <th>Tutor</th> <th>Instructor</th>\n",
       "        </tr>\n",
       "    </thead>\n",
       "    <tbody>\n",
       "        <tr>\n",
       "            <td>Space to Study (MESA)           </td> <td>nan                                   </td> <td>2/23/2023 8:20 </td> <td>12/31/9999 23:59</td> <td>nan   </td> <td>nan           </td> <td>nan       </td>\n",
       "        </tr>\n",
       "        <tr>\n",
       "            <td>Space to Study (STEM Center)    </td> <td>nan                                   </td> <td>2/23/2023 8:07 </td> <td>2/23/2023 8:15  </td> <td>0:08  </td> <td>nan           </td> <td>nan       </td>\n",
       "        </tr>\n",
       "        <tr>\n",
       "            <td>Space to Study (STEM Center)    </td> <td>nan                                   </td> <td>2/23/2023 8:05 </td> <td>12/31/9999 23:59</td> <td>nan   </td> <td>nan           </td> <td>nan       </td>\n",
       "        </tr>\n",
       "        <tr>\n",
       "            <td>In-person Tutoring (STEM Center)</td> <td>[MATH-211]Introduction to Data Science</td> <td>2/23/2023 8:05 </td> <td>12/31/9999 23:59</td> <td>nan   </td> <td>Bryan Swartout</td> <td>nan       </td>\n",
       "        </tr>\n",
       "        <tr>\n",
       "            <td>Space to Study (STEM Center)    </td> <td>nan                                   </td> <td>2/22/2023 23:55</td> <td>2/22/2023 23:59 </td> <td>0:04  </td> <td>nan           </td> <td>nan       </td>\n",
       "        </tr>\n",
       "    </tbody>\n",
       "</table>\n",
       "<p>... (3729 rows omitted)</p>"
      ],
      "text/plain": [
       "<IPython.core.display.HTML object>"
      ]
     },
     "metadata": {},
     "output_type": "display_data"
    },
    {
     "data": {
      "text/html": [
       "<table border=\"1\" class=\"dataframe\">\n",
       "    <thead>\n",
       "        <tr>\n",
       "            <th>index</th> <th>Title</th> <th>Release Date</th> <th>Year</th> <th>Description</th> <th>URL</th> <th>IMDb Rating</th> <th>Runtime (mins)</th> <th>Genres</th> <th>Num Votes</th> <th>Directors</th> <th>Movie Series</th> <th>Order</th>\n",
       "        </tr>\n",
       "    </thead>\n",
       "    <tbody>\n",
       "        <tr>\n",
       "            <td>0    </td> <td>101 Dalmatians       </td> <td>18-11-1996  </td> <td>1996</td> <td>nan        </td> <td>https://www.imdb.com/title/tt0115433/</td> <td>5.7        </td> <td>103           </td> <td>Adventure, Comedy, Crime, Family</td> <td>98439    </td> <td>Stephen Herek                </td> <td>101 Dalmatians</td> <td>1    </td>\n",
       "        </tr>\n",
       "        <tr>\n",
       "            <td>1    </td> <td>102 Dalmatians       </td> <td>22-11-2000  </td> <td>2000</td> <td>nan        </td> <td>https://www.imdb.com/title/tt0211181/</td> <td>4.9        </td> <td>100           </td> <td>Adventure, Comedy, Family       </td> <td>33823    </td> <td>Kevin Lima                   </td> <td>101 Dalmatians</td> <td>2    </td>\n",
       "        </tr>\n",
       "        <tr>\n",
       "            <td>2    </td> <td>12 Rounds            </td> <td>19-03-2009  </td> <td>2009</td> <td>nan        </td> <td>https://www.imdb.com/title/tt1160368/</td> <td>5.6        </td> <td>108           </td> <td>Action, Crime, Thriller         </td> <td>26828    </td> <td>Renny Harlin                 </td> <td>12 Rounds     </td> <td>1    </td>\n",
       "        </tr>\n",
       "        <tr>\n",
       "            <td>3    </td> <td>12 Rounds 2: Reloaded</td> <td>04-06-2013  </td> <td>2013</td> <td>nan        </td> <td>https://www.imdb.com/title/tt2317524/</td> <td>5.3        </td> <td>95            </td> <td>Action, Adventure, Thriller     </td> <td>5141     </td> <td>Roel Reiné                   </td> <td>12 Rounds     </td> <td>2    </td>\n",
       "        </tr>\n",
       "        <tr>\n",
       "            <td>4    </td> <td>21 Jump Street       </td> <td>12-03-2012  </td> <td>2012</td> <td>nan        </td> <td>https://www.imdb.com/title/tt1232829/</td> <td>7.2        </td> <td>109           </td> <td>Action, Comedy, Crime           </td> <td>498876   </td> <td>Christopher Miller, Phil Lord</td> <td>21 Jump Street</td> <td>1    </td>\n",
       "        </tr>\n",
       "    </tbody>\n",
       "</table>\n",
       "<p>... (861 rows omitted)</p>"
      ],
      "text/plain": [
       "<IPython.core.display.HTML object>"
      ]
     },
     "metadata": {},
     "output_type": "display_data"
    }
   ],
   "source": [
    "session_logs.show(5)\n",
    "movies.show(5)"
   ]
  },
  {
   "cell_type": "markdown",
   "id": "e8e66644",
   "metadata": {},
   "source": [
    "# Space to mess with a few grouping functions"
   ]
  },
  {
   "cell_type": "code",
   "execution_count": null,
   "id": "4030fcc8",
   "metadata": {},
   "outputs": [],
   "source": [
    "#Let's try here - > table.group('column label') or table.group('column label',some_function)\n"
   ]
  },
  {
   "cell_type": "markdown",
   "id": "ec95c507",
   "metadata": {},
   "source": [
    "# Now let's try answering some questions"
   ]
  },
  {
   "cell_type": "markdown",
   "id": "0f45f93a",
   "metadata": {},
   "source": [
    "## Who is the hardest working director in the movie table?"
   ]
  },
  {
   "cell_type": "code",
   "execution_count": null,
   "id": "76c66d40",
   "metadata": {},
   "outputs": [],
   "source": []
  },
  {
   "cell_type": "markdown",
   "id": "89b20ec9",
   "metadata": {},
   "source": [
    "## Question: Which movie series had the most sequels? How many were in the series?"
   ]
  },
  {
   "cell_type": "code",
   "execution_count": null,
   "id": "0a8935cc",
   "metadata": {},
   "outputs": [],
   "source": []
  },
  {
   "cell_type": "markdown",
   "id": "7a451c14",
   "metadata": {},
   "source": [
    "## Question: Which classes had the highest number of tutoring visits in the STEM Center?"
   ]
  },
  {
   "cell_type": "code",
   "execution_count": null,
   "id": "8d7d0ffd",
   "metadata": {},
   "outputs": [],
   "source": []
  },
  {
   "cell_type": "markdown",
   "id": "35437042",
   "metadata": {},
   "source": [
    "## Question: Do sequels perform better (on average) than their originals?"
   ]
  },
  {
   "cell_type": "code",
   "execution_count": null,
   "id": "d6025dd9",
   "metadata": {},
   "outputs": [],
   "source": []
  },
  {
   "cell_type": "markdown",
   "id": "407c9592",
   "metadata": {},
   "source": [
    "## Which date had the highest number of visits to the STEM Center?"
   ]
  },
  {
   "cell_type": "code",
   "execution_count": null,
   "id": "61f43e40",
   "metadata": {},
   "outputs": [],
   "source": []
  }
 ],
 "metadata": {
  "kernelspec": {
   "display_name": "Python 3 (ipykernel)",
   "language": "python",
   "name": "python3"
  },
  "language_info": {
   "codemirror_mode": {
    "name": "ipython",
    "version": 3
   },
   "file_extension": ".py",
   "mimetype": "text/x-python",
   "name": "python",
   "nbconvert_exporter": "python",
   "pygments_lexer": "ipython3",
   "version": "3.7.8"
  }
 },
 "nbformat": 4,
 "nbformat_minor": 5
}
